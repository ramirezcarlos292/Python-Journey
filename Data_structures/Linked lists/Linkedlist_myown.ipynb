{
 "cells": [
  {
   "cell_type": "code",
   "execution_count": 14,
   "id": "0bab9360-9d52-4cd7-85e3-ec4e116e3986",
   "metadata": {},
   "outputs": [],
   "source": [
    "class SinglyNode:\n",
    "    def __init__(self, val, nxt=None):\n",
    "        self.val = val\n",
    "        self.nxt = nxt\n",
    "\n",
    "    def __str__(self):\n",
    "        return str(self.val)"
   ]
  },
  {
   "cell_type": "code",
   "execution_count": 15,
   "id": "b69a25c0-c06d-4a44-8375-c347e5ae87f5",
   "metadata": {},
   "outputs": [],
   "source": [
    "Head = SinglyNode(1)\n",
    "A = SinglyNode(2)\n",
    "B = SinglyNode(3)\n",
    "C = SinglyNode(4)"
   ]
  },
  {
   "cell_type": "code",
   "execution_count": 16,
   "id": "12ffe6fe-1d18-430a-9cd3-fbc6aa1ef1f5",
   "metadata": {},
   "outputs": [],
   "source": [
    "Head.nxt = A\n",
    "A.nxt = B\n",
    "B.nxt = C"
   ]
  },
  {
   "cell_type": "code",
   "execution_count": 18,
   "id": "3c44be42-d828-462f-8418-347eb89f85a9",
   "metadata": {},
   "outputs": [
    {
     "name": "stdout",
     "output_type": "stream",
     "text": [
      "1 -> 2 -> 3 -> 4\n"
     ]
    }
   ],
   "source": [
    "def display(head):\n",
    "    curr = head\n",
    "    elements = []\n",
    "    while curr:\n",
    "        elements.append(str(curr.val))\n",
    "        curr = curr.nxt\n",
    "    print(' -> '.join(elements))\n",
    "\n",
    "display(Head)"
   ]
  },
  {
   "cell_type": "code",
   "execution_count": 19,
   "id": "16aec974-fb58-44a8-b713-b454e4c87f83",
   "metadata": {},
   "outputs": [
    {
     "data": {
      "text/plain": [
       "False"
      ]
     },
     "execution_count": 19,
     "metadata": {},
     "output_type": "execute_result"
    }
   ],
   "source": [
    "def search(head, val):\n",
    "    curr = head\n",
    "    while curr:\n",
    "        if val == curr.val:\n",
    "            return True\n",
    "        curr = curr.nxt\n",
    "    return False\n",
    "\n",
    "search(Head, 7)"
   ]
  },
  {
   "cell_type": "code",
   "execution_count": 20,
   "id": "80eb52c6-1170-4b4e-9371-bf51b1c359a3",
   "metadata": {},
   "outputs": [
    {
     "name": "stdout",
     "output_type": "stream",
     "text": [
      "100 -> 1 -> 2 -> 3 -> 4 -> 1000\n"
     ]
    }
   ],
   "source": [
    "def insert_beginning(head, val):\n",
    "    new_node = SinglyNode(val)\n",
    "    new_node.nxt = head\n",
    "    return new_node\n",
    "\n",
    "def insert_end(head, val):\n",
    "    new_node = SinglyNode(val)\n",
    "    curr = head\n",
    "    while curr.nxt:\n",
    "        curr = curr.nxt\n",
    "    curr.nxt = new_node\n",
    "\n",
    "Head = insert_beginning(Head, 100)\n",
    "insert_end(Head, 1000)\n",
    "display(Head)\n",
    "    \n",
    "    "
   ]
  },
  {
   "cell_type": "code",
   "execution_count": null,
   "id": "f085357d-56e7-458c-a1b1-6caaded3bb65",
   "metadata": {},
   "outputs": [],
   "source": []
  }
 ],
 "metadata": {
  "kernelspec": {
   "display_name": "Python 3 (ipykernel)",
   "language": "python",
   "name": "python3"
  },
  "language_info": {
   "codemirror_mode": {
    "name": "ipython",
    "version": 3
   },
   "file_extension": ".py",
   "mimetype": "text/x-python",
   "name": "python",
   "nbconvert_exporter": "python",
   "pygments_lexer": "ipython3",
   "version": "3.12.9"
  }
 },
 "nbformat": 4,
 "nbformat_minor": 5
}
