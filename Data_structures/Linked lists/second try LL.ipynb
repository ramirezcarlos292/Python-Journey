{
 "cells": [
  {
   "cell_type": "code",
   "execution_count": 1,
   "id": "b12ca97e-94ed-472e-9273-30f0471c91ba",
   "metadata": {},
   "outputs": [],
   "source": [
    "class SinglyNode:\n",
    "    def __init__(self, val, nxt=None):\n",
    "        self.val = val\n",
    "        self.nxt = nxt\n",
    "\n",
    "    def __str__(self):\n",
    "        return str(self.val)"
   ]
  },
  {
   "cell_type": "code",
   "execution_count": 3,
   "id": "6c7e2c9c-0a7e-4b38-8414-dd179a50f38a",
   "metadata": {},
   "outputs": [
    {
     "name": "stdout",
     "output_type": "stream",
     "text": [
      "1\n",
      "2\n",
      "3\n",
      "4\n"
     ]
    }
   ],
   "source": [
    "Head = SinglyNode(1)\n",
    "print(Head)\n",
    "A = SinglyNode(2)\n",
    "print(A)\n",
    "B = SinglyNode(3)\n",
    "print(B)\n",
    "C = SinglyNode(4)\n",
    "print(C)"
   ]
  },
  {
   "cell_type": "code",
   "execution_count": 5,
   "id": "25cc627c-548c-4bd5-8a7f-e0480b2a76f9",
   "metadata": {},
   "outputs": [],
   "source": [
    "Head.nxt = A\n",
    "A.nxt = B\n",
    "B.nxt = C"
   ]
  },
  {
   "cell_type": "code",
   "execution_count": 8,
   "id": "1b6193fd-0d71-4e66-acec-43765a6657ad",
   "metadata": {},
   "outputs": [
    {
     "name": "stdout",
     "output_type": "stream",
     "text": [
      "1 -> 2 -> 3 -> 4\n"
     ]
    }
   ],
   "source": [
    "def traverse(head):\n",
    "    curr = head\n",
    "    elements = []\n",
    "    while curr:\n",
    "        elements.append(str(curr))\n",
    "        curr = curr.nxt\n",
    "    print(' -> '.join(elements))\n",
    "\n",
    "traverse(Head)"
   ]
  },
  {
   "cell_type": "code",
   "execution_count": 11,
   "id": "c9ce99cb-e794-4cd1-b62f-a143969638ce",
   "metadata": {},
   "outputs": [
    {
     "name": "stdout",
     "output_type": "stream",
     "text": [
      "1 -> 2 -> 3 -> 4 -> 1000\n"
     ]
    }
   ],
   "source": [
    "def add_at_end(head, new_node):\n",
    "    curr = head\n",
    "    while curr.nxt:\n",
    "        curr = curr.nxt\n",
    "    curr.nxt = new_node\n",
    "\n",
    "new_node = SinglyNode(1000)\n",
    "add_at_end(Head, new_node)\n",
    "traverse(Head)"
   ]
  },
  {
   "cell_type": "code",
   "execution_count": 12,
   "id": "2ceefc99-c4bc-4823-bb1e-3cdce15ff978",
   "metadata": {},
   "outputs": [
    {
     "name": "stdout",
     "output_type": "stream",
     "text": [
      "0 -> 1 -> 2 -> 3 -> 4 -> 1000\n"
     ]
    }
   ],
   "source": [
    "def add_at_beggining(head, new_node):\n",
    "    new_node.nxt = head\n",
    "    return new_node\n",
    "\n",
    "new_node = SinglyNode(0)\n",
    "Head = add_at_beggining(Head, new_node)\n",
    "traverse(Head)"
   ]
  }
 ],
 "metadata": {
  "kernelspec": {
   "display_name": "Python 3 (ipykernel)",
   "language": "python",
   "name": "python3"
  },
  "language_info": {
   "codemirror_mode": {
    "name": "ipython",
    "version": 3
   },
   "file_extension": ".py",
   "mimetype": "text/x-python",
   "name": "python",
   "nbconvert_exporter": "python",
   "pygments_lexer": "ipython3",
   "version": "3.12.9"
  }
 },
 "nbformat": 4,
 "nbformat_minor": 5
}
