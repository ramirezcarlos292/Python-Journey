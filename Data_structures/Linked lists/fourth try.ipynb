{
 "cells": [
  {
   "cell_type": "code",
   "execution_count": 2,
   "id": "adbfa883-6d83-4a6e-8e2e-3be4bf9b7f48",
   "metadata": {},
   "outputs": [],
   "source": [
    "class SinglyNode:\n",
    "    def __init__(self, val, nxt=None):\n",
    "        self.val = val\n",
    "        self.nxt = nxt\n",
    "\n",
    "    def __str__(self):\n",
    "        return str(self.val)"
   ]
  },
  {
   "cell_type": "code",
   "execution_count": 3,
   "id": "612d9145-157f-4ac7-9a72-3f7710aa8af2",
   "metadata": {},
   "outputs": [
    {
     "name": "stdout",
     "output_type": "stream",
     "text": [
      "1\n"
     ]
    }
   ],
   "source": [
    "print(SinglyNode(1))"
   ]
  },
  {
   "cell_type": "code",
   "execution_count": 8,
   "id": "47ffbb50-e454-4fbe-8aaf-052b0423a18c",
   "metadata": {},
   "outputs": [],
   "source": [
    "Head = SinglyNode(1)\n",
    "A = SinglyNode(2)\n",
    "B = SinglyNode(3)\n",
    "C = SinglyNode(4)"
   ]
  },
  {
   "cell_type": "code",
   "execution_count": 9,
   "id": "7c33c74a-f2b9-4b30-bba5-4e91eb7314cd",
   "metadata": {},
   "outputs": [],
   "source": [
    "Head.nxt = A\n",
    "A.nxt = B\n",
    "B.nxt = C"
   ]
  },
  {
   "cell_type": "code",
   "execution_count": 10,
   "id": "2d9e2d10-121a-42ef-9b3a-2399f19ca301",
   "metadata": {},
   "outputs": [
    {
     "name": "stdout",
     "output_type": "stream",
     "text": [
      "1 -> 2 -> 3 -> 4\n"
     ]
    }
   ],
   "source": [
    "def traverse(head):\n",
    "    curr = head\n",
    "    elements = []\n",
    "    while curr:\n",
    "        elements.append(str(curr))\n",
    "        curr = curr.nxt\n",
    "    print(\" -> \".join(elements))\n",
    "\n",
    "traverse(Head)"
   ]
  },
  {
   "cell_type": "code",
   "execution_count": 11,
   "id": "a4a94afe-c4dc-4166-9736-8f947d680e68",
   "metadata": {},
   "outputs": [
    {
     "name": "stdout",
     "output_type": "stream",
     "text": [
      "1 -> 2 -> 3 -> 4 -> 1000\n"
     ]
    }
   ],
   "source": [
    "new_node = SinglyNode(1000)\n",
    "\n",
    "def append(head, new_node):\n",
    "    curr = head\n",
    "    while curr.nxt:\n",
    "        curr = curr.nxt\n",
    "    curr.nxt = new_node\n",
    "\n",
    "append(Head, new_node)\n",
    "traverse(Head)"
   ]
  },
  {
   "cell_type": "code",
   "execution_count": 12,
   "id": "a1de3405-24b3-4e77-9b59-ff846bc8f81a",
   "metadata": {},
   "outputs": [
    {
     "name": "stdout",
     "output_type": "stream",
     "text": [
      "0 -> 1 -> 2 -> 3 -> 4 -> 1000\n"
     ]
    }
   ],
   "source": [
    "new_node = SinglyNode(0)\n",
    "def insert_beginning(head, new_node):\n",
    "    new_node.nxt = head\n",
    "    return new_node\n",
    "\n",
    "Head = insert_beginning(Head, new_node)\n",
    "traverse(Head)"
   ]
  },
  {
   "cell_type": "code",
   "execution_count": null,
   "id": "55b9f5f9-cd0b-411c-8d78-2e2c24358f69",
   "metadata": {},
   "outputs": [],
   "source": []
  }
 ],
 "metadata": {
  "kernelspec": {
   "display_name": "Python 3 (ipykernel)",
   "language": "python",
   "name": "python3"
  },
  "language_info": {
   "codemirror_mode": {
    "name": "ipython",
    "version": 3
   },
   "file_extension": ".py",
   "mimetype": "text/x-python",
   "name": "python",
   "nbconvert_exporter": "python",
   "pygments_lexer": "ipython3",
   "version": "3.12.9"
  }
 },
 "nbformat": 4,
 "nbformat_minor": 5
}
