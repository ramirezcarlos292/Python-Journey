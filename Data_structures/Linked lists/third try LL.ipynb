{
 "cells": [
  {
   "cell_type": "code",
   "execution_count": 8,
   "id": "1e36ac15-67fa-4d5e-a2e0-bbe94d49c59f",
   "metadata": {},
   "outputs": [],
   "source": [
    "class SinglyNode:\n",
    "    def __init__(self, val, nxt=None):\n",
    "        self.val = val\n",
    "        self.nxt = nxt\n",
    "\n",
    "    def __str__(self):\n",
    "        return str(self.val)"
   ]
  },
  {
   "cell_type": "code",
   "execution_count": 9,
   "id": "1e37ec74-5aae-43b7-8a66-c038ebf72f21",
   "metadata": {},
   "outputs": [
    {
     "name": "stdout",
     "output_type": "stream",
     "text": [
      "2\n"
     ]
    }
   ],
   "source": [
    "Head = SinglyNode(1)\n",
    "A = SinglyNode(2)\n",
    "B = SinglyNode(3)\n",
    "C = SinglyNode(4)\n",
    "print(A)"
   ]
  },
  {
   "cell_type": "code",
   "execution_count": 10,
   "id": "e8127f7f-e80f-4527-997f-7d8694f3e1f9",
   "metadata": {},
   "outputs": [],
   "source": [
    "Head.nxt = A\n",
    "A.nxt = B\n",
    "B.nxt = C"
   ]
  },
  {
   "cell_type": "code",
   "execution_count": 11,
   "id": "098a71ef-e24b-4a48-8f46-ccd541ab3a24",
   "metadata": {},
   "outputs": [
    {
     "name": "stdout",
     "output_type": "stream",
     "text": [
      "1 -> 2 -> 3 -> 4\n"
     ]
    }
   ],
   "source": [
    "def traverse(head):\n",
    "    curr = head\n",
    "    elements = []\n",
    "    while curr:\n",
    "        elements.append(str(curr))\n",
    "        curr = curr.nxt\n",
    "    print(' -> '.join(elements))\n",
    "traverse(Head)"
   ]
  },
  {
   "cell_type": "code",
   "execution_count": 12,
   "id": "d1ed3ff3-8838-45ac-b4c0-a25b16371bee",
   "metadata": {},
   "outputs": [
    {
     "name": "stdout",
     "output_type": "stream",
     "text": [
      "1 -> 2 -> 3 -> 4 -> 1000\n"
     ]
    }
   ],
   "source": [
    "def append_end(head, new_node):\n",
    "    curr = head\n",
    "    while curr.nxt:\n",
    "        curr = curr.nxt\n",
    "    curr.nxt = new_node\n",
    "\n",
    "new_node = SinglyNode(1000)\n",
    "append_end(Head, new_node)\n",
    "traverse(Head)"
   ]
  },
  {
   "cell_type": "code",
   "execution_count": 13,
   "id": "f0cb7d87-e5f5-4602-85ec-3bc7128bf10e",
   "metadata": {},
   "outputs": [
    {
     "name": "stdout",
     "output_type": "stream",
     "text": [
      "0 -> 1 -> 2 -> 3 -> 4 -> 1000\n"
     ]
    }
   ],
   "source": [
    "def append_begin(head, new_node):\n",
    "    new_node.nxt = head\n",
    "    return new_node\n",
    "\n",
    "new_node = SinglyNode(0)\n",
    "Head = append_begin(Head, new_node)\n",
    "traverse(Head)"
   ]
  },
  {
   "cell_type": "code",
   "execution_count": null,
   "id": "73a127f0-0aa8-4736-ac89-d9c50f38f433",
   "metadata": {},
   "outputs": [],
   "source": []
  }
 ],
 "metadata": {
  "kernelspec": {
   "display_name": "Python 3 (ipykernel)",
   "language": "python",
   "name": "python3"
  },
  "language_info": {
   "codemirror_mode": {
    "name": "ipython",
    "version": 3
   },
   "file_extension": ".py",
   "mimetype": "text/x-python",
   "name": "python",
   "nbconvert_exporter": "python",
   "pygments_lexer": "ipython3",
   "version": "3.12.9"
  }
 },
 "nbformat": 4,
 "nbformat_minor": 5
}
