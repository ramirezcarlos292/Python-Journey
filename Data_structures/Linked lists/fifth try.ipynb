{
 "cells": [
  {
   "cell_type": "code",
   "execution_count": 7,
   "id": "202438cd-ce11-4e9c-a3d0-6068a07a72d1",
   "metadata": {},
   "outputs": [],
   "source": [
    "class SinglyNode:\n",
    "    def __init__(self, val, nxt=None):\n",
    "        self.val = val\n",
    "        self.nxt = nxt\n",
    "\n",
    "    def __str__(self):\n",
    "        return str(self.val)"
   ]
  },
  {
   "cell_type": "code",
   "execution_count": 8,
   "id": "06f8b0b9-202a-492f-8a1c-35e894c7f941",
   "metadata": {},
   "outputs": [],
   "source": [
    "Head = SinglyNode(1)\n",
    "A = SinglyNode(2)\n",
    "B = SinglyNode(3)\n",
    "C = SinglyNode(4)"
   ]
  },
  {
   "cell_type": "code",
   "execution_count": 11,
   "id": "b9d294f7-0e9b-4bdf-82da-f0e6748f0705",
   "metadata": {},
   "outputs": [],
   "source": [
    "Head.nxt = A\n",
    "A.nxt = B\n",
    "B.nxt = C"
   ]
  },
  {
   "cell_type": "code",
   "execution_count": 12,
   "id": "7b80e2cd-61d2-480b-9281-921ad37b4b25",
   "metadata": {},
   "outputs": [
    {
     "name": "stdout",
     "output_type": "stream",
     "text": [
      "1 -> 2 -> 3 -> 4\n"
     ]
    }
   ],
   "source": [
    "def traverse(head):\n",
    "    curr = head\n",
    "    elements = []\n",
    "    while curr:\n",
    "        elements.append(str(curr))\n",
    "        curr = curr.nxt\n",
    "    print(\" -> \".join(elements))\n",
    "\n",
    "traverse(Head)"
   ]
  },
  {
   "cell_type": "code",
   "execution_count": 14,
   "id": "fe06f58e-2dba-49ee-9d1c-6053953c50ca",
   "metadata": {},
   "outputs": [
    {
     "name": "stdout",
     "output_type": "stream",
     "text": [
      "1 -> 2 -> 3 -> 4 -> 1000\n"
     ]
    }
   ],
   "source": [
    "def add_end(head, new_node):\n",
    "    curr = head\n",
    "    while curr.nxt:\n",
    "        curr = curr.nxt\n",
    "    curr.nxt = new_node\n",
    "\n",
    "new_node = SinglyNode(1000)\n",
    "add_end(Head, new_node)\n",
    "traverse(Head)"
   ]
  },
  {
   "cell_type": "code",
   "execution_count": 15,
   "id": "d83f8a7e-1fb0-4303-b910-4e82bd309d69",
   "metadata": {},
   "outputs": [
    {
     "name": "stdout",
     "output_type": "stream",
     "text": [
      "0 -> 1 -> 2 -> 3 -> 4 -> 1000\n"
     ]
    }
   ],
   "source": [
    "def add_begin(head, new_node):\n",
    "    new_node.nxt = head\n",
    "    return new_node\n",
    "\n",
    "new_node = SinglyNode(0)\n",
    "Head = add_begin(Head, new_node)\n",
    "traverse(Head)"
   ]
  },
  {
   "cell_type": "code",
   "execution_count": null,
   "id": "b3e9cdcb-27a1-424a-a553-a1bd83bfbffc",
   "metadata": {},
   "outputs": [],
   "source": []
  }
 ],
 "metadata": {
  "kernelspec": {
   "display_name": "Python 3 (ipykernel)",
   "language": "python",
   "name": "python3"
  },
  "language_info": {
   "codemirror_mode": {
    "name": "ipython",
    "version": 3
   },
   "file_extension": ".py",
   "mimetype": "text/x-python",
   "name": "python",
   "nbconvert_exporter": "python",
   "pygments_lexer": "ipython3",
   "version": "3.12.9"
  }
 },
 "nbformat": 4,
 "nbformat_minor": 5
}
