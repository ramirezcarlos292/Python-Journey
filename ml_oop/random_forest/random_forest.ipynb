{
 "cells": [
  {
   "cell_type": "code",
   "execution_count": 36,
   "id": "e41415b7-4bef-4105-9974-cd985cfdd397",
   "metadata": {},
   "outputs": [],
   "source": [
    "from sklearn.model_selection import GridSearchCV, RandomizedSearchCV, train_test_split\n",
    "from sklearn.ensemble import RandomForestClassifier\n",
    "from sklearn.metrics import classification_report, confusion_matrix\n",
    "from sklearn import datasets\n",
    "from scipy.stats import randint"
   ]
  },
  {
   "cell_type": "markdown",
   "id": "e5e75cb4-1251-4dbf-9273-da7006ca09a3",
   "metadata": {},
   "source": [
    "## Data"
   ]
  },
  {
   "cell_type": "code",
   "execution_count": 25,
   "id": "c43467b9-4200-494d-b4db-16f2af0797e0",
   "metadata": {},
   "outputs": [],
   "source": [
    "iris = datasets.load_iris()\n",
    "X_train, X_test, y_train, y_test = train_test_split(iris.data, iris.target, test_size=0.33)"
   ]
  },
  {
   "cell_type": "markdown",
   "id": "207020cc-0964-425b-b3c1-dbafcb6d64c6",
   "metadata": {},
   "source": [
    "## Random Forest with GridSearch Parametric"
   ]
  },
  {
   "cell_type": "code",
   "execution_count": 29,
   "id": "d8cbfe63-008e-45d7-b018-3a33f6a6cab2",
   "metadata": {},
   "outputs": [],
   "source": [
    "class RandomForestModel1:\n",
    "    def __init__(self):\n",
    "        self.model = RandomForestClassifier()\n",
    "\n",
    "    def train(self, X, y, param_grid):\n",
    "        grid_search = GridSearchCV(self.model, param_grid, cv=5)\n",
    "        grid_search.fit(X, y)\n",
    "        self.best_model = grid_search.best_estimator_\n",
    "        return grid_search.best_params_\n",
    "\n",
    "    def predict(self, X):\n",
    "        return self.best_model.predict(X)"
   ]
  },
  {
   "cell_type": "code",
   "execution_count": 30,
   "id": "8cd6ef33-2c67-4808-a307-7fd8a26bd260",
   "metadata": {},
   "outputs": [
    {
     "name": "stdout",
     "output_type": "stream",
     "text": [
      "Best parameters found: {'max_depth': None, 'min_samples_split': 5, 'n_estimators': 100}\n"
     ]
    }
   ],
   "source": [
    "param_grid1 = {\n",
    "    'n_estimators': [50, 100, 200],\n",
    "    'max_depth':[None, 10, 20, 30],\n",
    "    'min_samples_split': [2, 5, 10]\n",
    "}\n",
    "\n",
    "rf_model = RandomForestModel1()\n",
    "best_params = rf_model.train(X_train, y_train, param_grid1)\n",
    "\n",
    "print(f\"Best parameters found: {best_params}\")"
   ]
  },
  {
   "cell_type": "code",
   "execution_count": 31,
   "id": "b4fbfffb-787e-4f37-8d4b-414c2840b885",
   "metadata": {},
   "outputs": [],
   "source": [
    "y_pred = rf_model.predict(X_test)"
   ]
  },
  {
   "cell_type": "code",
   "execution_count": 32,
   "id": "8e2a7383-301d-4044-8097-7635fb0eb5f6",
   "metadata": {},
   "outputs": [
    {
     "name": "stdout",
     "output_type": "stream",
     "text": [
      "classification report: \n",
      "              precision    recall  f1-score   support\n",
      "\n",
      "           0       1.00      1.00      1.00        19\n",
      "           1       0.94      0.88      0.91        17\n",
      "           2       0.87      0.93      0.90        14\n",
      "\n",
      "    accuracy                           0.94        50\n",
      "   macro avg       0.93      0.94      0.94        50\n",
      "weighted avg       0.94      0.94      0.94        50\n",
      "\n"
     ]
    }
   ],
   "source": [
    "print(f\"classification report: \\n{classification_report(y_test, y_pred)}\")"
   ]
  },
  {
   "cell_type": "code",
   "execution_count": 33,
   "id": "4ed19930-b449-4e1b-8d1c-acbf3848f8dc",
   "metadata": {},
   "outputs": [
    {
     "name": "stdout",
     "output_type": "stream",
     "text": [
      "confusion matrix: \n",
      "[[19  0  0]\n",
      " [ 0 15  2]\n",
      " [ 0  1 13]]\n"
     ]
    }
   ],
   "source": [
    "print(f\"confusion matrix: \\n{confusion_matrix(y_test, y_pred)}\")"
   ]
  },
  {
   "cell_type": "markdown",
   "id": "ef3c95d4-8553-4cc6-b4fa-571e76833387",
   "metadata": {},
   "source": [
    "## Random Forest with RandomizedSearch"
   ]
  },
  {
   "cell_type": "code",
   "execution_count": 37,
   "id": "34397010-e807-4b40-9903-c4deefef8873",
   "metadata": {},
   "outputs": [],
   "source": [
    "class RandomForestModel2:\n",
    "    def __init__(self):\n",
    "        self.model = RandomForestClassifier()\n",
    "\n",
    "    def train(self, X, y, param_dist, n_iter_search=10):\n",
    "        randomized_search = RandomizedSearchCV(self.model, param_dist, n_iter = n_iter_search, cv=5)\n",
    "        randomized_search.fit(X, y)\n",
    "        self.best_model = randomized_search.best_estimator_\n",
    "        return randomized_search.best_params_\n",
    "\n",
    "    def predict(self, X):\n",
    "        return self.best_model.predict(X)"
   ]
  },
  {
   "cell_type": "code",
   "execution_count": 38,
   "id": "07a258b5-619f-4af6-8303-b6dbf6e49790",
   "metadata": {},
   "outputs": [
    {
     "name": "stdout",
     "output_type": "stream",
     "text": [
      "Best Parameters found:  {'max_depth': 33, 'min_samples_split': 4, 'n_estimators': 95}\n"
     ]
    }
   ],
   "source": [
    "param_dist = {\n",
    "    'n_estimators': randint(50, 200),\n",
    "    'max_depth': randint(10, 50),\n",
    "    'min_samples_split': randint(2, 10)\n",
    "}\n",
    "\n",
    "rf_model = RandomForestModel2()\n",
    "best_params = rf_model.train(X_train, y_train, param_dist)\n",
    "\n",
    "print(\"Best Parameters found: \", best_params)\n",
    "\n",
    "y_pred = rf_model.predict(X_test)"
   ]
  },
  {
   "cell_type": "code",
   "execution_count": 40,
   "id": "8e722883-ec07-4c3c-b97a-e2f7dce7e8a8",
   "metadata": {},
   "outputs": [
    {
     "name": "stdout",
     "output_type": "stream",
     "text": [
      "Classification report: \n",
      "              precision    recall  f1-score   support\n",
      "\n",
      "           0       1.00      1.00      1.00        19\n",
      "           1       0.94      0.88      0.91        17\n",
      "           2       0.87      0.93      0.90        14\n",
      "\n",
      "    accuracy                           0.94        50\n",
      "   macro avg       0.93      0.94      0.94        50\n",
      "weighted avg       0.94      0.94      0.94        50\n",
      "\n"
     ]
    }
   ],
   "source": [
    "print(f\"Classification report: \\n{classification_report(y_test, y_pred)}\")"
   ]
  },
  {
   "cell_type": "code",
   "execution_count": 41,
   "id": "752539f1-2d3f-40ee-a74e-c0bae1cd8003",
   "metadata": {},
   "outputs": [
    {
     "name": "stdout",
     "output_type": "stream",
     "text": [
      "Confusion Matrix :\n",
      "[[19  0  0]\n",
      " [ 0 15  2]\n",
      " [ 0  1 13]]\n"
     ]
    }
   ],
   "source": [
    "print(f\"Confusion Matrix :\\n{confusion_matrix(y_test, y_pred)}\")"
   ]
  },
  {
   "cell_type": "code",
   "execution_count": null,
   "id": "9dd2e536-ccf5-4b6c-96c7-3021db058ca3",
   "metadata": {},
   "outputs": [],
   "source": []
  }
 ],
 "metadata": {
  "kernelspec": {
   "display_name": "Python 3 (ipykernel)",
   "language": "python",
   "name": "python3"
  },
  "language_info": {
   "codemirror_mode": {
    "name": "ipython",
    "version": 3
   },
   "file_extension": ".py",
   "mimetype": "text/x-python",
   "name": "python",
   "nbconvert_exporter": "python",
   "pygments_lexer": "ipython3",
   "version": "3.10.12"
  }
 },
 "nbformat": 4,
 "nbformat_minor": 5
}
