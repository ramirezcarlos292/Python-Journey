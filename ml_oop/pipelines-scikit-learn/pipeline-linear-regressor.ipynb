{
 "cells": [
  {
   "cell_type": "code",
   "execution_count": 1,
   "id": "b388de65-9f4a-47a2-ba56-5fc5d3583529",
   "metadata": {},
   "outputs": [],
   "source": [
    "from sklearn.pipeline import Pipeline\n",
    "from sklearn.preprocessing import StandardScaler, PolynomialFeatures\n",
    "from sklearn.linear_model import LinearRegression\n",
    "from sklearn.model_selection import train_test_split, GridSearchCV\n",
    "from sklearn.datasets import make_regression"
   ]
  },
  {
   "cell_type": "code",
   "execution_count": 2,
   "id": "bed9b16a-d6f2-45c1-b8e1-e48ea1e8aab3",
   "metadata": {},
   "outputs": [],
   "source": [
    "class RegressionPipeline:\n",
    "    def __init__(self):\n",
    "        self.pipeline = Pipeline([\n",
    "            ('scaler', StandardScaler()),\n",
    "            ('poly', PolynomialFeatures(degree=2)),\n",
    "            ('regressor', LinearRegression())\n",
    "        ])\n",
    "\n",
    "    def train(self, X, y, param_grid=None):\n",
    "        if param_grid:\n",
    "            grid_search = GridSearchCV(self.pipeline, param_grid, cv=5)\n",
    "            grid_search.fit(X, y)\n",
    "            self.best_pipeline = grid_search.best_estimator_\n",
    "            return grid_search.best_params_\n",
    "        else:\n",
    "            self.pipeline.fit(X, y)\n",
    "            self.best_pipeline = self.pipeline\n",
    "\n",
    "    def predict(self, X):\n",
    "        return self.best_pipeline.predict(X)"
   ]
  },
  {
   "cell_type": "code",
   "execution_count": 3,
   "id": "91ad96c7-2a73-448b-838e-dd4fea02b2cc",
   "metadata": {},
   "outputs": [],
   "source": [
    "# Generate some sample data\n",
    "X, y = make_regression(n_samples=100, n_features=2, noise=0.1)\n",
    "X_train, X_test, y_train, y_test = train_test_split(X, y, test_size=0.2, random_state=42)"
   ]
  },
  {
   "cell_type": "code",
   "execution_count": 4,
   "id": "8f350cac-35f1-40e9-a409-945d75532098",
   "metadata": {},
   "outputs": [],
   "source": [
    "# Define parameter grid for Grid Search\n",
    "param_grid = {\n",
    "    'poly__degree': [1, 2, 3],\n",
    "    'regressor__fit_intercept': [True, False]\n",
    "}"
   ]
  },
  {
   "cell_type": "code",
   "execution_count": 5,
   "id": "698fc41a-6f45-40f3-8f84-3d427ce70579",
   "metadata": {},
   "outputs": [
    {
     "name": "stdout",
     "output_type": "stream",
     "text": [
      "Best parameters found:  {'poly__degree': 3, 'regressor__fit_intercept': True}\n"
     ]
    }
   ],
   "source": [
    "# Create and train the pipeline\n",
    "reg_pipeline = RegressionPipeline()\n",
    "best_params = reg_pipeline.train(X_train, y_train, param_grid)\n",
    "print(\"Best parameters found: \", best_params)"
   ]
  },
  {
   "cell_type": "code",
   "execution_count": 6,
   "id": "ecd483d9-1cd0-47e8-ab51-6df319242a43",
   "metadata": {},
   "outputs": [
    {
     "name": "stdout",
     "output_type": "stream",
     "text": [
      "[ 32.62433093   5.75770084 -37.53980323 -27.10215657  -6.91357607\n",
      "   1.93923684  16.29665491 -14.67719154  14.95075201  11.31707244\n",
      "  17.58467283   9.10053779  12.37004553 -15.12207965  24.87181304\n",
      "  -7.27316691  -5.09480992   5.09675407  22.80621303   4.7507837 ]\n"
     ]
    }
   ],
   "source": [
    "# Make predictions\n",
    "predictions = reg_pipeline.predict(X_test)\n",
    "print(predictions)"
   ]
  }
 ],
 "metadata": {
  "kernelspec": {
   "display_name": "Python 3 (ipykernel)",
   "language": "python",
   "name": "python3"
  },
  "language_info": {
   "codemirror_mode": {
    "name": "ipython",
    "version": 3
   },
   "file_extension": ".py",
   "mimetype": "text/x-python",
   "name": "python",
   "nbconvert_exporter": "python",
   "pygments_lexer": "ipython3",
   "version": "3.10.12"
  }
 },
 "nbformat": 4,
 "nbformat_minor": 5
}
