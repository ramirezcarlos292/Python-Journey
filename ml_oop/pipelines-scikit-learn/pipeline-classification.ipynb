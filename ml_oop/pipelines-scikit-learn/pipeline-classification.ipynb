{
 "cells": [
  {
   "cell_type": "code",
   "execution_count": 1,
   "id": "81c4ad58-af9d-444c-a663-7abc2257a56a",
   "metadata": {},
   "outputs": [],
   "source": [
    "from sklearn.datasets import load_diabetes\n",
    "from sklearn.model_selection import train_test_split\n",
    "from sklearn.preprocessing import StandardScaler\n",
    "from sklearn.linear_model import LinearRegression\n",
    "from sklearn.pipeline import Pipeline\n",
    "from sklearn.metrics import mean_squared_error, r2_score"
   ]
  },
  {
   "cell_type": "code",
   "execution_count": 2,
   "id": "863b51f0-3b45-4e07-810c-50c4f3b4f62c",
   "metadata": {},
   "outputs": [],
   "source": [
    "class DiabetesPipeline:\n",
    "    def __init__(self):\n",
    "        # Define the pipeline with preprocessing and model steps\n",
    "        self.pipeline = Pipeline([\n",
    "            ('scaler', StandardScaler()),\n",
    "            ('regressor', LinearRegression())\n",
    "        ])\n",
    "    \n",
    "    def train(self, X, y):\n",
    "        # Train the pipeline on the training data\n",
    "        self.pipeline.fit(X, y)\n",
    "    \n",
    "    def predict(self, X):\n",
    "        # Make predictions using the pipeline\n",
    "        return self.pipeline.predict(X)\n",
    "    \n",
    "    def evaluate(self, X, y):\n",
    "        # Evaluate the pipeline's performance\n",
    "        predictions = self.predict(X)\n",
    "        mse = mean_squared_error(y, predictions)\n",
    "        r2 = r2_score(y, predictions)\n",
    "        return mse, r2"
   ]
  },
  {
   "cell_type": "code",
   "execution_count": 3,
   "id": "30f00a58-dc1d-4fb3-b714-cf1de21289ba",
   "metadata": {},
   "outputs": [],
   "source": [
    "# Load the diabetes dataset\n",
    "diabetes = load_diabetes()\n",
    "X = diabetes.data\n",
    "y = diabetes.target"
   ]
  },
  {
   "cell_type": "code",
   "execution_count": 4,
   "id": "45149a0c-4a2b-43c6-a1c4-22d5a76dab75",
   "metadata": {},
   "outputs": [],
   "source": [
    "# Split the dataset into training and testing sets\n",
    "X_train, X_test, y_train, y_test = train_test_split(X, y, test_size=0.2, random_state=42)"
   ]
  },
  {
   "cell_type": "code",
   "execution_count": 6,
   "id": "31d228ad-6c2d-40fe-bb47-e791e36bca74",
   "metadata": {},
   "outputs": [],
   "source": [
    "# Create and train the pipeline\n",
    "diabetes_pipeline = DiabetesPipeline()\n",
    "diabetes_pipeline.train(X_train, y_train)"
   ]
  },
  {
   "cell_type": "code",
   "execution_count": 7,
   "id": "d2b3e7e0-1898-442c-b5f0-e9c67f2780a5",
   "metadata": {},
   "outputs": [],
   "source": [
    "# Evaluate the pipeline\n",
    "mse, r2 = diabetes_pipeline.evaluate(X_test, y_test)"
   ]
  },
  {
   "cell_type": "code",
   "execution_count": null,
   "id": "77ce6393-e696-4e0f-b4e5-4d98377f3bd3",
   "metadata": {},
   "outputs": [],
   "source": [
    "print(f\"Mean Squared Error: {mse}\")\n",
    "print(f\"R2 Score: {r2}\")"
   ]
  }
 ],
 "metadata": {
  "kernelspec": {
   "display_name": "Python 3 (ipykernel)",
   "language": "python",
   "name": "python3"
  },
  "language_info": {
   "codemirror_mode": {
    "name": "ipython",
    "version": 3
   },
   "file_extension": ".py",
   "mimetype": "text/x-python",
   "name": "python",
   "nbconvert_exporter": "python",
   "pygments_lexer": "ipython3",
   "version": "3.10.12"
  }
 },
 "nbformat": 4,
 "nbformat_minor": 5
}
