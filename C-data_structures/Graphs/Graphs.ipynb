{
 "cells": [
  {
   "cell_type": "markdown",
   "id": "653eeb63-1c75-438a-baa5-232ee909bbe2",
   "metadata": {},
   "source": [
    "# Graphs\n",
    "https://www.youtube.com/watch?v=4jyESQDrpls&t=1503s&ab_channel=GregHoggmm"
   ]
  },
  {
   "cell_type": "code",
   "execution_count": 2,
   "id": "8cb40f1e-3d39-470e-94b7-0b088847ac43",
   "metadata": {},
   "outputs": [
    {
     "data": {
      "text/plain": [
       "[[0, 1], [1, 2], [0, 3], [3, 4], [3, 6], [3, 7], [4, 2], [4, 5], [5, 2]]"
      ]
     },
     "execution_count": 2,
     "metadata": {},
     "output_type": "execute_result"
    }
   ],
   "source": [
    "# Array of Edges (Directed) [Start, End]\n",
    "n = 8\n",
    "A = [[0,1], [1,2], [0,3], [3,4], [3,6], [3,7], [4,2], [4,5], [5,2]]\n",
    "A"
   ]
  },
  {
   "cell_type": "code",
   "execution_count": 3,
   "id": "099fcb1f-38f1-4244-9a8c-2694e4f90680",
   "metadata": {},
   "outputs": [
    {
     "data": {
      "text/plain": [
       "[[0, 1, 0, 1, 0, 0, 0, 0],\n",
       " [0, 0, 1, 0, 0, 0, 0, 0],\n",
       " [0, 0, 0, 0, 0, 0, 0, 0],\n",
       " [0, 0, 0, 0, 1, 0, 1, 1],\n",
       " [0, 0, 1, 0, 0, 1, 0, 0],\n",
       " [0, 0, 1, 0, 0, 0, 0, 0],\n",
       " [0, 0, 0, 0, 0, 0, 0, 0],\n",
       " [0, 0, 0, 0, 0, 0, 0, 0]]"
      ]
     },
     "execution_count": 3,
     "metadata": {},
     "output_type": "execute_result"
    }
   ],
   "source": [
    "# Convert Array of Edges -> Adjacency Matrix\n",
    "M = []\n",
    "\n",
    "for i in range(n):\n",
    "    M.append([0]*n)\n",
    "    \n",
    "for u, v in A:\n",
    "    M[u][v] = 1\n",
    "\n",
    "    # Uncomment the following line if the graph is undirected\n",
    "    # M[v][u] = 1\n",
    "\n",
    "M"
   ]
  },
  {
   "cell_type": "code",
   "execution_count": 6,
   "id": "2f8551cd-b9ca-4132-a73e-ff21e98cf1ff",
   "metadata": {},
   "outputs": [
    {
     "data": {
      "text/plain": [
       "defaultdict(list, {0: [1, 3], 1: [2], 3: [4, 6, 7], 4: [2, 5], 5: [2]})"
      ]
     },
     "execution_count": 6,
     "metadata": {},
     "output_type": "execute_result"
    }
   ],
   "source": [
    "# Adjacency List\n",
    "from collections import defaultdict\n",
    "\n",
    "D = defaultdict(list)\n",
    "\n",
    "for u, v in A:\n",
    "    D[u].append(v)\n",
    "\n",
    "    # Uncomment the following line if the graph is undirected\n",
    "    # D[v].append(u)\n",
    "\n",
    "D\n"
   ]
  },
  {
   "cell_type": "code",
   "execution_count": 7,
   "id": "9d2c464e-3498-49fc-be7c-93d98f5ab696",
   "metadata": {},
   "outputs": [
    {
     "data": {
      "text/plain": [
       "[4, 6, 7]"
      ]
     },
     "execution_count": 7,
     "metadata": {},
     "output_type": "execute_result"
    }
   ],
   "source": [
    "# Adjancency of node 3\n",
    "D[3]"
   ]
  },
  {
   "cell_type": "code",
   "execution_count": 9,
   "id": "34122958-8a36-458d-ac8c-7a6bff5e751a",
   "metadata": {},
   "outputs": [
    {
     "name": "stdout",
     "output_type": "stream",
     "text": [
      "0\n",
      "1\n",
      "2\n",
      "3\n",
      "4\n",
      "5\n",
      "6\n",
      "7\n"
     ]
    }
   ],
   "source": [
    "# DFS with Recursion - O(V + E) where V is the number of nodes and E is the number of edges\n",
    "def dfs_recursive(node):\n",
    "    print(node)\n",
    "    for neighbor_node in D[node]:\n",
    "        if neighbor_node not in seen:\n",
    "            seen.add(neighbor_node)\n",
    "            dfs_recursive(neighbor_node)\n",
    "            \n",
    "source = 0 \n",
    "seen = set()\n",
    "seen.add(source)\n",
    "dfs_recursive(source)"
   ]
  },
  {
   "cell_type": "code",
   "execution_count": 12,
   "id": "91411ba5-1aab-4cfc-9be0-910f7d9068ab",
   "metadata": {},
   "outputs": [
    {
     "name": "stdout",
     "output_type": "stream",
     "text": [
      "0\n",
      "1\n",
      "3\n",
      "2\n",
      "4\n",
      "6\n",
      "7\n",
      "5\n"
     ]
    }
   ],
   "source": [
    "# BFS (Queue) - O(V + E)\n",
    "source = 0\n",
    "\n",
    "from collections import deque\n",
    "\n",
    "seen = set()\n",
    "seen.add(source)\n",
    "q = deque()\n",
    "q.append(source)\n",
    "\n",
    "while q:\n",
    "    node = q.popleft()\n",
    "    print(node)\n",
    "    for neighbor_node in D[node]:\n",
    "        if neighbor_node not in seen:\n",
    "            seen.add(neighbor_node)\n",
    "            q.append(neighbor_node)\n",
    "            "
   ]
  },
  {
   "cell_type": "code",
   "execution_count": null,
   "id": "3a13da15-6214-4e58-897f-f83beb0c2e85",
   "metadata": {},
   "outputs": [],
   "source": [
    "# work with graphs on memory\n",
    "class Node:\n",
    "    def __init__(self, value):\n",
    "        self.value = value\n",
    "        self.neighbors = []\n",
    "\n",
    "    def __str__(self):\n",
    "        return fNode({self.value)"
   ]
  }
 ],
 "metadata": {
  "kernelspec": {
   "display_name": "Python 3 (ipykernel)",
   "language": "python",
   "name": "python3"
  },
  "language_info": {
   "codemirror_mode": {
    "name": "ipython",
    "version": 3
   },
   "file_extension": ".py",
   "mimetype": "text/x-python",
   "name": "python",
   "nbconvert_exporter": "python",
   "pygments_lexer": "ipython3",
   "version": "3.8.18"
  }
 },
 "nbformat": 4,
 "nbformat_minor": 5
}
