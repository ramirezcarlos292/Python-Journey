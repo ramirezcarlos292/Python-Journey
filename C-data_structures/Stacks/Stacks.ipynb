{
 "cells": [
  {
   "cell_type": "markdown",
   "id": "f8544e0b-5ede-4d15-8aa9-577a127d381a",
   "metadata": {},
   "source": [
    "https://www.youtube.com/watch?v=vOx3vY1w4tM&ab_channel=GregHogg"
   ]
  },
  {
   "cell_type": "markdown",
   "id": "c12628cb-d339-426e-9845-c546a26702c3",
   "metadata": {},
   "source": [
    "# Stacks (LIFO)"
   ]
  },
  {
   "cell_type": "code",
   "execution_count": 11,
   "id": "dd2651a6-3412-4890-9c7e-14df2acb0192",
   "metadata": {},
   "outputs": [
    {
     "name": "stdout",
     "output_type": "stream",
     "text": [
      "[]\n"
     ]
    }
   ],
   "source": [
    "stk = []\n",
    "print(stk)"
   ]
  },
  {
   "cell_type": "code",
   "execution_count": 12,
   "id": "529ff00d-1806-4436-8593-8a4ebae28600",
   "metadata": {},
   "outputs": [
    {
     "data": {
      "text/plain": [
       "[5, 4, 3]"
      ]
     },
     "execution_count": 12,
     "metadata": {},
     "output_type": "execute_result"
    }
   ],
   "source": [
    "# Add elements into the stack O(1)\n",
    "stk.append(5)\n",
    "stk.append(4)\n",
    "stk.append(3)\n",
    "stk"
   ]
  },
  {
   "cell_type": "code",
   "execution_count": 13,
   "id": "8626cd29-cc35-4015-a40c-aa42f306d59a",
   "metadata": {},
   "outputs": [
    {
     "name": "stdout",
     "output_type": "stream",
     "text": [
      "3\n",
      "[5, 4]\n"
     ]
    }
   ],
   "source": [
    "# Remove last element in the stack O(1)\n",
    "x = stk.pop()\n",
    "print(x)\n",
    "print(stk)"
   ]
  },
  {
   "cell_type": "code",
   "execution_count": 14,
   "id": "f23b2ba8-c6ba-4767-be4d-49f180158c11",
   "metadata": {},
   "outputs": [
    {
     "name": "stdout",
     "output_type": "stream",
     "text": [
      "4\n"
     ]
    }
   ],
   "source": [
    "# Peek last item in stack\n",
    "print(stk[-1])"
   ]
  },
  {
   "cell_type": "code",
   "execution_count": 15,
   "id": "902cee70-79a9-4264-ba67-6b312cd3915d",
   "metadata": {},
   "outputs": [
    {
     "name": "stdout",
     "output_type": "stream",
     "text": [
      "True\n"
     ]
    }
   ],
   "source": [
    "# Check if elements are still in the stack\n",
    "if stk:\n",
    "    print(True)"
   ]
  }
 ],
 "metadata": {
  "kernelspec": {
   "display_name": "Python 3 (ipykernel)",
   "language": "python",
   "name": "python3"
  },
  "language_info": {
   "codemirror_mode": {
    "name": "ipython",
    "version": 3
   },
   "file_extension": ".py",
   "mimetype": "text/x-python",
   "name": "python",
   "nbconvert_exporter": "python",
   "pygments_lexer": "ipython3",
   "version": "3.8.18"
  }
 },
 "nbformat": 4,
 "nbformat_minor": 5
}
