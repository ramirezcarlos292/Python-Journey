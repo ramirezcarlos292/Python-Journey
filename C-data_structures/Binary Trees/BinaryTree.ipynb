{
 "cells": [
  {
   "cell_type": "markdown",
   "metadata": {},
   "source": [
    "# Binary Trees & Binary Search Trees\n",
    "### Connected and Acyclic\n",
    "#### N = n\n",
    "#### E = n - 1"
   ]
  },
  {
   "cell_type": "markdown",
   "metadata": {},
   "source": [
    "# Tree definition"
   ]
  },
  {
   "cell_type": "code",
   "execution_count": 25,
   "metadata": {},
   "outputs": [],
   "source": [
    "# Binary Trees\n",
    "class TreeNode:\n",
    "    def __init__(self, val, left=None, right=None):\n",
    "        self.val = val\n",
    "        self.left = left\n",
    "        self.right = right\n",
    "    \n",
    "    def __str__(self):\n",
    "        return str(self.val)"
   ]
  },
  {
   "cell_type": "code",
   "execution_count": 26,
   "metadata": {},
   "outputs": [],
   "source": [
    "#          1\n",
    "#     2         3\n",
    "#  4     5   10"
   ]
  },
  {
   "cell_type": "code",
   "execution_count": 27,
   "metadata": {},
   "outputs": [
    {
     "name": "stdout",
     "output_type": "stream",
     "text": [
      "1\n"
     ]
    }
   ],
   "source": [
    "A = TreeNode(1)\n",
    "B = TreeNode(2)\n",
    "C = TreeNode(3)\n",
    "D = TreeNode(4)\n",
    "E = TreeNode(5)\n",
    "F = TreeNode(10)\n",
    "\n",
    "A.left = B\n",
    "A.right = C\n",
    "B.left = D\n",
    "B.right = E\n",
    "C.left = F\n",
    "\n",
    "print(A)"
   ]
  },
  {
   "cell_type": "markdown",
   "metadata": {},
   "source": [
    "# DFS"
   ]
  },
  {
   "cell_type": "markdown",
   "metadata": {},
   "source": [
    "## Recursive Traversal"
   ]
  },
  {
   "cell_type": "code",
   "execution_count": 28,
   "metadata": {},
   "outputs": [
    {
     "name": "stdout",
     "output_type": "stream",
     "text": [
      "1\n",
      "2\n",
      "4\n",
      "5\n",
      "3\n",
      "10\n"
     ]
    }
   ],
   "source": [
    "# Recursive Pre Order Traversal (DFS) Time: O(n), Space: O(n)\n",
    "def pre_order(node):\n",
    "    if not node:\n",
    "        return\n",
    "    print(node)\n",
    "    pre_order(node.left)\n",
    "    pre_order(node.right)\n",
    "\n",
    "pre_order(A)"
   ]
  },
  {
   "cell_type": "code",
   "execution_count": 29,
   "metadata": {},
   "outputs": [
    {
     "name": "stdout",
     "output_type": "stream",
     "text": [
      "4\n",
      "2\n",
      "5\n",
      "1\n",
      "10\n",
      "3\n"
     ]
    }
   ],
   "source": [
    "# Recursive In Order Traversal (DFS) Time: O(n), Space: O(n)\n",
    "def in_order(node):\n",
    "    if not node:\n",
    "        return\n",
    "    in_order(node.left)\n",
    "    print(node)\n",
    "    in_order(node.right)\n",
    "\n",
    "in_order(A)"
   ]
  },
  {
   "cell_type": "code",
   "execution_count": 30,
   "metadata": {},
   "outputs": [
    {
     "name": "stdout",
     "output_type": "stream",
     "text": [
      "4\n",
      "5\n",
      "2\n",
      "10\n",
      "3\n",
      "1\n"
     ]
    }
   ],
   "source": [
    "# Recursive Post Order Traversal (DFS) Time: O(n), Space: O(n)\n",
    "def post_order(node):\n",
    "    if not node:\n",
    "        return\n",
    "    post_order(node.left)\n",
    "    post_order(node.right)\n",
    "    print(node)\n",
    "\n",
    "\n",
    "post_order(A)"
   ]
  },
  {
   "cell_type": "markdown",
   "metadata": {},
   "source": [
    "## Iterative Traversal"
   ]
  },
  {
   "cell_type": "code",
   "execution_count": 31,
   "metadata": {},
   "outputs": [
    {
     "name": "stdout",
     "output_type": "stream",
     "text": [
      "1\n",
      "2\n",
      "4\n",
      "5\n",
      "3\n",
      "10\n"
     ]
    }
   ],
   "source": [
    "# Iterative Pre Order Traversal (DFS) Time: O(n), Space: O(n)\n",
    "def pre_order_iterative(node):\n",
    "    stk = [node]\n",
    "    while stk:\n",
    "        node = stk.pop()\n",
    "        print(node)\n",
    "        if node.right: stk.append(node.right)\n",
    "        if node.left: stk.append(node.left)\n",
    "        \n",
    "pre_order_iterative(A)"
   ]
  },
  {
   "cell_type": "markdown",
   "metadata": {},
   "source": [
    "# BFS"
   ]
  },
  {
   "cell_type": "code",
   "execution_count": 32,
   "metadata": {},
   "outputs": [
    {
     "name": "stdout",
     "output_type": "stream",
     "text": [
      "1\n",
      "2\n",
      "3\n",
      "4\n",
      "5\n",
      "10\n"
     ]
    }
   ],
   "source": [
    "# Level Order Traversal Time: O(n), Space: O(n)\n",
    "from collections import deque\n",
    "\n",
    "def level_order(node):\n",
    "    q = deque()\n",
    "    q.append(node)\n",
    "    \n",
    "    while q:\n",
    "        node = q.popleft()\n",
    "        print(node)\n",
    "        if node.left: q.append(node.left)\n",
    "        if node.right: q.append(node.right)\n",
    "        \n",
    "level_order(A)"
   ]
  },
  {
   "cell_type": "markdown",
   "metadata": {},
   "source": [
    "# Search on Trees"
   ]
  },
  {
   "cell_type": "markdown",
   "metadata": {},
   "source": [
    "## Search on entire tree"
   ]
  },
  {
   "cell_type": "code",
   "execution_count": 33,
   "metadata": {},
   "outputs": [
    {
     "data": {
      "text/plain": [
       "True"
      ]
     },
     "execution_count": 33,
     "metadata": {},
     "output_type": "execute_result"
    }
   ],
   "source": [
    "# Check if value exists (DFS) O(n), O(n)\n",
    "def search(node, target):\n",
    "    if not node:\n",
    "        return False\n",
    "    \n",
    "    if node.val == target:\n",
    "        return True\n",
    "    \n",
    "    return search(node.left, target) or search(node.right, target)\n",
    "\n",
    "search(A, 5)\n",
    "    "
   ]
  },
  {
   "cell_type": "markdown",
   "metadata": {},
   "source": [
    "## BSTs (Binary Search Tree)\n"
   ]
  },
  {
   "cell_type": "code",
   "execution_count": 41,
   "metadata": {},
   "outputs": [
    {
     "name": "stdout",
     "output_type": "stream",
     "text": [
      "5\n"
     ]
    }
   ],
   "source": [
    "#           5\n",
    "#      1         8\n",
    "#  -1    3    7     9\n",
    "\n",
    "A2 = TreeNode(5)\n",
    "B2 = TreeNode(1)\n",
    "C2 = TreeNode(8)\n",
    "D2 = TreeNode(-1)\n",
    "E2 = TreeNode(3)\n",
    "F2 = TreeNode(7)\n",
    "G2 = TreeNode(9)\n",
    "A2.left, A2.right = B2, C2\n",
    "B2.left, B2.right = D2, E2\n",
    "C2.left, C2.right = F2, G2\n",
    "\n",
    "print(A2)\n",
    "\n",
    "# in_order(A2)"
   ]
  },
  {
   "cell_type": "code",
   "execution_count": 45,
   "metadata": {},
   "outputs": [
    {
     "name": "stdout",
     "output_type": "stream",
     "text": [
      " search number 1000, False\n",
      " search number -1, True\n"
     ]
    }
   ],
   "source": [
    "# Recursively, if tree complies with the rule, its children are less than its father this\n",
    "# is applicable, won't be looking on the sub-tree that was lower than the target.\n",
    "\n",
    "# With a roughly balanced BSTs, Time: O(log n) Space: O(log n)\n",
    "def search_bst(node, target):\n",
    "    if not node:\n",
    "        return False\n",
    "    \n",
    "    if node.val == target:\n",
    "        return True\n",
    "    \n",
    "    if target < node.val: return search_bst(node.left, target)\n",
    "    else: return search_bst(node.right, target)\n",
    "\n",
    "print(f\" search number 1000, {search_bst(A2, 1000)}\")\n",
    "print(f\" search number -1, {search_bst(A2, -1)}\")"
   ]
  },
  {
   "cell_type": "code",
   "execution_count": null,
   "metadata": {},
   "outputs": [],
   "source": []
  }
 ],
 "metadata": {
  "kernelspec": {
   "display_name": "Python 3",
   "language": "python",
   "name": "python3"
  },
  "language_info": {
   "codemirror_mode": {
    "name": "ipython",
    "version": 3
   },
   "file_extension": ".py",
   "mimetype": "text/x-python",
   "name": "python",
   "nbconvert_exporter": "python",
   "pygments_lexer": "ipython3",
   "version": "3.12.9"
  }
 },
 "nbformat": 4,
 "nbformat_minor": 2
}
