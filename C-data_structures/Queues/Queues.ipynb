{
 "cells": [
  {
   "cell_type": "markdown",
   "id": "53debed4-fc69-4ac3-9850-1aa169f41640",
   "metadata": {},
   "source": [
    "# Queue (FIFO)\n",
    "https://www.youtube.com/watch?v=vOx3vY1w4tM&ab_channel=GregHogg"
   ]
  },
  {
   "cell_type": "markdown",
   "id": "e488c8fc",
   "metadata": {},
   "source": [
    "## Python Deque "
   ]
  },
  {
   "cell_type": "code",
   "execution_count": 1,
   "id": "b4b33466-d34e-4147-b6d8-79a7b7ad98d5",
   "metadata": {},
   "outputs": [
    {
     "name": "stdout",
     "output_type": "stream",
     "text": [
      "deque([])\n"
     ]
    }
   ],
   "source": [
    "# works as double ended queue\n",
    "from collections import deque\n",
    "\n",
    "q = deque()\n",
    "\n",
    "print(q)"
   ]
  },
  {
   "cell_type": "code",
   "execution_count": 28,
   "id": "152b2f87-cb6d-4e70-85e3-78513cad9585",
   "metadata": {},
   "outputs": [
    {
     "data": {
      "text/plain": [
       "deque([5, 6, 7])"
      ]
     },
     "execution_count": 28,
     "metadata": {},
     "output_type": "execute_result"
    }
   ],
   "source": [
    "# Enqueue - Add elements to the right - O(1)\n",
    "q.append(5)\n",
    "q.append(6)\n",
    "q.append(7)\n",
    "q"
   ]
  },
  {
   "cell_type": "code",
   "execution_count": 29,
   "id": "0de892ec-1955-46ff-8191-111dba997859",
   "metadata": {},
   "outputs": [
    {
     "data": {
      "text/plain": [
       "5"
      ]
     },
     "execution_count": 29,
     "metadata": {},
     "output_type": "execute_result"
    }
   ],
   "source": [
    "# Dequeue - Remove element from the left - O(1)\n",
    "q.popleft()"
   ]
  },
  {
   "cell_type": "code",
   "execution_count": 31,
   "id": "1d909fa5-8ef2-456d-987d-428b25c251a8",
   "metadata": {},
   "outputs": [
    {
     "data": {
      "text/plain": [
       "deque([6, 7])"
      ]
     },
     "execution_count": 31,
     "metadata": {},
     "output_type": "execute_result"
    }
   ],
   "source": [
    "q"
   ]
  },
  {
   "cell_type": "code",
   "execution_count": 32,
   "id": "89baad2e-6ce6-40c4-a070-eef0fc72dd6f",
   "metadata": {},
   "outputs": [
    {
     "data": {
      "text/plain": [
       "6"
      ]
     },
     "execution_count": 32,
     "metadata": {},
     "output_type": "execute_result"
    }
   ],
   "source": [
    "# Peek from the left side - O(1)\n",
    "q[0]"
   ]
  },
  {
   "cell_type": "code",
   "execution_count": 34,
   "id": "d11635ce-a6f6-474a-816c-2d71f6430fb1",
   "metadata": {},
   "outputs": [
    {
     "data": {
      "text/plain": [
       "7"
      ]
     },
     "execution_count": 34,
     "metadata": {},
     "output_type": "execute_result"
    }
   ],
   "source": [
    "# Peek from the right side - O(1)\n",
    "q[-1]"
   ]
  },
  {
   "cell_type": "markdown",
   "id": "8e5a0b99",
   "metadata": {},
   "source": [
    "## Queue with Linked List"
   ]
  },
  {
   "cell_type": "code",
   "execution_count": 30,
   "id": "45481434-773d-4f78-a60f-4b789fa55687",
   "metadata": {},
   "outputs": [
    {
     "name": "stdout",
     "output_type": "stream",
     "text": [
      "1 < 2 < 3 < 4 < 5 < NULL\n",
      "Peek left 1\n",
      "Item Dequeued is: 1\n",
      "Item Dequeued is: 2\n",
      "Item Dequeued is: 3\n",
      "Item Dequeued is: 4\n",
      "Item Dequeued is: 5\n",
      "Queue is empty\n",
      "Queue is empty\n"
     ]
    }
   ],
   "source": [
    "class Element:\n",
    "    def __init__(self, data):\n",
    "        self.data = data\n",
    "        self.rear = None\n",
    "\n",
    "class Queue:\n",
    "    def __init__(self):\n",
    "        self.head = None\n",
    "    \n",
    "    def enqueue(self, data):\n",
    "        item = Element(data)\n",
    "        if not self.head:\n",
    "            self.head = item\n",
    "            return\n",
    "        curr = self.head\n",
    "        while curr.rear:\n",
    "            curr = curr.rear\n",
    "        curr.rear = item\n",
    "    \n",
    "    def dequeue(self):\n",
    "        if not self.head:\n",
    "            print(\"Queue is empty\")\n",
    "            return\n",
    "        print(f\"Item Dequeued is: {self.head.data}\")\n",
    "        self.head = self.head.rear\n",
    "    \n",
    "    def peekleft(self):\n",
    "        if not self.head:\n",
    "            print(\"Queue is empty\")\n",
    "            return\n",
    "        return self.head.data\n",
    "        \n",
    "    def display(self):\n",
    "        curr = self.head\n",
    "        while curr:\n",
    "            print(curr.data, end=' < ')\n",
    "            curr = curr.rear\n",
    "        print('NULL')\n",
    "        \n",
    "Q = Queue()\n",
    "Q.enqueue(1)\n",
    "Q.enqueue(2)\n",
    "Q.enqueue(3)\n",
    "Q.enqueue(4)\n",
    "Q.enqueue(5)\n",
    "Q.display()\n",
    "print(f\"Peek left {Q.peekleft()}\")\n",
    "Q.dequeue()\n",
    "Q.dequeue()\n",
    "Q.dequeue()\n",
    "Q.dequeue()\n",
    "Q.dequeue()\n",
    "Q.dequeue()\n",
    "Q.dequeue()\n"
   ]
  },
  {
   "cell_type": "code",
   "execution_count": null,
   "id": "b5a2ce53",
   "metadata": {},
   "outputs": [],
   "source": []
  }
 ],
 "metadata": {
  "kernelspec": {
   "display_name": "Python 3",
   "language": "python",
   "name": "python3"
  },
  "language_info": {
   "codemirror_mode": {
    "name": "ipython",
    "version": 3
   },
   "file_extension": ".py",
   "mimetype": "text/x-python",
   "name": "python",
   "nbconvert_exporter": "python",
   "pygments_lexer": "ipython3",
   "version": "3.12.9"
  }
 },
 "nbformat": 4,
 "nbformat_minor": 5
}
