{
 "cells": [
  {
   "cell_type": "code",
   "execution_count": null,
   "metadata": {},
   "outputs": [],
   "source": [
    "class TreeNode:\n",
    "    def __init__(self, key):\n",
    "        self.key = key\n",
    "        self.left = None\n",
    "        self.right = None\n",
    "\n",
    "def find_height(node):\n",
    "    # Base case: If the tree is empty, return -1\n",
    "    if node is None:\n",
    "        return -1\n",
    "    \n",
    "    # Recursive case: Calculate the height of the left and right subtrees\n",
    "    left_height = find_height(node.left)\n",
    "    right_height = find_height(node.right)\n",
    "    \n",
    "    # The height of the current node is the maximum of the heights of the left and right subtrees, plus one\n",
    "    return max(left_height, right_height) + 1\n",
    "\n",
    "# Example usage:\n",
    "root = TreeNode(1)\n",
    "root.left = TreeNode(2)\n",
    "root.right = TreeNode(3)\n",
    "root.left.left = TreeNode(4)\n",
    "root.left.right = TreeNode(5)\n",
    "\n",
    "print(\"Height of the tree:\", find_height(root))  # Output: Height of the tree: 2"
   ]
  }
 ],
 "metadata": {
  "kernelspec": {
   "display_name": "Python 3",
   "language": "python",
   "name": "python3"
  },
  "language_info": {
   "name": "python",
   "version": "3.12.9"
  }
 },
 "nbformat": 4,
 "nbformat_minor": 2
}
