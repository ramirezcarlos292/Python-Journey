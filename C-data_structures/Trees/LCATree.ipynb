{
 "cells": [
  {
   "cell_type": "code",
   "execution_count": null,
   "metadata": {},
   "outputs": [],
   "source": [
    "class TreeNode:\n",
    "    def __init__(self, key):\n",
    "        self.key = key\n",
    "        self.left = None\n",
    "        self.right = None\n",
    "\n",
    "def find_lca(root, node1, node2):\n",
    "    # Base case: If the tree is empty or if we find either node1 or node2, return the root\n",
    "    if root is None or root == node1 or root == node2:\n",
    "        return root\n",
    "    \n",
    "    # Recursively search for the LCA in the left and right subtrees\n",
    "    left_lca = find_lca(root.left, node1, node2)\n",
    "    right_lca = find_lca(root.right, node1, node2)\n",
    "    \n",
    "    # If both left and right subtrees return non-None values, the current node is the LCA\n",
    "    if left_lca and right_lca:\n",
    "        return root\n",
    "    \n",
    "    # Otherwise, return the non-None value\n",
    "    return left_lca if left_lca is not None else right_lca\n",
    "\n",
    "# Example usage:\n",
    "root = TreeNode(3)\n",
    "root.left = TreeNode(5)\n",
    "root.right = TreeNode(1)\n",
    "root.left.left = TreeNode(6)\n",
    "root.left.right = TreeNode(2)\n",
    "root.right.left = TreeNode(0)\n",
    "root.right.right = TreeNode(8)\n",
    "root.left.right.left = TreeNode(7)\n",
    "root.left.right.right = TreeNode(4)\n",
    "\n",
    "node1 = root.left  # Node with value 5\n",
    "node2 = root.left.right.right  # Node with value 4\n",
    "\n",
    "lca = find_lca(root, node1, node2)\n",
    "print(\"Lowest Common Ancestor:\", lca.key)  # Output: Lowest Common Ancestor: 5\n"
   ]
  }
 ],
 "metadata": {
  "kernelspec": {
   "display_name": "Python 3",
   "language": "python",
   "name": "python3"
  },
  "language_info": {
   "name": "python",
   "version": "3.12.9"
  }
 },
 "nbformat": 4,
 "nbformat_minor": 2
}
