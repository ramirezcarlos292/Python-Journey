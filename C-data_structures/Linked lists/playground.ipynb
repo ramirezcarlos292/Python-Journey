{
 "cells": [
  {
   "cell_type": "code",
   "execution_count": 1,
   "metadata": {},
   "outputs": [],
   "source": [
    "class Node:\n",
    "    def __init__(self, data):\n",
    "        self.data = data\n",
    "        self.next = None"
   ]
  },
  {
   "cell_type": "code",
   "execution_count": null,
   "metadata": {},
   "outputs": [
    {
     "ename": "SyntaxError",
     "evalue": "incomplete input (1123309195.py, line 19)",
     "output_type": "error",
     "traceback": [
      "\u001b[1;36m  Cell \u001b[1;32mIn[3], line 19\u001b[1;36m\u001b[0m\n\u001b[1;33m    def delete_at_position(self, position):\u001b[0m\n\u001b[1;37m                                           ^\u001b[0m\n\u001b[1;31mSyntaxError\u001b[0m\u001b[1;31m:\u001b[0m incomplete input\n"
     ]
    }
   ],
   "source": [
    "class LinkedList:\n",
    "    def __init__(self):\n",
    "        self.head = None\n",
    "        \n",
    "    def delete_end(self):\n",
    "        if not self.head:\n",
    "            return None\n",
    "        second_last = self.head\n",
    "        while second_last.next.next:\n",
    "            second_last = second_last.next\n",
    "            second_last.next = None\n",
    "    \n",
    "    def delete_eginning(self):\n",
    "        if not self.head:\n",
    "            return None\n",
    "        self.head = self.head.next\n",
    "        return self.head\n",
    "    \n",
    "    def delete_beginnig(self):\n",
    "        if not self.head:\n",
    "            return None\n",
    "        self.head = self.head.next\n",
    "        return self.head\n",
    "    \n",
    "    def delete_at_position(self, position):\n",
    "        if not self.head:\n",
    "            return None\n",
    "        if position == 0:\n",
    "            self.head = self.head.next\n",
    "            return self.head\n",
    "        curr = self.head\n",
    "        for _ in range(position - 1):\n",
    "            if not curr:\n",
    "                return self.head\n",
    "            curr = curr.next\n",
    "        try:\n",
    "            if not curr.next:\n",
    "                return self.head\n",
    "            curr.next = curr.next.next\n",
    "            return self.head\n",
    "        except AttributeError:\n",
    "            print(\"position out of bounds for this linked list\")"
   ]
  },
  {
   "cell_type": "code",
   "execution_count": 9,
   "metadata": {},
   "outputs": [
    {
     "name": "stdout",
     "output_type": "stream",
     "text": [
      "1 -> 2 -> 3 -> 4\n",
      "4 -> 3 -> 2 -> 1\n"
     ]
    }
   ],
   "source": [
    "ll = LinkedList()\n",
    "ll.append(1)\n",
    "ll.append(2)\n",
    "ll.append(3)\n",
    "ll.append(4)\n",
    "ll.display()\n",
    "ll.reverse()\n",
    "ll.display()"
   ]
  },
  {
   "cell_type": "code",
   "execution_count": null,
   "metadata": {},
   "outputs": [],
   "source": []
  }
 ],
 "metadata": {
  "kernelspec": {
   "display_name": "Python 3",
   "language": "python",
   "name": "python3"
  },
  "language_info": {
   "codemirror_mode": {
    "name": "ipython",
    "version": 3
   },
   "file_extension": ".py",
   "mimetype": "text/x-python",
   "name": "python",
   "nbconvert_exporter": "python",
   "pygments_lexer": "ipython3",
   "version": "3.12.9"
  }
 },
 "nbformat": 4,
 "nbformat_minor": 2
}
