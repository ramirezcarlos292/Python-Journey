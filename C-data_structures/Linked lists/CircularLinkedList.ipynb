{
 "cells": [
  {
   "cell_type": "code",
   "execution_count": 2,
   "metadata": {},
   "outputs": [
    {
     "name": "stdout",
     "output_type": "stream",
     "text": [
      "1 -> 2 -> 3 -> (head)\n"
     ]
    }
   ],
   "source": [
    "class CircularNode:\n",
    "    def __init__(self, data):\n",
    "        self.data = data\n",
    "        self.next = None\n",
    "        \n",
    "def traverse(head):\n",
    "    if not head:\n",
    "        return\n",
    "    curr = head\n",
    "    while True:\n",
    "        print(curr.data, end = \" -> \")\n",
    "        curr = curr.next\n",
    "        if curr == head:\n",
    "            break\n",
    "    print(\"(head)\")\n",
    "    \n",
    "    \n",
    "head = CircularNode(1)\n",
    "second = CircularNode(2)\n",
    "third = CircularNode(3)\n",
    "\n",
    "head.next = second\n",
    "second.next = third\n",
    "third.next = head\n",
    "\n",
    "traverse(head)"
   ]
  },
  {
   "cell_type": "code",
   "execution_count": null,
   "metadata": {},
   "outputs": [],
   "source": []
  }
 ],
 "metadata": {
  "kernelspec": {
   "display_name": "Python 3",
   "language": "python",
   "name": "python3"
  },
  "language_info": {
   "codemirror_mode": {
    "name": "ipython",
    "version": 3
   },
   "file_extension": ".py",
   "mimetype": "text/x-python",
   "name": "python",
   "nbconvert_exporter": "python",
   "pygments_lexer": "ipython3",
   "version": "3.12.9"
  }
 },
 "nbformat": 4,
 "nbformat_minor": 2
}
