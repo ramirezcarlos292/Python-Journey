{
 "cells": [
  {
   "cell_type": "markdown",
   "metadata": {},
   "source": [
    "## Traverse Doubly Linked List"
   ]
  },
  {
   "cell_type": "code",
   "execution_count": 2,
   "metadata": {},
   "outputs": [
    {
     "name": "stdout",
     "output_type": "stream",
     "text": [
      "1 <-> 2 <-> 3 <-> 4 <-> NULL\n"
     ]
    }
   ],
   "source": [
    "class DoublyNode:\n",
    "    def __init__(self, data):\n",
    "        self.data = data\n",
    "        self.next = None\n",
    "        self.prev = None\n",
    "\n",
    "def traverse(head):\n",
    "    curr = head\n",
    "    while curr:\n",
    "        print(curr.data, end=' <-> ')\n",
    "        curr = curr.next\n",
    "    print('NULL')\n",
    "\n",
    "head = DoublyNode(1)\n",
    "second = DoublyNode(2)\n",
    "third = DoublyNode(3)\n",
    "fourth = DoublyNode(4)\n",
    "head.next = second\n",
    "second.prev = head\n",
    "second.next = third\n",
    "third.prev = second\n",
    "third.next = fourth\n",
    "\n",
    "traverse(head)"
   ]
  },
  {
   "cell_type": "markdown",
   "metadata": {},
   "source": [
    "## Reverse Doubly Linked List"
   ]
  },
  {
   "cell_type": "code",
   "execution_count": null,
   "metadata": {},
   "outputs": [],
   "source": [
    "class DoublyNode:\n",
    "    def __init__(self, data):\n",
    "        self.data = data\n",
    "        self.next = None\n",
    "        self.prev = None\n",
    "\n",
    "def reverse_doubly_linked_list(head):\n",
    "    current = head\n",
    "    temp = None\n",
    "    while current:\n",
    "        # Swap the next and prev pointers\n",
    "        temp = current.prev\n",
    "        current.prev = current.next\n",
    "        current.next = temp\n",
    "        # Move to the next node in the original list\n",
    "        current = current.prev\n",
    "    # Update the head to the last non-null node\n",
    "    if temp:\n",
    "        head = temp.prev\n",
    "    return head\n",
    "\n",
    "# Example usage:\n",
    "head = DoublyNode(1)\n",
    "second = DoublyNode(2)\n",
    "third = DoublyNode(3)\n",
    "head.next = second\n",
    "second.prev = head\n",
    "second.next = third\n",
    "third.prev = second\n",
    "\n",
    "reversed_head = reverse_doubly_linked_list(head)\n",
    "# Printing the reversed list\n",
    "current = reversed_head\n",
    "while current:\n",
    "    print(current.data, end=\" <-> \")\n",
    "    current = current.next\n",
    "print(\"NULL\")\n"
   ]
  }
 ],
 "metadata": {
  "kernelspec": {
   "display_name": "Python 3",
   "language": "python",
   "name": "python3"
  },
  "language_info": {
   "codemirror_mode": {
    "name": "ipython",
    "version": 3
   },
   "file_extension": ".py",
   "mimetype": "text/x-python",
   "name": "python",
   "nbconvert_exporter": "python",
   "pygments_lexer": "ipython3",
   "version": "3.12.9"
  }
 },
 "nbformat": 4,
 "nbformat_minor": 2
}
