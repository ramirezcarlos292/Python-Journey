{
 "cells": [
  {
   "cell_type": "code",
   "execution_count": 1,
   "metadata": {},
   "outputs": [],
   "source": [
    "class Node:\n",
    "    def __init__(self, data):\n",
    "        self.data = data\n",
    "        self.next = None\n",
    "        \n",
    "class LinkedList:\n",
    "    def __init__(self):\n",
    "        self.head = None\n",
    "    \n",
    "    def append(self, data):\n",
    "        new_node = Node(data)\n",
    "        if not self.head:\n",
    "            self.head = new_node\n",
    "            return\n",
    "        last = self.head\n",
    "        while last.next:\n",
    "            last = last.next\n",
    "        last.next = new_node\n",
    "        \n",
    "    def display(self):\n",
    "        items = []\n",
    "        curr = self.head\n",
    "        while curr:\n",
    "            items.append(str(curr.data))\n",
    "            curr = curr.next\n",
    "        print(\" -> \".join(items))\n",
    "\n",
    "    def insert_beginning(self, data):\n",
    "        new_node = Node(data)\n",
    "        if not self.head:\n",
    "            self.head = new_node\n",
    "            return\n",
    "        new_node.next = self.head\n",
    "        self.head = new_node\n",
    "        \n",
    "    def insert_after_node(self, prev_node_data, data):\n",
    "        curr = self.head\n",
    "        while curr and curr.data != prev_node_data:\n",
    "            curr = curr.next\n",
    "        if not curr:\n",
    "            print(\"Previous node data pointed wasn't found\")\n",
    "            return\n",
    "        new_node = Node(data)\n",
    "        new_node.next = curr.next\n",
    "        curr.next = new_node\n",
    "        \n",
    "    def reverse(self):\n",
    "        prev = None\n",
    "        curr = self.head\n",
    "        while curr:\n",
    "            next = curr.next\n",
    "            curr.next = prev\n",
    "            prev = curr\n",
    "            curr = next\n",
    "        self.head = prev           "
   ]
  },
  {
   "cell_type": "code",
   "execution_count": 3,
   "metadata": {},
   "outputs": [
    {
     "name": "stdout",
     "output_type": "stream",
     "text": [
      "1 -> 2 -> 4 -> 5\n",
      "1 -> 2 -> 4 -> 5 -> 6\n",
      "0 -> 1 -> 2 -> 4 -> 5 -> 6\n",
      "0 -> 1 -> 2 -> 3 -> 4 -> 5 -> 6\n",
      "6 -> 5 -> 4 -> 3 -> 2 -> 1 -> 0\n",
      "0 -> 1 -> 2 -> 3 -> 4 -> 5 -> 6\n"
     ]
    }
   ],
   "source": [
    "ll = LinkedList()\n",
    "ll.append(1)\n",
    "ll.append(2)\n",
    "ll.append(4)\n",
    "ll.append(5)\n",
    "ll.display()\n",
    "\n",
    "ll.append(6)\n",
    "ll.display()\n",
    "ll.insert_beginning(0)\n",
    "ll.display()\n",
    "ll.insert_after_node(2, 3)\n",
    "ll.display()\n",
    "\n",
    "ll.reverse()\n",
    "ll.display()\n",
    "\n",
    "\n",
    "\n",
    "\n",
    "\n",
    "ll.reverse()\n",
    "ll.display()"
   ]
  },
  {
   "cell_type": "code",
   "execution_count": null,
   "metadata": {},
   "outputs": [],
   "source": []
  }
 ],
 "metadata": {
  "kernelspec": {
   "display_name": "Python 3",
   "language": "python",
   "name": "python3"
  },
  "language_info": {
   "codemirror_mode": {
    "name": "ipython",
    "version": 3
   },
   "file_extension": ".py",
   "mimetype": "text/x-python",
   "name": "python",
   "nbconvert_exporter": "python",
   "pygments_lexer": "ipython3",
   "version": "3.12.9"
  }
 },
 "nbformat": 4,
 "nbformat_minor": 2
}
