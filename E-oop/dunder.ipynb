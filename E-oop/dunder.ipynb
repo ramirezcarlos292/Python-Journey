{
 "cells": [
  {
   "cell_type": "markdown",
   "metadata": {},
   "source": [
    "## Magic Methods or Dunder methods(double underscore), __str__, __init__, __eq__"
   ]
  },
  {
   "cell_type": "code",
   "execution_count": null,
   "metadata": {},
   "outputs": [],
   "source": [
    "class Book:\n",
    "    def __init__(self, title, author, num_pages):\n",
    "        self.title = title\n",
    "        self.author = author\n",
    "        self.num_pages = num_pages\n",
    "        \n",
    "    def __str__(self):\n",
    "        return f\"'{self.title}' by {self.author}\"\n",
    "    \n",
    "    def __eq__(self, other):\n",
    "        return self.title == other.title and self.author == other.author\n",
    "    \n",
    "    def __lt__(self, other):\n",
    "        return self.num_pages < other.num_pages\n",
    "    \n",
    "    def __gt__(self, other):\n",
    "        return self.num_pages > other.num_pages\n",
    "    \n",
    "    def __add__(self, other):\n",
    "        return f\"{self.num_pages + other.num_pages} pages\"\n",
    "        \n",
    "    def __contains__(self, keyword):\n",
    "        return keyword in self.title\n",
    "    \n",
    "    def __getitem__(self, key):\n",
    "        if key == 'title':\n",
    "            return self.title\n",
    "        elif key == 'author':\n",
    "            return self.title\n",
    "        elif key == 'num_pages':\n",
    "            return self.num_pages\n",
    "        else:\n",
    "            return f\"Key '{key}' was not found\"\n",
    "            \n",
    "book1 = Book(\"The hobbit\", \"J.R.R. Tolkien\", 310)\n",
    "book2 = Book(\"Harry Potter and the Philosopher's Stone\", \"J.K. Rowling\", 223)\n",
    "book3 = Book(\"The Lion, the Witch and the Wardrobe\", \"C.S. Lewis\", 172)\n",
    "book4 = Book(\"Harry Potter and the Philosopher's Stone\", \"J.K. Rowling\", 320)"
   ]
  },
  {
   "cell_type": "code",
   "execution_count": 20,
   "metadata": {},
   "outputs": [
    {
     "name": "stdout",
     "output_type": "stream",
     "text": [
      "'The hobbit' by J.R.R. Tolkien\n"
     ]
    }
   ],
   "source": [
    "print(book1) # gives memory address, if __str__ is not implemented"
   ]
  },
  {
   "cell_type": "code",
   "execution_count": 21,
   "metadata": {},
   "outputs": [
    {
     "name": "stdout",
     "output_type": "stream",
     "text": [
      "False\n",
      "True\n"
     ]
    }
   ],
   "source": [
    "# Check if two objects are the same __eq__\n",
    "print(book1 == book2)\n",
    "print(book2 == book4) # same book, one is printed on different format"
   ]
  },
  {
   "cell_type": "code",
   "execution_count": 24,
   "metadata": {},
   "outputs": [
    {
     "name": "stdout",
     "output_type": "stream",
     "text": [
      "False\n",
      "True\n"
     ]
    }
   ],
   "source": [
    "# check which is greater __gt__ or lower than __lt__\n",
    "print(book2 < book3)\n",
    "print(book1 > book3)"
   ]
  },
  {
   "cell_type": "code",
   "execution_count": 30,
   "metadata": {},
   "outputs": [
    {
     "name": "stdout",
     "output_type": "stream",
     "text": [
      "543 pages\n"
     ]
    }
   ],
   "source": [
    "# addition __add__\n",
    "print(book2 + book4)"
   ]
  },
  {
   "cell_type": "code",
   "execution_count": 32,
   "metadata": {},
   "outputs": [
    {
     "name": "stdout",
     "output_type": "stream",
     "text": [
      "True\n",
      "False\n"
     ]
    }
   ],
   "source": [
    "print(\"Lion\" in book3)\n",
    "print(\"Rowling\" in book3)"
   ]
  },
  {
   "cell_type": "code",
   "execution_count": 37,
   "metadata": {},
   "outputs": [
    {
     "name": "stdout",
     "output_type": "stream",
     "text": [
      "The Lion, the Witch and the Wardrobe\n",
      "The hobbit\n",
      "223\n",
      "Key audio was not found\n"
     ]
    }
   ],
   "source": [
    "print(book3['title'])\n",
    "print(book1['author'])\n",
    "print(book2['num_pages'])\n",
    "print(book4['audio'])"
   ]
  },
  {
   "cell_type": "code",
   "execution_count": null,
   "metadata": {},
   "outputs": [],
   "source": []
  }
 ],
 "metadata": {
  "kernelspec": {
   "display_name": "Python 3",
   "language": "python",
   "name": "python3"
  },
  "language_info": {
   "codemirror_mode": {
    "name": "ipython",
    "version": 3
   },
   "file_extension": ".py",
   "mimetype": "text/x-python",
   "name": "python",
   "nbconvert_exporter": "python",
   "pygments_lexer": "ipython3",
   "version": "3.12.9"
  }
 },
 "nbformat": 4,
 "nbformat_minor": 2
}
