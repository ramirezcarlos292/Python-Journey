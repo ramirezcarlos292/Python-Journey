{
 "cells": [
  {
   "cell_type": "markdown",
   "metadata": {},
   "source": [
    "# Inheritance\n",
    "https://www.youtube.com/watch?v=u1be7Vele5o&list=PLZPZq0r_RZOOkUQbat8LyQii36cJf2SWT&index=49"
   ]
  },
  {
   "cell_type": "code",
   "execution_count": 7,
   "metadata": {},
   "outputs": [],
   "source": [
    "class Animal:\n",
    "    def __init__(self, name):\n",
    "        self.name = name\n",
    "        self.is_alive = True\n",
    "    \n",
    "    def eat(self):\n",
    "        print(f\"{self.name} is eating\")\n",
    "        \n",
    "    def sleep(self):\n",
    "        print(f\"{self.name} is asleep\")\n"
   ]
  },
  {
   "cell_type": "code",
   "execution_count": 8,
   "metadata": {},
   "outputs": [],
   "source": [
    "class Dog(Animal):\n",
    "    def speak(self):\n",
    "        print(\"WOOF\")\n",
    "\n",
    "class Cat(Animal):\n",
    "    def speak(self):\n",
    "        print(\"MIAU\")\n",
    "\n",
    "class Mouse(Animal):\n",
    "    def speak(self):\n",
    "        print(\"SQUEEK\")"
   ]
  },
  {
   "cell_type": "code",
   "execution_count": 11,
   "metadata": {},
   "outputs": [
    {
     "name": "stdout",
     "output_type": "stream",
     "text": [
      "Scooby\n",
      "True\n",
      "Scooby is eating\n",
      "Scooby is asleep\n",
      "WOOF\n",
      "\n",
      "\n",
      "Garfield\n",
      "True\n",
      "Garfield is eating\n",
      "Garfield is asleep\n",
      "MIAU\n",
      "\n",
      "\n",
      "Mickey\n",
      "True\n",
      "Mickey is eating\n",
      "Mickey is asleep\n",
      "SQUEEK\n"
     ]
    }
   ],
   "source": [
    "dog = Dog(\"Scooby\")\n",
    "cat = Cat(\"Garfield\")\n",
    "mouse = Mouse(\"Mickey\")\n",
    "\n",
    "print(dog.name)\n",
    "print(dog.is_alive)\n",
    "dog.eat()\n",
    "dog.sleep()\n",
    "dog.speak()\n",
    "\n",
    "print(\"\\n\")\n",
    "print(cat.name)\n",
    "print(cat.is_alive)\n",
    "cat.eat()\n",
    "cat.sleep()\n",
    "cat.speak()\n",
    "print(\"\\n\")\n",
    "\n",
    "print(mouse.name)\n",
    "print(mouse.is_alive)\n",
    "mouse.eat()\n",
    "mouse.sleep()\n",
    "mouse.speak()"
   ]
  },
  {
   "cell_type": "code",
   "execution_count": null,
   "metadata": {},
   "outputs": [],
   "source": []
  }
 ],
 "metadata": {
  "kernelspec": {
   "display_name": "Python 3",
   "language": "python",
   "name": "python3"
  },
  "language_info": {
   "codemirror_mode": {
    "name": "ipython",
    "version": 3
   },
   "file_extension": ".py",
   "mimetype": "text/x-python",
   "name": "python",
   "nbconvert_exporter": "python",
   "pygments_lexer": "ipython3",
   "version": "3.12.9"
  }
 },
 "nbformat": 4,
 "nbformat_minor": 2
}
