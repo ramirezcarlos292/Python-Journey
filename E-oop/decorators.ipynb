{
 "cells": [
  {
   "cell_type": "markdown",
   "metadata": {},
   "source": [
    "# Decorators\n",
    "A function that extends the bahavior of another function without modifying the base function.\n",
    "\n",
    "https://www.youtube.com/watch?v=U-G-mSd4KAE&t=293s"
   ]
  },
  {
   "cell_type": "code",
   "execution_count": 9,
   "metadata": {},
   "outputs": [
    {
     "name": "stdout",
     "output_type": "stream",
     "text": [
      "You add sprinkles*\n",
      "You add fudge*\n",
      "Here is your vanilla ice cream\n"
     ]
    }
   ],
   "source": [
    "def add_sprinkles(func):\n",
    "    def wrapper(*args, **kwargs):\n",
    "        print(\"You add sprinkles*\")\n",
    "        func(*args, **kwargs)\n",
    "    return wrapper\n",
    "\n",
    "def add_fudge(func):\n",
    "    def wrapper(*args, **kwargs):\n",
    "        print(\"You add fudge*\")\n",
    "        func(*args, **kwargs)\n",
    "    return wrapper\n",
    "\n",
    "@add_sprinkles\n",
    "@add_fudge\n",
    "def get_ice_cream(flavor):\n",
    "    print(f\"Here is your {flavor} ice cream\")\n",
    "    \n",
    "get_ice_cream(\"vanilla\")"
   ]
  },
  {
   "cell_type": "code",
   "execution_count": null,
   "metadata": {},
   "outputs": [],
   "source": []
  }
 ],
 "metadata": {
  "kernelspec": {
   "display_name": "Python 3",
   "language": "python",
   "name": "python3"
  },
  "language_info": {
   "codemirror_mode": {
    "name": "ipython",
    "version": 3
   },
   "file_extension": ".py",
   "mimetype": "text/x-python",
   "name": "python",
   "nbconvert_exporter": "python",
   "pygments_lexer": "ipython3",
   "version": "3.12.9"
  }
 },
 "nbformat": 4,
 "nbformat_minor": 2
}
