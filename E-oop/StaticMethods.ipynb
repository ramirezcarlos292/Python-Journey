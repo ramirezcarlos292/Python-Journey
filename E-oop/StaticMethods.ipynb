{
 "cells": [
  {
   "cell_type": "markdown",
   "metadata": {},
   "source": [
    "# Static Methods\n",
    "A methods that belong to a class rather than any object from that class (instance). Usually used for general utility functions.\n",
    "\n",
    "Instance Methods: Best for operations on instances of the class (objects).\n",
    "\n",
    "Static Methods: Best for utility functions that do not need access to class_data.\n",
    "\n",
    "https://www.youtube.com/watch?v=GZYWTm7JoWs"
   ]
  },
  {
   "cell_type": "code",
   "execution_count": 12,
   "metadata": {},
   "outputs": [
    {
     "name": "stdout",
     "output_type": "stream",
     "text": [
      "False\n",
      "Eugene = Manager\n",
      "Squiward = Cashier\n",
      "Spongebob = Cook\n"
     ]
    }
   ],
   "source": [
    "class Employee:\n",
    "\n",
    "    def __init__(self, name, position):\n",
    "        self.name = name\n",
    "        self.position = position\n",
    "        \n",
    "    def get_info(self):\n",
    "        return f\"{self.name} = {self.position}\"\n",
    "    \n",
    "    @staticmethod\n",
    "    def is_valid_position(position):\n",
    "        valid_positions  = ['Manager', 'Cashier','Cook', \"janitor\"]\n",
    "        return position in valid_positions\n",
    "    \n",
    "\n",
    "employee1 = Employee(\"Eugene\", \"Manager\")\n",
    "employee2 = Employee(\"Squiward\", \"Cashier\")\n",
    "employee3 = Employee(\"Spongebob\", \"Cook\")\n",
    "        \n",
    "print(Employee.is_valid_position(\"Rocket Scientist\"))\n",
    "print(employee1.get_info())\n",
    "print(employee2.get_info())\n",
    "print(employee3.get_info())"
   ]
  },
  {
   "cell_type": "code",
   "execution_count": null,
   "metadata": {},
   "outputs": [],
   "source": []
  }
 ],
 "metadata": {
  "kernelspec": {
   "display_name": "Python 3",
   "language": "python",
   "name": "python3"
  },
  "language_info": {
   "codemirror_mode": {
    "name": "ipython",
    "version": 3
   },
   "file_extension": ".py",
   "mimetype": "text/x-python",
   "name": "python",
   "nbconvert_exporter": "python",
   "pygments_lexer": "ipython3",
   "version": "3.12.9"
  }
 },
 "nbformat": 4,
 "nbformat_minor": 2
}
