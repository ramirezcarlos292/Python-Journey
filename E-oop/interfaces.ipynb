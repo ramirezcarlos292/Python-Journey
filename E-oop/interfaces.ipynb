{
 "cells": [
  {
   "cell_type": "markdown",
   "metadata": {},
   "source": [
    "# Interfaces"
   ]
  },
  {
   "cell_type": "code",
   "execution_count": 22,
   "metadata": {},
   "outputs": [],
   "source": [
    "from abc import ABC, abstractmethod\n",
    "import uuid"
   ]
  },
  {
   "cell_type": "markdown",
   "metadata": {},
   "source": [
    "## Example with Animals"
   ]
  },
  {
   "cell_type": "markdown",
   "metadata": {},
   "source": [
    "### Interface Definition"
   ]
  },
  {
   "cell_type": "code",
   "execution_count": 9,
   "metadata": {},
   "outputs": [],
   "source": [
    "# Define an interface using an abstract base class\n",
    "class Animal(ABC):\n",
    "    @abstractmethod\n",
    "    def make_sound(self):\n",
    "        pass\n",
    "    \n",
    "    @abstractmethod\n",
    "    def move(self):\n",
    "        pass"
   ]
  },
  {
   "cell_type": "markdown",
   "metadata": {},
   "source": [
    "### Interface implementation"
   ]
  },
  {
   "cell_type": "code",
   "execution_count": null,
   "metadata": {},
   "outputs": [],
   "source": [
    "# Implement the interface in a class\n",
    "class Dog(Animal):\n",
    "    def make_sound(self):\n",
    "        print(\"The dog is barking\")\n",
    "    \n",
    "    def move(self):\n",
    "        print(\"The dog is Running\")\n",
    "        \n",
    "        # Another class implementing the interface\n",
    "class Bird(Animal):\n",
    "    def make_sound(self):\n",
    "        print(\"The Bird is chirping\")\n",
    "    \n",
    "    def move(self):\n",
    "        print(\"The Bird is Flying\")"
   ]
  },
  {
   "cell_type": "markdown",
   "metadata": {},
   "source": [
    "### Usage"
   ]
  },
  {
   "cell_type": "code",
   "execution_count": 17,
   "metadata": {},
   "outputs": [
    {
     "name": "stdout",
     "output_type": "stream",
     "text": [
      "The dog is barking\n",
      "The dog is Running\n",
      "The Bird is chirping\n",
      "The Bird is Flying\n"
     ]
    }
   ],
   "source": [
    "dog = Dog()\n",
    "dog.make_sound()\n",
    "dog.move()\n",
    "\n",
    "bird = Bird()\n",
    "bird.make_sound()\n",
    "bird.move()"
   ]
  },
  {
   "cell_type": "markdown",
   "metadata": {},
   "source": [
    "## Example: Uber or Lyft passenger and driver"
   ]
  },
  {
   "cell_type": "code",
   "execution_count": 27,
   "metadata": {},
   "outputs": [],
   "source": [
    "class User(ABC):\n",
    "    @abstractmethod\n",
    "    def get_id(self):\n",
    "        pass\n",
    "    \n",
    "    @abstractmethod\n",
    "    def get_location(self):\n",
    "        pass\n",
    "    \n",
    "class Driver(User):\n",
    "    @abstractmethod\n",
    "    def accept_ride(self, ride_id):\n",
    "        pass\n",
    "\n",
    "    @abstractmethod\n",
    "    def complete_ride(self, ride_id):\n",
    "        pass\n",
    "    \n",
    "class Passenger(User):\n",
    "    @abstractmethod\n",
    "    def request_ride(self, destination):\n",
    "        pass\n",
    "    \n",
    "    @abstractmethod\n",
    "    def rate_driver(self, driver_id, rating):\n",
    "        pass\n",
    "    "
   ]
  },
  {
   "cell_type": "code",
   "execution_count": 38,
   "metadata": {},
   "outputs": [],
   "source": [
    "class ConcreteDriver(Driver):\n",
    "    def __init__(self, driver_id, location):\n",
    "        self.driver_id = driver_id\n",
    "        self.location = location\n",
    "        \n",
    "    def get_id(self):\n",
    "        return self.driver_id\n",
    "    \n",
    "    def get_location(self):\n",
    "        return self.location\n",
    "    \n",
    "    def accept_ride(self, ride_id):\n",
    "        print(f\"Driver {self.driver_id} has accepted ride {ride_id}\")\n",
    "        \n",
    "    def complete_ride(self, ride_id):\n",
    "        print(f\"Driver {self.driver_id} has completed ride {ride_id}\")  \n",
    "    \n",
    "class ConcretePassenger(Passenger):\n",
    "    def __init__(self, passenger_id, location):\n",
    "        self.passenger_id = passenger_id\n",
    "        self.location = location\n",
    "        \n",
    "    def get_id(self):\n",
    "        return self.passenger_id\n",
    "    \n",
    "    def get_location(self):\n",
    "        return self.location\n",
    "    \n",
    "    def request_ride(self, destination):\n",
    "        ride_id = uuid.uuid4()\n",
    "        print(f\"Passenger {self.passenger_id} has requested a ride to {destination}. Ride ID: {ride_id}\")\n",
    "        return ride_id\n",
    "    \n",
    "    def rate_driver(self, driver_id, rating):\n",
    "        print(f\"Passenger {self.passenger_id} has rated Driver {driver_id} with a {rating} star rating\")\n",
    "        "
   ]
  },
  {
   "cell_type": "code",
   "execution_count": 40,
   "metadata": {},
   "outputs": [
    {
     "name": "stdout",
     "output_type": "stream",
     "text": [
      "Passenger P456 has requested a ride to Airport. Ride ID: 8a0b2fb5-7e51-4ac8-a0fe-c8cf3d6db22d\n",
      "Driver D123 has accepted ride 8a0b2fb5-7e51-4ac8-a0fe-c8cf3d6db22d\n",
      "Driver D123 has completed ride 8a0b2fb5-7e51-4ac8-a0fe-c8cf3d6db22d\n",
      "Passenger P456 has rated Driver D123 with a 5 star rating\n"
     ]
    }
   ],
   "source": [
    "def main():\n",
    "    # Create a driver and a passenger\n",
    "    driver = ConcreteDriver(driver_id=\"D123\", location=\"Downtown\")\n",
    "    passenger = ConcretePassenger(passenger_id=\"P456\", location=\"Uptown\")\n",
    "    \n",
    "    # Passenger requests a ride\n",
    "    ride_id = passenger.request_ride(destination=\"Airport\")\n",
    "    \n",
    "    # Driver accepts the ride\n",
    "    driver.accept_ride(ride_id)\n",
    "    \n",
    "    # Driver completes the ride\n",
    "    driver.complete_ride(ride_id)    \n",
    "    \n",
    "    \n",
    "    # Passenger rates the driver\n",
    "    passenger.rate_driver(driver_id=\"D123\", rating=5)\n",
    "\n",
    "if __name__ == \"__main__\":\n",
    "    main()\n"
   ]
  },
  {
   "cell_type": "code",
   "execution_count": null,
   "metadata": {},
   "outputs": [],
   "source": []
  }
 ],
 "metadata": {
  "kernelspec": {
   "display_name": "Python 3",
   "language": "python",
   "name": "python3"
  },
  "language_info": {
   "codemirror_mode": {
    "name": "ipython",
    "version": 3
   },
   "file_extension": ".py",
   "mimetype": "text/x-python",
   "name": "python",
   "nbconvert_exporter": "python",
   "pygments_lexer": "ipython3",
   "version": "3.12.9"
  }
 },
 "nbformat": 4,
 "nbformat_minor": 2
}
