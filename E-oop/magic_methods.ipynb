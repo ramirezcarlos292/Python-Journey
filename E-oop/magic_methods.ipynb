{
 "cells": [
  {
   "cell_type": "markdown",
   "metadata": {},
   "source": [
    "# Dunder methods or magic methods\n",
    "Dunder methods, called by many of python's built in operations. They allow to define or customize the behavior of objects."
   ]
  },
  {
   "cell_type": "code",
   "execution_count": null,
   "metadata": {},
   "outputs": [
    {
     "ename": "SyntaxError",
     "evalue": "incomplete input (3028134438.py, line 30)",
     "output_type": "error",
     "traceback": [
      "\u001b[1;36m  Cell \u001b[1;32mIn[8], line 30\u001b[1;36m\u001b[0m\n\u001b[1;33m    \u001b[0m\n\u001b[1;37m    ^\u001b[0m\n\u001b[1;31mSyntaxError\u001b[0m\u001b[1;31m:\u001b[0m incomplete input\n"
     ]
    }
   ],
   "source": [
    "class Book:\n",
    "    def __init__(self, title, author, num_pages):\n",
    "        self.title = title\n",
    "        self.author = author\n",
    "        self.num_pages = num_pages\n",
    "        \n",
    "    def __str__(self):\n",
    "        return f\"'{self.title}' by {self.author}\"\n",
    "    \n",
    "    # comparing two editions of same book\n",
    "    def __eq__(self, other):\n",
    "        return self.title == other.title and self.author == other.author\n",
    "    \n",
    "    # get which book to start first knowing which have least number of pages\n",
    "    def __lt__(self, other):\n",
    "        return self.num_pages <  other.num_pages\n",
    "    \n",
    "    def __gt__(self, other):\n",
    "        return self.num_pages >  other.num_pages\n",
    "    \n",
    "    def __add__(self, other):\n",
    "        return self.num_pages + other.num_pages\n",
    "    \n",
    "    # searching for books based on title or author\n",
    "    def __contains__(self, keyword):\n",
    "        return keyword in self.title or keyword in self.author\n",
    "    \n",
    "    # asking for a particular data for book\n",
    "    def __getitem__(self, key):\n",
    "        if key == 'title':\n",
    "            return self.title\n",
    "        elif key == 'author':\n",
    "            return self.author\n",
    "        elif key == 'num_pages':\n",
    "            return self.num_pages\n",
    "        else:\n",
    "            return f\"Key '{key}' was not found\""
   ]
  },
  {
   "cell_type": "code",
   "execution_count": 6,
   "metadata": {},
   "outputs": [],
   "source": [
    "book1 = Book(\"The Hobbit\", \"J.R.R. Tolkien\", 310)\n",
    "book2 = Book(\"Harry Potter and the Philosopher Stone\", \"j.K. Rowling\", 223)\n",
    "book2_2 = Book(\"Harry Potter and the Philosopher Stone\", \"j.K. Rowling\", 300)\n",
    "book3 = Book(\"The Lion, the Witch and the Wardrobe\", \"C.S. Lewis\", 172)"
   ]
  },
  {
   "cell_type": "code",
   "execution_count": null,
   "metadata": {},
   "outputs": [
    {
     "name": "stdout",
     "output_type": "stream",
     "text": [
      "'The Lion, the Witch and the Wardrobe' by C.S. Lewis\n",
      "True\n"
     ]
    }
   ],
   "source": [
    "print(book3)\n",
    "print(book2 < book2_2)\n",
    "print(\"Lion\" in book3)"
   ]
  },
  {
   "cell_type": "code",
   "execution_count": null,
   "metadata": {},
   "outputs": [],
   "source": []
  }
 ],
 "metadata": {
  "kernelspec": {
   "display_name": "Python 3",
   "language": "python",
   "name": "python3"
  },
  "language_info": {
   "codemirror_mode": {
    "name": "ipython",
    "version": 3
   },
   "file_extension": ".py",
   "mimetype": "text/x-python",
   "name": "python",
   "nbconvert_exporter": "python",
   "pygments_lexer": "ipython3",
   "version": "3.12.9"
  }
 },
 "nbformat": 4,
 "nbformat_minor": 2
}
