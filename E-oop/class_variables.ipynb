{
 "cells": [
  {
   "cell_type": "markdown",
   "metadata": {},
   "source": [
    "# Class Variables\n",
    "https://www.youtube.com/watch?v=bytvWg4fPB0&list=PLZPZq0r_RZOOkUQbat8LyQii36cJf2SWT&index=48"
   ]
  },
  {
   "cell_type": "code",
   "execution_count": 2,
   "metadata": {},
   "outputs": [
    {
     "name": "stdout",
     "output_type": "stream",
     "text": [
      "My Graduating class of 2024 has 4 students\n",
      "Spongebob\n",
      "Patrick\n",
      "Squidward\n",
      "Sandy\n"
     ]
    }
   ],
   "source": [
    "class Student:\n",
    "    # class variables\n",
    "    class_year = 2024\n",
    "    num_students = 0\n",
    "    \n",
    "    def __init__(self, name, age):\n",
    "        self.name = name\n",
    "        self.age = age\n",
    "        Student.num_students += 1\n",
    "        \n",
    "student1 = Student(\"Spongebob\", 30)\n",
    "student2 = Student(\"Patrick\", 35)\n",
    "student3 = Student(\"Squidward\", 55)\n",
    "student4 = Student(\"Sandy\", 27)\n",
    "\n",
    "print(f\"My Graduating class of {Student.class_year} has {Student.num_students} students\")\n",
    "print(student1.name)\n",
    "print(student2.name)\n",
    "print(student3.name)\n",
    "print(student4.name)"
   ]
  },
  {
   "cell_type": "code",
   "execution_count": null,
   "metadata": {},
   "outputs": [],
   "source": []
  }
 ],
 "metadata": {
  "kernelspec": {
   "display_name": "Python 3",
   "language": "python",
   "name": "python3"
  },
  "language_info": {
   "codemirror_mode": {
    "name": "ipython",
    "version": 3
   },
   "file_extension": ".py",
   "mimetype": "text/x-python",
   "name": "python",
   "nbconvert_exporter": "python",
   "pygments_lexer": "ipython3",
   "version": "3.12.9"
  }
 },
 "nbformat": 4,
 "nbformat_minor": 2
}
