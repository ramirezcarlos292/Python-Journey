{
 "cells": [
  {
   "cell_type": "markdown",
   "metadata": {},
   "source": [
    "# Aggregation\n",
    "Represents a relationship where one object (the whole) contains references to one or more INDEPENDENT objects (the parts). Can exist without each other. Unlike composition."
   ]
  },
  {
   "cell_type": "code",
   "execution_count": null,
   "metadata": {},
   "outputs": [],
   "source": [
    "# Container (the whole)\n",
    "class Library:\n",
    "    def __init__(self, name):\n",
    "        self.name = name\n",
    "        self.books = []\n",
    "        \n",
    "    def aggregation(self, book):\n",
    "        self.books.append(book)\n",
    "    \n",
    "    def list_books(self):\n",
    "        return [f\"{book.title} by {book.author}\" for book in self.books]  \n",
    "# The INDEPENDENT parts\n",
    "class Book:\n",
    "    def __init__(self, title, author):\n",
    "        self.title = title\n",
    "        self.author = author\n",
    "        \n",
    "        \n",
    "library = Library(\"NY public library\")\n",
    "\n",
    "book1 = Book(\"Harry Potter and the Philosopher Stone\", \"J.K. Rowling\")\n",
    "book2 = Book(\"The Hobbit\", \"J.R.R. Tolkein\")\n",
    "book3 = Book(\"The colour of Magic\", \"Terry Pratchet\")\n",
    "\n",
    "# Aggregation happens here\n",
    "library.aggregation(book1)\n",
    "library.aggregation(book2)\n",
    "library.aggregation(book3)"
   ]
  },
  {
   "cell_type": "code",
   "execution_count": 3,
   "metadata": {},
   "outputs": [
    {
     "name": "stdout",
     "output_type": "stream",
     "text": [
      "NY public library\n",
      "['Harry Potter ... by J.K. Rowling', 'The Hobbit by J.R.R. Tolkein', 'The colour of Magic by Terry Pratchet']\n"
     ]
    }
   ],
   "source": [
    "print(library.name)\n",
    "print(library.list_books())"
   ]
  },
  {
   "cell_type": "code",
   "execution_count": null,
   "metadata": {},
   "outputs": [
    {
     "name": "stdout",
     "output_type": "stream",
     "text": [
      "Harry Potter and the Philosopher Stone by J.K. Rowling\n",
      "The Hobbit by J.R.R. Tolkein\n",
      "The colour of Magic by Terry Pratchet\n"
     ]
    }
   ],
   "source": [
    "for book in library.list_books():\n",
    "    print(book)"
   ]
  },
  {
   "cell_type": "markdown",
   "metadata": {},
   "source": [
    "# Composition\n",
    "The composed object directly owns its components, which cannot exist independently \"owns-a\" relationship"
   ]
  },
  {
   "cell_type": "code",
   "execution_count": null,
   "metadata": {},
   "outputs": [
    {
     "name": "stdout",
     "output_type": "stream",
     "text": [
      "Ford Mustang 500(hp) 18(in)\n",
      "Chevrolet Corvette 670(hp) 19(in)\n"
     ]
    }
   ],
   "source": [
    "class Engine:\n",
    "    def __init__(self, horse_power):\n",
    "        self.horse_power = horse_power\n",
    "        \n",
    "\n",
    "class Wheel:\n",
    "    def __init__(self, size):\n",
    "        self.size = size\n",
    "\n",
    "# Composed class\n",
    "class Car:\n",
    "    def __init__(self, make, model, horse_power, wheel_size):\n",
    "        self.make = make\n",
    "        self.model = model\n",
    "        # Composition happens here\n",
    "        self.engine = Engine(horse_power)\n",
    "        self.wheels = [Wheel(wheel_size) for wheel in range(4)]\n",
    "\n",
    "    def display_car(self):\n",
    "        return f\"{self.make} {self.model} {self.engine.horse_power}(hp) {self.wheels[0].size}(in)\"\n",
    "\n",
    "car1 = Car(make = \"Ford\", model = \"Mustang\", horse_power=500, wheel_size=18)\n",
    "car2 = Car(make = \"Chevrolet\", model = \"Corvette\", horse_power=670, wheel_size=19)\n",
    "print(car1.display_car())\n",
    "print(car2.display_car())"
   ]
  }
 ],
 "metadata": {
  "kernelspec": {
   "display_name": "Python 3",
   "language": "python",
   "name": "python3"
  },
  "language_info": {
   "codemirror_mode": {
    "name": "ipython",
    "version": 3
   },
   "file_extension": ".py",
   "mimetype": "text/x-python",
   "name": "python",
   "nbconvert_exporter": "python",
   "pygments_lexer": "ipython3",
   "version": "3.12.9"
  }
 },
 "nbformat": 4,
 "nbformat_minor": 2
}
