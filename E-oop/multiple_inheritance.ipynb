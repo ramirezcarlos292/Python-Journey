{
 "cells": [
  {
   "cell_type": "markdown",
   "metadata": {},
   "source": [
    "# Multiple Inheritance\n",
    "https://www.youtube.com/watch?v=Q8YlYHjksLo&t=335s\n",
    "\n",
    "* **multiple inheritance** = inherit from more than one parent class or C(A, B) [C inherits both, A and B]\n",
    "* **multilevel inheritance** = inherit from a parent which inherints from another parent [grandparent, parent, child]"
   ]
  },
  {
   "cell_type": "code",
   "execution_count": 17,
   "metadata": {},
   "outputs": [],
   "source": [
    "# Grandparent\n",
    "class Animal:\n",
    "    def __init__(self, name):\n",
    "        self.name = name\n",
    "        \n",
    "    def __str__(self):\n",
    "        return f\"{self.name}\"\n",
    "        \n",
    "    def eat(self):\n",
    "        print(f\"{self.name} is eating\")\n",
    "\n",
    "    def sleep(self):\n",
    "        print(f\"{self.name} is sleeping\")\n",
    "        \n",
    "# Parent Classes        \n",
    "class Prey(Animal):\n",
    "    def flee(self):\n",
    "        print(f\"{self.name} is fleeing\")\n",
    "\n",
    "class Predator(Animal):\n",
    "    def hunt(self):\n",
    "        print(f\"{self.name} is hunting\")\n",
    "        \n",
    "# Children Classes\n",
    "class Rabbit(Prey):\n",
    "    pass\n",
    "    \n",
    "class Hawk(Predator):\n",
    "    pass\n",
    "    \n",
    "class Fish(Prey, Predator):\n",
    "    pass"
   ]
  },
  {
   "cell_type": "code",
   "execution_count": 23,
   "metadata": {},
   "outputs": [
    {
     "name": "stdout",
     "output_type": "stream",
     "text": [
      "Bugs Bunny\n",
      "Bugs Bunny is eating\n",
      "Bugs Bunny is sleeping\n",
      "Bugs Bunny is fleeing\n",
      "\n",
      "\n",
      "Tony\n",
      "Tony is eating\n",
      "Tony is sleeping\n",
      "Tony is hunting\n",
      "\n",
      "\n",
      "Nemo\n",
      "Nemo is eating\n",
      "Nemo is sleeping\n",
      "Nemo is hunting\n"
     ]
    }
   ],
   "source": [
    "rabbit = Rabbit(\"Bugs Bunny\")\n",
    "hawk = Hawk(\"Tony\")\n",
    "fish = Fish(\"Nemo\")\n",
    "\n",
    "# rabbit\n",
    "print(rabbit)\n",
    "rabbit.eat()\n",
    "rabbit.sleep()\n",
    "rabbit.flee()\n",
    "print(\"\\n\")\n",
    "\n",
    "# hawk\n",
    "print(hawk)\n",
    "hawk.eat()\n",
    "hawk.sleep()\n",
    "hawk.hunt()\n",
    "print(\"\\n\")\n",
    "\n",
    "# fish\n",
    "print(fish)\n",
    "fish.eat()\n",
    "fish.sleep()\n",
    "fish.hunt()\n",
    "\n",
    "\n",
    "\n",
    "# hawk.hunt()"
   ]
  },
  {
   "cell_type": "markdown",
   "metadata": {},
   "source": []
  }
 ],
 "metadata": {
  "kernelspec": {
   "display_name": "Python 3",
   "language": "python",
   "name": "python3"
  },
  "language_info": {
   "codemirror_mode": {
    "name": "ipython",
    "version": 3
   },
   "file_extension": ".py",
   "mimetype": "text/x-python",
   "name": "python",
   "nbconvert_exporter": "python",
   "pygments_lexer": "ipython3",
   "version": "3.12.9"
  }
 },
 "nbformat": 4,
 "nbformat_minor": 2
}
