{
 "cells": [
  {
   "cell_type": "markdown",
   "metadata": {},
   "source": [
    "# Abstract Classes Vs Interfaces\n",
    "\n",
    "https://www.geeksforgeeks.org/difference-between-abstract-class-and-interface-in-python/"
   ]
  },
  {
   "cell_type": "markdown",
   "metadata": {},
   "source": [
    "## Abstract Classes\n",
    "https://www.youtube.com/watch?v=97V7ICVeTJc\n",
    "\n",
    "A class that cannot be instanciated on its own; Meant to be subclassed. They contain abstract methods, which are declared bu have no implementation.\n",
    "\n",
    "Abstract classes benefits:\n",
    "1. Prevents instantiation of the class itself.\n",
    "2. Requires children to use inhereted abstract methods\n"
   ]
  },
  {
   "cell_type": "code",
   "execution_count": 9,
   "metadata": {},
   "outputs": [
    {
     "ename": "TypeError",
     "evalue": "Can't instantiate abstract class Vehicle without an implementation for abstract methods 'go', 'stop'",
     "output_type": "error",
     "traceback": [
      "\u001b[1;31m---------------------------------------------------------------------------\u001b[0m",
      "\u001b[1;31mTypeError\u001b[0m                                 Traceback (most recent call last)",
      "Cell \u001b[1;32mIn[9], line 16\u001b[0m\n\u001b[0;32m     13\u001b[0m         \u001b[38;5;28;01mpass\u001b[39;00m\n\u001b[0;32m     15\u001b[0m \u001b[38;5;66;03m# we cannot instantiate it directly\u001b[39;00m\n\u001b[1;32m---> 16\u001b[0m vehicle \u001b[38;5;241m=\u001b[39m \u001b[43mVehicle\u001b[49m\u001b[43m(\u001b[49m\u001b[43m)\u001b[49m\n",
      "\u001b[1;31mTypeError\u001b[0m: Can't instantiate abstract class Vehicle without an implementation for abstract methods 'go', 'stop'"
     ]
    }
   ],
   "source": [
    "from abc import ABC, abstractmethod\n",
    "import uuid\n",
    "\n",
    "\n",
    "class Vehicle(ABC):\n",
    "    \n",
    "    @abstractmethod\n",
    "    def go(self):\n",
    "        pass\n",
    "    \n",
    "    @abstractmethod\n",
    "    def stop(self):\n",
    "        pass\n",
    "\n",
    "# we cannot instantiate it directly\n",
    "vehicle = Vehicle()"
   ]
  },
  {
   "cell_type": "code",
   "execution_count": 10,
   "metadata": {},
   "outputs": [
    {
     "ename": "TypeError",
     "evalue": "Can't instantiate abstract class Car without an implementation for abstract methods 'go', 'stop'",
     "output_type": "error",
     "traceback": [
      "\u001b[1;31m---------------------------------------------------------------------------\u001b[0m",
      "\u001b[1;31mTypeError\u001b[0m                                 Traceback (most recent call last)",
      "Cell \u001b[1;32mIn[10], line 5\u001b[0m\n\u001b[0;32m      2\u001b[0m     \u001b[38;5;28;01mpass\u001b[39;00m\n\u001b[0;32m      4\u001b[0m \u001b[38;5;66;03m# error: we must define all methods of Abstract Class.\u001b[39;00m\n\u001b[1;32m----> 5\u001b[0m car \u001b[38;5;241m=\u001b[39m \u001b[43mCar\u001b[49m\u001b[43m(\u001b[49m\u001b[43m)\u001b[49m\n",
      "\u001b[1;31mTypeError\u001b[0m: Can't instantiate abstract class Car without an implementation for abstract methods 'go', 'stop'"
     ]
    }
   ],
   "source": [
    "class Car(Vehicle):\n",
    "    pass\n",
    "\n",
    "# error: we must define all methods of Abstract Class.\n",
    "car = Car()"
   ]
  },
  {
   "cell_type": "code",
   "execution_count": 11,
   "metadata": {},
   "outputs": [
    {
     "name": "stdout",
     "output_type": "stream",
     "text": [
      "You drive the car\n",
      "You stop the car\n",
      "\n",
      "\n",
      "You drive the motorcycle\n",
      "You stop the motorcycle\n",
      "\n",
      "\n"
     ]
    },
    {
     "ename": "TypeError",
     "evalue": "Can't instantiate abstract class Boat without an implementation for abstract method 'stop'",
     "output_type": "error",
     "traceback": [
      "\u001b[1;31m---------------------------------------------------------------------------\u001b[0m",
      "\u001b[1;31mTypeError\u001b[0m                                 Traceback (most recent call last)",
      "Cell \u001b[1;32mIn[11], line 44\u001b[0m\n\u001b[0;32m     41\u001b[0m motorcycle\u001b[38;5;241m.\u001b[39mstop()\n\u001b[0;32m     42\u001b[0m \u001b[38;5;28mprint\u001b[39m(\u001b[38;5;124m\"\u001b[39m\u001b[38;5;130;01m\\n\u001b[39;00m\u001b[38;5;124m\"\u001b[39m)\n\u001b[1;32m---> 44\u001b[0m boat \u001b[38;5;241m=\u001b[39m \u001b[43mBoat\u001b[49m\u001b[43m(\u001b[49m\u001b[43m)\u001b[49m\n\u001b[0;32m     45\u001b[0m boat\u001b[38;5;241m.\u001b[39mgo()\n\u001b[0;32m     46\u001b[0m \u001b[38;5;66;03m# boat.stop()\u001b[39;00m\n",
      "\u001b[1;31mTypeError\u001b[0m: Can't instantiate abstract class Boat without an implementation for abstract method 'stop'"
     ]
    }
   ],
   "source": [
    "from abc import ABC, abstractmethod\n",
    "class Vehicle(ABC):\n",
    "    \n",
    "    @abstractmethod\n",
    "    def go(self):\n",
    "        pass\n",
    "    \n",
    "    @abstractmethod\n",
    "    def stop(self):\n",
    "        pass\n",
    "    \n",
    "class Car(Vehicle):\n",
    "    def go(self):\n",
    "        print(\"You drive the car\")\n",
    "\n",
    "    def stop(self):\n",
    "        print(\"You stop the car\")\n",
    "        \n",
    "class Motorcycle(Vehicle):\n",
    "    def go(self):\n",
    "        print(\"You drive the motorcycle\")\n",
    "\n",
    "    def stop(self):\n",
    "        print(\"You stop the motorcycle\")\n",
    "\n",
    "class Boat(Vehicle):\n",
    "    def go(self):\n",
    "        print(\"You sail the boat\")\n",
    "    # all methods must be defined, as this is commented will cause the error showed\n",
    "    # def stop(self):\n",
    "    #     print(\"You anchor the boat\")\n",
    "             \n",
    "# error: we must define all methods of Abstract Class.\n",
    "car = Car()\n",
    "car.go()\n",
    "car.stop()\n",
    "print(\"\\n\")\n",
    "\n",
    "motorcycle = Motorcycle()\n",
    "motorcycle.go()\n",
    "motorcycle.stop()\n",
    "print(\"\\n\")\n",
    "\n",
    "boat = Boat()\n",
    "boat.go()\n",
    "# boat.stop()\n",
    "\n"
   ]
  },
  {
   "cell_type": "markdown",
   "metadata": {},
   "source": [
    "## Abstract Classes Example 2"
   ]
  },
  {
   "cell_type": "code",
   "execution_count": 12,
   "metadata": {},
   "outputs": [
    {
     "name": "stdout",
     "output_type": "stream",
     "text": [
      "The dog is barking\n",
      "The dog is Running\n",
      "The Bird is chirping\n",
      "The Bird is Flying\n"
     ]
    }
   ],
   "source": [
    "# Define an interface using an abstract base class\n",
    "class Animal(ABC):\n",
    "    @abstractmethod\n",
    "    def make_sound(self):\n",
    "        pass\n",
    "    \n",
    "    @abstractmethod\n",
    "    def move(self):\n",
    "        pass\n",
    "\n",
    "\n",
    " # Implement the interface in a class\n",
    "class Dog(Animal):\n",
    "    def make_sound(self):\n",
    "        print(\"The dog is barking\")\n",
    "    \n",
    "    def move(self):\n",
    "        print(\"The dog is Running\")\n",
    "        \n",
    "        # Another class implementing the interface\n",
    "class Bird(Animal):\n",
    "    def make_sound(self):\n",
    "        print(\"The Bird is chirping\")\n",
    "    \n",
    "    def move(self):\n",
    "        print(\"The Bird is Flying\")\n",
    "        \n",
    "dog = Dog()\n",
    "dog.make_sound()\n",
    "dog.move()\n",
    "\n",
    "bird = Bird()\n",
    "bird.make_sound()\n",
    "bird.move()    \n",
    "       "
   ]
  },
  {
   "cell_type": "markdown",
   "metadata": {},
   "source": [
    "## Example 3: Uber or Lyft passenger and driver"
   ]
  },
  {
   "cell_type": "code",
   "execution_count": 13,
   "metadata": {},
   "outputs": [],
   "source": [
    "class User(ABC):\n",
    "    @abstractmethod\n",
    "    def get_id(self):\n",
    "        pass\n",
    "    \n",
    "    @abstractmethod\n",
    "    def get_location(self):\n",
    "        pass\n",
    "    \n",
    "class Driver(User):\n",
    "    @abstractmethod\n",
    "    def accept_ride(self, ride_id):\n",
    "        pass\n",
    "\n",
    "    @abstractmethod\n",
    "    def complete_ride(self, ride_id):\n",
    "        pass\n",
    "    \n",
    "class Passenger(User):\n",
    "    @abstractmethod\n",
    "    def request_ride(self, destination):\n",
    "        pass\n",
    "    \n",
    "    @abstractmethod\n",
    "    def rate_driver(self, driver_id, rating):\n",
    "        pass"
   ]
  },
  {
   "cell_type": "code",
   "execution_count": 14,
   "metadata": {},
   "outputs": [],
   "source": [
    "class ConcreteDriver(Driver):\n",
    "    def __init__(self, driver_id, location):\n",
    "        self.driver_id = driver_id\n",
    "        self.location = location\n",
    "        \n",
    "    def get_id(self):\n",
    "        return self.driver_id\n",
    "    \n",
    "    def get_location(self):\n",
    "        return self.location\n",
    "    \n",
    "    def accept_ride(self, ride_id):\n",
    "        print(f\"Driver {self.driver_id} has accepted ride {ride_id}\")\n",
    "        \n",
    "    def complete_ride(self, ride_id):\n",
    "        print(f\"Driver {self.driver_id} has completed ride {ride_id}\")  \n",
    "    \n",
    "class ConcretePassenger(Passenger):\n",
    "    def __init__(self, passenger_id, location):\n",
    "        self.passenger_id = passenger_id\n",
    "        self.location = location\n",
    "        \n",
    "    def get_id(self):\n",
    "        return self.passenger_id\n",
    "    \n",
    "    def get_location(self):\n",
    "        return self.location\n",
    "    \n",
    "    def request_ride(self, destination):\n",
    "        ride_id = uuid.uuid4()\n",
    "        print(f\"Passenger {self.passenger_id} has requested a ride to {destination}. Ride ID: {ride_id}\")\n",
    "        return ride_id\n",
    "    \n",
    "    def rate_driver(self, driver_id, rating):\n",
    "        print(f\"Passenger {self.passenger_id} has rated Driver {driver_id} with a {rating} star rating\")\n",
    "        "
   ]
  },
  {
   "cell_type": "code",
   "execution_count": 15,
   "metadata": {},
   "outputs": [
    {
     "name": "stdout",
     "output_type": "stream",
     "text": [
      "Passenger P456 has requested a ride to Airport. Ride ID: efa430b3-703b-41b3-9d1c-317ae3856ed3\n",
      "Driver D123 has accepted ride efa430b3-703b-41b3-9d1c-317ae3856ed3\n",
      "Driver D123 has completed ride efa430b3-703b-41b3-9d1c-317ae3856ed3\n",
      "Passenger P456 has rated Driver D123 with a 5 star rating\n"
     ]
    }
   ],
   "source": [
    "def main():\n",
    "    # Create a driver and a passenger\n",
    "    driver = ConcreteDriver(driver_id=\"D123\", location=\"Downtown\")\n",
    "    passenger = ConcretePassenger(passenger_id=\"P456\", location=\"Uptown\")\n",
    "    \n",
    "    # Passenger requests a ride\n",
    "    ride_id = passenger.request_ride(destination=\"Airport\")\n",
    "    \n",
    "    # Driver accepts the ride\n",
    "    driver.accept_ride(ride_id)\n",
    "    \n",
    "    # Driver completes the ride\n",
    "    driver.complete_ride(ride_id)    \n",
    "    \n",
    "    \n",
    "    # Passenger rates the driver\n",
    "    passenger.rate_driver(driver_id=\"D123\", rating=5)\n",
    "\n",
    "if __name__ == \"__main__\":\n",
    "    main()\n"
   ]
  },
  {
   "cell_type": "code",
   "execution_count": null,
   "metadata": {},
   "outputs": [],
   "source": []
  }
 ],
 "metadata": {
  "kernelspec": {
   "display_name": "Python 3",
   "language": "python",
   "name": "python3"
  },
  "language_info": {
   "codemirror_mode": {
    "name": "ipython",
    "version": 3
   },
   "file_extension": ".py",
   "mimetype": "text/x-python",
   "name": "python",
   "nbconvert_exporter": "python",
   "pygments_lexer": "ipython3",
   "version": "3.12.9"
  }
 },
 "nbformat": 4,
 "nbformat_minor": 2
}
