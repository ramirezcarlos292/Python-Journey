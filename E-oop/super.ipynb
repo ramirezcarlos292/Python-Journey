{
 "cells": [
  {
   "cell_type": "code",
   "execution_count": 13,
   "metadata": {},
   "outputs": [],
   "source": [
    "class Shape:\n",
    "    def __init__(self, color, is_filled):\n",
    "        self.color = color\n",
    "        self.is_filled = is_filled\n",
    "        \n",
    "class Circle(Shape):\n",
    "    def __init__(self, color, is_filled, radius):\n",
    "        super().__init__(color, is_filled)\n",
    "        self.radius = radius\n",
    "        \n",
    "class Square(Shape):\n",
    "    def __init__(self, color, is_filled, side):\n",
    "        super().__init__(color, is_filled)\n",
    "        self.side = side\n",
    "\n",
    "class Triangle(Shape):\n",
    "    def __init__(self, color, is_filled, height, base):\n",
    "        super().__init__(color, is_filled)\n",
    "        self.height = height\n",
    "        self.base = base"
   ]
  },
  {
   "cell_type": "code",
   "execution_count": 14,
   "metadata": {},
   "outputs": [
    {
     "name": "stdout",
     "output_type": "stream",
     "text": [
      "green\n",
      "False\n",
      "Circle's area: 78.53981633974483\n"
     ]
    }
   ],
   "source": [
    "import math\n",
    "circle = Circle(color='green', is_filled=False, radius = 5)\n",
    "print(circle.color)\n",
    "print(circle.is_filled)\n",
    "print(f\"Circle's area: {math.pi * circle.radius **2}\")"
   ]
  },
  {
   "cell_type": "code",
   "execution_count": 15,
   "metadata": {},
   "outputs": [
    {
     "name": "stdout",
     "output_type": "stream",
     "text": [
      "red\n",
      "True\n",
      "Square's Area: 25\n"
     ]
    }
   ],
   "source": [
    "square = Square(color='red', is_filled=True, side = 5)\n",
    "print(square.color)\n",
    "print(square.is_filled)\n",
    "print(f\"Square's Area: {square.side ** 2}\")"
   ]
  },
  {
   "cell_type": "code",
   "execution_count": 18,
   "metadata": {},
   "outputs": [
    {
     "name": "stdout",
     "output_type": "stream",
     "text": [
      "blue\n",
      "True\n",
      "Triangle's Area: 12.5\n"
     ]
    }
   ],
   "source": [
    "triangle = Triangle(color='blue', is_filled=True, height=5, base=5)\n",
    "print(triangle.color)\n",
    "print(triangle.is_filled)\n",
    "print(f\"Triangle's Area: {triangle.base * triangle.height / 2}\")"
   ]
  },
  {
   "cell_type": "code",
   "execution_count": null,
   "metadata": {},
   "outputs": [],
   "source": []
  },
  {
   "cell_type": "code",
   "execution_count": null,
   "metadata": {},
   "outputs": [],
   "source": []
  }
 ],
 "metadata": {
  "kernelspec": {
   "display_name": "Python 3",
   "language": "python",
   "name": "python3"
  },
  "language_info": {
   "codemirror_mode": {
    "name": "ipython",
    "version": 3
   },
   "file_extension": ".py",
   "mimetype": "text/x-python",
   "name": "python",
   "nbconvert_exporter": "python",
   "pygments_lexer": "ipython3",
   "version": "3.12.9"
  }
 },
 "nbformat": 4,
 "nbformat_minor": 2
}
