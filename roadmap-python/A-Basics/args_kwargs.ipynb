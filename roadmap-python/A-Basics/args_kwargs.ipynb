{
 "cells": [
  {
   "cell_type": "markdown",
   "metadata": {},
   "source": [
    "# *args & **kwargs"
   ]
  },
  {
   "cell_type": "markdown",
   "metadata": {},
   "source": [
    "## *args"
   ]
  },
  {
   "cell_type": "code",
   "execution_count": 1,
   "metadata": {},
   "outputs": [
    {
     "name": "stdout",
     "output_type": "stream",
     "text": [
      "10\n",
      "30\n"
     ]
    }
   ],
   "source": [
    "def fun(*args):\n",
    "    return sum(args)\n",
    "\n",
    "print(fun(1,2,3,4))\n",
    "print(fun(5,10,15))"
   ]
  },
  {
   "cell_type": "code",
   "execution_count": 2,
   "metadata": {},
   "outputs": [
    {
     "name": "stdout",
     "output_type": "stream",
     "text": [
      "a 1\n",
      "b 2\n",
      "c 3\n"
     ]
    }
   ],
   "source": [
    "def fun(**kwargs):\n",
    "    for k, val in kwargs.items():\n",
    "        print(k, val)\n",
    "\n",
    "fun(a=1, b=2, c=3)"
   ]
  },
  {
   "cell_type": "markdown",
   "metadata": {},
   "source": [
    "a"
   ]
  },
  {
   "cell_type": "code",
   "execution_count": 4,
   "metadata": {},
   "outputs": [
    {
     "name": "stdout",
     "output_type": "stream",
     "text": [
      "First argument:  hello\n",
      "Argument *argv:  Welcome\n",
      "Argument *argv:  to\n",
      "Argument *argv:  GFG\n"
     ]
    }
   ],
   "source": [
    "def fun(arg1, *argv):\n",
    "    print(\"First argument: \", arg1)\n",
    "    for arg in argv:\n",
    "        print(\"Argument *argv: \", arg)\n",
    "        \n",
    "fun(\"hello\", \"Welcome\", \"to\", \"GFG\")"
   ]
  },
  {
   "cell_type": "code",
   "execution_count": 5,
   "metadata": {},
   "outputs": [
    {
     "name": "stdout",
     "output_type": "stream",
     "text": [
      "s1 == Carlos\n",
      "s2 == Ivan\n",
      "s3 == Ramirez\n"
     ]
    }
   ],
   "source": [
    "def fun(arg1, **kwargs):\n",
    "    for k, val in kwargs.items():\n",
    "        print(\"%s == %s\" % (k, val))\n",
    "\n",
    "fun(\"Hi\", s1=\"Carlos\", s2=\"Ivan\", s3=\"Ramirez\")"
   ]
  },
  {
   "cell_type": "code",
   "execution_count": 6,
   "metadata": {},
   "outputs": [
    {
     "name": "stdout",
     "output_type": "stream",
     "text": [
      "Positional arguments:  (1, 2, 3)\n",
      "Keyword arguments:  {'a': 4, 'b': 5}\n"
     ]
    }
   ],
   "source": [
    "def fun(*args, **kwargs):\n",
    "    print(\"Positional arguments: \", args)\n",
    "    print(\"Keyword arguments: \", kwargs)\n",
    "    \n",
    "fun(1, 2, 3, a=4, b=5)"
   ]
  },
  {
   "cell_type": "code",
   "execution_count": null,
   "metadata": {},
   "outputs": [],
   "source": []
  }
 ],
 "metadata": {
  "kernelspec": {
   "display_name": "Python 3",
   "language": "python",
   "name": "python3"
  },
  "language_info": {
   "codemirror_mode": {
    "name": "ipython",
    "version": 3
   },
   "file_extension": ".py",
   "mimetype": "text/x-python",
   "name": "python",
   "nbconvert_exporter": "python",
   "pygments_lexer": "ipython3",
   "version": "3.12.9"
  }
 },
 "nbformat": 4,
 "nbformat_minor": 2
}
