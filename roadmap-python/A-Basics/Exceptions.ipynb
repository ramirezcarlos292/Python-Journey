{
 "cells": [
  {
   "cell_type": "code",
   "execution_count": 1,
   "id": "d3c6802a-c572-427d-8ebc-fea17e56b940",
   "metadata": {},
   "outputs": [],
   "source": [
    "# https://docs.python.org/3/tutorial/errors.html#exceptions"
   ]
  },
  {
   "cell_type": "code",
   "execution_count": 3,
   "id": "f0f9d2f0-4c64-4eab-aa84-db3d3a2bdf96",
   "metadata": {},
   "outputs": [
    {
     "name": "stdin",
     "output_type": "stream",
     "text": [
      "Please enter a number:  a\n"
     ]
    },
    {
     "name": "stdout",
     "output_type": "stream",
     "text": [
      "Oops! That was no valid number. Try Again...\n"
     ]
    },
    {
     "name": "stdin",
     "output_type": "stream",
     "text": [
      "Please enter a number:  f\n"
     ]
    },
    {
     "name": "stdout",
     "output_type": "stream",
     "text": [
      "Oops! That was no valid number. Try Again...\n"
     ]
    },
    {
     "name": "stdin",
     "output_type": "stream",
     "text": [
      "Please enter a number:  a\n"
     ]
    },
    {
     "name": "stdout",
     "output_type": "stream",
     "text": [
      "Oops! That was no valid number. Try Again...\n"
     ]
    },
    {
     "name": "stdin",
     "output_type": "stream",
     "text": [
      "Please enter a number:  8\n"
     ]
    }
   ],
   "source": [
    "while True:\n",
    "    try:\n",
    "        x = int(input(\"Please enter a number: \"))\n",
    "        break\n",
    "    except ValueError:\n",
    "        print(\"Oops! That was no valid number. Try Again...\")"
   ]
  },
  {
   "cell_type": "code",
   "execution_count": 13,
   "id": "0243a3cf-3b7a-4f20-b61f-574f945b73af",
   "metadata": {},
   "outputs": [
    {
     "name": "stdout",
     "output_type": "stream",
     "text": [
      "Could not convert data to and integer.\n"
     ]
    }
   ],
   "source": [
    "import sys\n",
    "\n",
    "try:\n",
    "    f = open('my_file.txt')\n",
    "    s = f.readline()\n",
    "    i = int(s.strip())\n",
    "    print(i)\n",
    "except OSError as err:\n",
    "    print(\"OS Error\", err)\n",
    "except ValueError:\n",
    "    print(\"Could not convert data to and integer.\")\n",
    "except Exception as err:\n",
    "    print(f\"Unexpected {err=}, {type(err)=}\")\n",
    "    raise"
   ]
  },
  {
   "cell_type": "code",
   "execution_count": null,
   "id": "cadfc0a3-316e-476c-8606-bb98bab7e40c",
   "metadata": {},
   "outputs": [],
   "source": []
  }
 ],
 "metadata": {
  "kernelspec": {
   "display_name": "Python 3 (ipykernel)",
   "language": "python",
   "name": "python3"
  },
  "language_info": {
   "codemirror_mode": {
    "name": "ipython",
    "version": 3
   },
   "file_extension": ".py",
   "mimetype": "text/x-python",
   "name": "python",
   "nbconvert_exporter": "python",
   "pygments_lexer": "ipython3",
   "version": "3.12.9"
  }
 },
 "nbformat": 4,
 "nbformat_minor": 5
}
