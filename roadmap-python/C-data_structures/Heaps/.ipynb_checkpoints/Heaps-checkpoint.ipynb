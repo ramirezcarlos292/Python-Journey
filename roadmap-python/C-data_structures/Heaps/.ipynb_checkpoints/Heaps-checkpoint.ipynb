{
 "cells": [
  {
   "cell_type": "markdown",
   "id": "753ad2ae-b1c4-4351-9e6c-d247f71c0e4d",
   "metadata": {},
   "source": [
    "https://www.youtube.com/watch?v=E2v9hBgG6gE&t=952s&ab_channel=GregHogg"
   ]
  },
  {
   "cell_type": "markdown",
   "id": "4c0c6f14-0667-41e4-87a8-0d1d293211cf",
   "metadata": {},
   "source": [
    "# Heaps"
   ]
  },
  {
   "cell_type": "markdown",
   "id": "a7dfba2c-6f86-406f-bb55-a85d29fb2f2b",
   "metadata": {},
   "source": [
    "## Min Heap"
   ]
  },
  {
   "cell_type": "markdown",
   "id": "33b86f69-3eff-493f-87cc-8a6eb8c6b2e9",
   "metadata": {
    "jp-MarkdownHeadingCollapsed": true
   },
   "source": [
    "### Building a heap using heapify \n",
    "Time: O(n), Space: O(1)."
   ]
  },
  {
   "cell_type": "code",
   "execution_count": 22,
   "id": "6850fbd6-cb39-4392-a65d-e11e0e7c67ce",
   "metadata": {},
   "outputs": [],
   "source": [
    "A = [-4, 3, 1, 0, 2, 5, 10, 8, 12, 9] "
   ]
  },
  {
   "cell_type": "code",
   "execution_count": 23,
   "id": "c8809e09-748a-4dc8-af03-da7ce02d17bd",
   "metadata": {},
   "outputs": [
    {
     "data": {
      "text/plain": [
       "[-4, 0, 1, 3, 2, 5, 10, 8, 12, 9]"
      ]
     },
     "execution_count": 23,
     "metadata": {},
     "output_type": "execute_result"
    }
   ],
   "source": [
    "import heapq\n",
    "heapq.heapify(A)\n",
    "A"
   ]
  },
  {
   "cell_type": "markdown",
   "id": "3a9500be-81db-4ed5-9336-8d9d2b43ba05",
   "metadata": {},
   "source": [
    "### Heaps Operations"
   ]
  },
  {
   "cell_type": "markdown",
   "id": "9402bbfb-e6c7-4640-9558-9f87251f0d59",
   "metadata": {},
   "source": [
    "#### Heap pop (Extract minumum element) \n",
    "Time: O(log n)."
   ]
  },
  {
   "cell_type": "code",
   "execution_count": 24,
   "id": "eea7b20b-65cd-4972-ac93-4e88fecad449",
   "metadata": {},
   "outputs": [
    {
     "data": {
      "text/plain": [
       "([0, 2, 1, 3, 9, 5, 10, 8, 12], -4)"
      ]
     },
     "execution_count": 24,
     "metadata": {},
     "output_type": "execute_result"
    }
   ],
   "source": [
    "minn = heapq.heappop(A)\n",
    "A, minn"
   ]
  },
  {
   "cell_type": "markdown",
   "id": "44fc2556-e793-4d10-9827-da687609a255",
   "metadata": {},
   "source": [
    "#### Heap push pop \n",
    "Time: O(log n)"
   ]
  },
  {
   "cell_type": "code",
   "execution_count": 25,
   "id": "ef786537-9cf3-404e-a0d0-c26f00ecc229",
   "metadata": {},
   "outputs": [
    {
     "data": {
      "text/plain": [
       "[1, 2, 5, 3, 9, 99, 10, 8, 12]"
      ]
     },
     "execution_count": 25,
     "metadata": {},
     "output_type": "execute_result"
    }
   ],
   "source": [
    "heapq.heappushpop(A, 99)\n",
    "A"
   ]
  },
  {
   "cell_type": "markdown",
   "id": "31ff43cd-654c-4ab3-a60b-cbc73c9c2919",
   "metadata": {},
   "source": [
    "#### Peek minimum item in heap\n",
    "Time: O(n log n)"
   ]
  },
  {
   "cell_type": "code",
   "execution_count": 26,
   "id": "acbea0c4-0750-4578-897b-c078ba2e832b",
   "metadata": {},
   "outputs": [
    {
     "data": {
      "text/plain": [
       "1"
      ]
     },
     "execution_count": 26,
     "metadata": {},
     "output_type": "execute_result"
    }
   ],
   "source": [
    "A[0]"
   ]
  },
  {
   "cell_type": "markdown",
   "id": "374c07c2-21ff-4fbf-8fdc-f705e5ed21df",
   "metadata": {},
   "source": [
    "#### Build heap from scratch\n",
    "Time: O(n log n)"
   ]
  },
  {
   "cell_type": "code",
   "execution_count": 31,
   "id": "193ff433-8caa-464c-a4d7-829b26f456fb",
   "metadata": {},
   "outputs": [
    {
     "name": "stdout",
     "output_type": "stream",
     "text": [
      "[-5] 1\n",
      "[-5, 4] 2\n",
      "[-5, 4, 2] 3\n",
      "[-5, 1, 2, 4] 4\n",
      "[-5, 1, 2, 4, 7] 5\n",
      "[-5, 1, 0, 4, 7, 2] 6\n",
      "[-5, 1, 0, 4, 7, 2, 3] 7\n",
      "[-5, 1, 0, 4, 7, 2, 3] 7\n"
     ]
    }
   ],
   "source": [
    "B = [-5,4,2,1,7,0,3] \n",
    "heap = []\n",
    "\n",
    "for x in B:\n",
    "    heapq.heappush(heap, x)\n",
    "    # incrementally vizulization\n",
    "    print(heap, len(heap))\n",
    "\n",
    "print(heap, len(heap))"
   ]
  },
  {
   "cell_type": "markdown",
   "id": "0c0f387c-3550-48d5-a9fb-6445c4046f38",
   "metadata": {},
   "source": [
    "#### Max heap\n"
   ]
  },
  {
   "cell_type": "code",
   "execution_count": 39,
   "id": "b8977b65-0641-413f-a450-2aee6d068ebe",
   "metadata": {},
   "outputs": [
    {
     "name": "stdout",
     "output_type": "stream",
     "text": [
      "List to be converted into a heap:\n",
      "[-4, 3, 1, 0, 2, 5, 10, 8, 12, 9]\n",
      "Items in list are converted to its negative, so smaller number will be the max in the heap:\n",
      "[-12, -9, -10, -8, -2, -5, -1, -3, 0, 4]\n",
      "Then when output the minimum of the heap, multiply by minus to get the max\n",
      "12\n",
      "when inserting a new element, convert it to its negative version\n",
      "[-10, -9, -5, -8, -2, 4, -1, -3, 0, 7]\n"
     ]
    }
   ],
   "source": [
    "# Set a list of item to be in the heap\n",
    "C = [-4, 3, 1, 0, 2, 5, 10, 8, 12, 9] \n",
    "print(f\"List to be converted into a heap:\")\n",
    "print(f\"{C}\")\n",
    "n = len(C)\n",
    "\n",
    "# convert to its negative, so when is sorted smaller number will be minimum\n",
    "for i in range(n):\n",
    "    C[i] = -C[i] \n",
    "print(f\"Items in list are converted to its negative, so smaller number will be the max in the heap:\")\n",
    "heapq.heapify(C)\n",
    "print(f\"{C}\")\n",
    "\n",
    "print(f\"Then when output the minimum of the heap, multiply by minus to get the max\")\n",
    "largest = - heapq.heappop(C) # Then minus sign here will convert it to be the maximum of heap\n",
    "print(largest)\n",
    "\n",
    "print(f\"when inserting a new element, convert it to its negative version\")\n",
    "new_item = -7\n",
    "heapq.heappush(C, -new_item) # Inserts positive 7 into the heap, 7 would add -7 \n",
    "print(C)"
   ]
  },
  {
   "cell_type": "markdown",
   "id": "b8dc64ea-dd73-45fd-9f7f-b24ffd1ad456",
   "metadata": {},
   "source": [
    "### Application: Heap sort using a Max Heap.\n",
    "\n",
    "Time: O(n log n), Space: O(n)."
   ]
  },
  {
   "cell_type": "code",
   "execution_count": 15,
   "id": "e9d4d9f2-eff1-4474-964f-2c183218a6b8",
   "metadata": {},
   "outputs": [
    {
     "name": "stdout",
     "output_type": "stream",
     "text": [
      "[0, 1, 2, 3, 4, 5, 6, 7, 8, 9]\n"
     ]
    }
   ],
   "source": [
    "def heapsort(arr):\n",
    "    heapq.heapify(arr)\n",
    "    n = len(arr)\n",
    "    new_list = [0] * n\n",
    "    for i in range(n):\n",
    "        minn = heapq.heappop(arr)\n",
    "        new_list[i] = minn\n",
    "    return new_list\n",
    "\n",
    "print(heapsort([1, 3, 5, 7, 9, 2, 4, 6, 8, 0]))"
   ]
  },
  {
   "cell_type": "markdown",
   "id": "fb92e07c-9d1d-4fde-b488-79bc101c773f",
   "metadata": {},
   "source": [
    "Space: O(1)  is possible via swapping, but requires extra steps.\n",
    "\n",
    "In-Place Heap Sort\n",
    "1. Build a max-heap from the input data.\n",
    "2. Extract the maximum element (root of the heap) and place it at the end of the array.\n",
    "3. Reduce the heap size and heapify the root to maintain the heap property.\n",
    "4. Repeat until all elements are sorted."
   ]
  },
  {
   "cell_type": "code",
   "execution_count": 16,
   "id": "86dea1f0-d177-41ec-a7b1-d10c9b7e9e47",
   "metadata": {},
   "outputs": [
    {
     "name": "stdout",
     "output_type": "stream",
     "text": [
      "[0, 1, 6, 7, 2, 4, 5, 8, 9, 3]\n"
     ]
    }
   ],
   "source": [
    "def heapify(arr, n, i): \n",
    "    largest = i \n",
    "    left = 2 * i + 1 \n",
    "    right = 2 * i + 2 \n",
    "    \n",
    "    if left < n and arr[i] < arr[left]: \n",
    "        largest = left \n",
    "        \n",
    "    if right < n and arr[largest] < arr[right]: \n",
    "        largest = right \n",
    "        \n",
    "    if largest != i: \n",
    "        arr[i], arr[largest] = arr[largest], arr[i] \n",
    "        heapify(arr, n, largest) \n",
    "\n",
    "def heap_sort(arr): \n",
    "    n = len(arr) \n",
    "    # Build a max-heap \n",
    "    for i in range(n // 2 - 1, -1, -1): \n",
    "        heapify(arr, n, i) \n",
    "        # Extract elements one by one\n",
    "        for i in range(n - 1, 0, -1): \n",
    "            arr[i], arr[0] = arr[0], arr[i] \n",
    "            heapify(arr, i, 0) \n",
    "    return arr \n",
    "\n",
    "# Example usage \n",
    "print(heap_sort([1, 3, 5, 7, 9, 2, 4, 6, 8, 0]))"
   ]
  },
  {
   "cell_type": "code",
   "execution_count": 41,
   "id": "fadc2f40-ab2c-4644-b99d-795fcf0e98ff",
   "metadata": {},
   "outputs": [
    {
     "name": "stdout",
     "output_type": "stream",
     "text": [
      "Counter({5: 4, 4: 3, 3: 2})\n"
     ]
    }
   ],
   "source": [
    "D = [5,4,3,5,4,3,5,5,4]\n",
    "\n",
    "from collections import Counter\n",
    "counter = Counter(D)\n",
    "\n",
    "print(counter)"
   ]
  },
  {
   "cell_type": "code",
   "execution_count": 43,
   "id": "cd971416-312b-477c-92cc-d5096bf11bbb",
   "metadata": {},
   "outputs": [
    {
     "name": "stdout",
     "output_type": "stream",
     "text": [
      "[(2, 3), (4, 5), (3, 4)]\n"
     ]
    }
   ],
   "source": [
    "heap = []\n",
    "\n",
    "for key, value in counter.items():\n",
    "    # print(key, value)\n",
    "    heapq.heappush(heap, (value, key))\n",
    "\n",
    "print(heap)"
   ]
  },
  {
   "cell_type": "code",
   "execution_count": null,
   "id": "98249be5-e449-40fe-b11f-a3cb36a899d4",
   "metadata": {},
   "outputs": [],
   "source": []
  }
 ],
 "metadata": {
  "kernelspec": {
   "display_name": "Python 3 (ipykernel)",
   "language": "python",
   "name": "python3"
  },
  "language_info": {
   "codemirror_mode": {
    "name": "ipython",
    "version": 3
   },
   "file_extension": ".py",
   "mimetype": "text/x-python",
   "name": "python",
   "nbconvert_exporter": "python",
   "pygments_lexer": "ipython3",
   "version": "3.8.18"
  }
 },
 "nbformat": 4,
 "nbformat_minor": 5
}
