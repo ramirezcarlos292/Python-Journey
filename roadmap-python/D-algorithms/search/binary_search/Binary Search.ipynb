{
 "cells": [
  {
   "cell_type": "markdown",
   "id": "48c68714-4993-4b17-bf6e-93365c458e15",
   "metadata": {},
   "source": [
    "# Binary Search"
   ]
  },
  {
   "cell_type": "code",
   "execution_count": 1,
   "id": "84e43065-0fac-478a-becc-8e3b38036268",
   "metadata": {},
   "outputs": [
    {
     "name": "stdout",
     "output_type": "stream",
     "text": [
      "7\n",
      "2\n"
     ]
    }
   ],
   "source": [
    "class Solution:\n",
    "    def bin_search(arr, target):\n",
    "        # 0 index position\n",
    "        low = 0\n",
    "        high = len(arr)-1\n",
    "        \n",
    "        while low <= high:\n",
    "            # get the middle of array\n",
    "            mid = low + (high - low) // 2\n",
    "            # check if target is at mid\n",
    "            if arr[mid] == target:\n",
    "                return mid\n",
    "            # if target is greater, ignore left half\n",
    "            elif arr[mid] < target:\n",
    "                low = mid + 1\n",
    "            # if target is smaller, ignore right half\n",
    "            else:\n",
    "                high = mid - 1\n",
    "        \n",
    "        # element not found\n",
    "        return -1\n",
    "    \n",
    "    \n",
    "            \n",
    "        \n",
    "        \n",
    "print(Solution.bin_search([2,5,8,12,16,23,38,56,72,91], 56))\n",
    "print(Solution.bin_search([2,5,8,12,16,23,38,56,72,91], 8))"
   ]
  },
  {
   "cell_type": "code",
   "execution_count": null,
   "id": "0ca6f951-0999-46da-8e12-1634e266313b",
   "metadata": {},
   "outputs": [],
   "source": []
  }
 ],
 "metadata": {
  "kernelspec": {
   "display_name": "Python 3 (ipykernel)",
   "language": "python",
   "name": "python3"
  },
  "language_info": {
   "codemirror_mode": {
    "name": "ipython",
    "version": 3
   },
   "file_extension": ".py",
   "mimetype": "text/x-python",
   "name": "python",
   "nbconvert_exporter": "python",
   "pygments_lexer": "ipython3",
   "version": "3.8.18"
  }
 },
 "nbformat": 4,
 "nbformat_minor": 5
}
