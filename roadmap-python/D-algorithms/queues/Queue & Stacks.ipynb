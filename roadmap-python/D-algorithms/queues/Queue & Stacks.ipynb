{
 "cells": [
  {
   "cell_type": "markdown",
   "id": "f8544e0b-5ede-4d15-8aa9-577a127d381a",
   "metadata": {},
   "source": [
    "https://www.youtube.com/watch?v=vOx3vY1w4tM&ab_channel=GregHogg"
   ]
  },
  {
   "cell_type": "markdown",
   "id": "c12628cb-d339-426e-9845-c546a26702c3",
   "metadata": {},
   "source": [
    "# Stacks (LIFO)"
   ]
  },
  {
   "cell_type": "code",
   "execution_count": 11,
   "id": "dd2651a6-3412-4890-9c7e-14df2acb0192",
   "metadata": {},
   "outputs": [
    {
     "name": "stdout",
     "output_type": "stream",
     "text": [
      "[]\n"
     ]
    }
   ],
   "source": [
    "stk = []\n",
    "print(stk)"
   ]
  },
  {
   "cell_type": "code",
   "execution_count": 12,
   "id": "529ff00d-1806-4436-8593-8a4ebae28600",
   "metadata": {},
   "outputs": [
    {
     "data": {
      "text/plain": [
       "[5, 4, 3]"
      ]
     },
     "execution_count": 12,
     "metadata": {},
     "output_type": "execute_result"
    }
   ],
   "source": [
    "# Add elements into the stack O(1)\n",
    "stk.append(5)\n",
    "stk.append(4)\n",
    "stk.append(3)\n",
    "stk"
   ]
  },
  {
   "cell_type": "code",
   "execution_count": 13,
   "id": "8626cd29-cc35-4015-a40c-aa42f306d59a",
   "metadata": {},
   "outputs": [
    {
     "name": "stdout",
     "output_type": "stream",
     "text": [
      "3\n",
      "[5, 4]\n"
     ]
    }
   ],
   "source": [
    "# Remove last element in the stack O(1)\n",
    "x = stk.pop()\n",
    "print(x)\n",
    "print(stk)"
   ]
  },
  {
   "cell_type": "code",
   "execution_count": 14,
   "id": "f23b2ba8-c6ba-4767-be4d-49f180158c11",
   "metadata": {},
   "outputs": [
    {
     "name": "stdout",
     "output_type": "stream",
     "text": [
      "4\n"
     ]
    }
   ],
   "source": [
    "# Peek last item in stack\n",
    "print(stk[-1])"
   ]
  },
  {
   "cell_type": "code",
   "execution_count": 15,
   "id": "902cee70-79a9-4264-ba67-6b312cd3915d",
   "metadata": {},
   "outputs": [
    {
     "name": "stdout",
     "output_type": "stream",
     "text": [
      "True\n"
     ]
    }
   ],
   "source": [
    "# Check if elements are still in the stack\n",
    "if stk:\n",
    "    print(True)"
   ]
  },
  {
   "cell_type": "markdown",
   "id": "53debed4-fc69-4ac3-9850-1aa169f41640",
   "metadata": {},
   "source": [
    "# Queue (FIFO)"
   ]
  },
  {
   "cell_type": "code",
   "execution_count": 27,
   "id": "b4b33466-d34e-4147-b6d8-79a7b7ad98d5",
   "metadata": {},
   "outputs": [
    {
     "name": "stdout",
     "output_type": "stream",
     "text": [
      "deque([])\n"
     ]
    }
   ],
   "source": [
    "# works as double ended queue\n",
    "from collections import deque\n",
    "\n",
    "q = deque()\n",
    "\n",
    "print(q)"
   ]
  },
  {
   "cell_type": "code",
   "execution_count": 28,
   "id": "152b2f87-cb6d-4e70-85e3-78513cad9585",
   "metadata": {},
   "outputs": [
    {
     "data": {
      "text/plain": [
       "deque([5, 6, 7])"
      ]
     },
     "execution_count": 28,
     "metadata": {},
     "output_type": "execute_result"
    }
   ],
   "source": [
    "# Enqueue - Add elements to the right - O(1)\n",
    "q.append(5)\n",
    "q.append(6)\n",
    "q.append(7)\n",
    "q"
   ]
  },
  {
   "cell_type": "code",
   "execution_count": 29,
   "id": "0de892ec-1955-46ff-8191-111dba997859",
   "metadata": {},
   "outputs": [
    {
     "data": {
      "text/plain": [
       "5"
      ]
     },
     "execution_count": 29,
     "metadata": {},
     "output_type": "execute_result"
    }
   ],
   "source": [
    "# Dequeue - Remove element from the left - O(1)\n",
    "q.popleft()"
   ]
  },
  {
   "cell_type": "code",
   "execution_count": 31,
   "id": "1d909fa5-8ef2-456d-987d-428b25c251a8",
   "metadata": {},
   "outputs": [
    {
     "data": {
      "text/plain": [
       "deque([6, 7])"
      ]
     },
     "execution_count": 31,
     "metadata": {},
     "output_type": "execute_result"
    }
   ],
   "source": [
    "q"
   ]
  },
  {
   "cell_type": "code",
   "execution_count": 32,
   "id": "89baad2e-6ce6-40c4-a070-eef0fc72dd6f",
   "metadata": {},
   "outputs": [
    {
     "data": {
      "text/plain": [
       "6"
      ]
     },
     "execution_count": 32,
     "metadata": {},
     "output_type": "execute_result"
    }
   ],
   "source": [
    "# Peek from the left side - O(1)\n",
    "q[0]"
   ]
  },
  {
   "cell_type": "code",
   "execution_count": 34,
   "id": "d11635ce-a6f6-474a-816c-2d71f6430fb1",
   "metadata": {},
   "outputs": [
    {
     "data": {
      "text/plain": [
       "7"
      ]
     },
     "execution_count": 34,
     "metadata": {},
     "output_type": "execute_result"
    }
   ],
   "source": [
    "# Peek from the right side - O(1)\n",
    "q[-1]"
   ]
  },
  {
   "cell_type": "code",
   "execution_count": null,
   "id": "45481434-773d-4f78-a60f-4b789fa55687",
   "metadata": {},
   "outputs": [],
   "source": []
  }
 ],
 "metadata": {
  "kernelspec": {
   "display_name": "Python 3 (ipykernel)",
   "language": "python",
   "name": "python3"
  },
  "language_info": {
   "codemirror_mode": {
    "name": "ipython",
    "version": 3
   },
   "file_extension": ".py",
   "mimetype": "text/x-python",
   "name": "python",
   "nbconvert_exporter": "python",
   "pygments_lexer": "ipython3",
   "version": "3.8.18"
  }
 },
 "nbformat": 4,
 "nbformat_minor": 5
}
