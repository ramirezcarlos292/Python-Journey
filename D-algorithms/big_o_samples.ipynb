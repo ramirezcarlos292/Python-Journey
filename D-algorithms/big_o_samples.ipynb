{
 "cells": [
  {
   "cell_type": "markdown",
   "metadata": {},
   "source": [
    "# Big O Notation\n",
    "Lecture: https://www.youtube.com/watch?v=XMUe3zFhM5c&t=8s\n",
    "\n",
    "Why is it important: It tells how code slows as data grows.\n",
    "   1. Describes performance of an algorithm as the amount of data increases (n)\n",
    "   2. Machine independent (# of steps to completion)\n",
    "   3. Ignore smaller operations O(n+1) -> O(n)\n",
    "\n",
    "#Note on the note: Even though factorial is not good for large datasets, when working with small ones tend to be way faster than say O(logn) , O(n), O(nlogn)\n",
    "\n",
    "![title](BigONotation.png)\n",
    "\n"
   ]
  },
  {
   "cell_type": "markdown",
   "metadata": {},
   "source": [
    "## Example 1\n",
    "### https://www.youtube.com/watch?v=NcdsQaAAEAk"
   ]
  },
  {
   "cell_type": "code",
   "execution_count": 6,
   "metadata": {},
   "outputs": [
    {
     "name": "stdout",
     "output_type": "stream",
     "text": [
      "Calculate the sum of numbers from 0 to 100 took 100 steps and result is 5050\n"
     ]
    }
   ],
   "source": [
    "# Time: O(n) or linear time\n",
    "def add_up(number):\n",
    "    steps = 0\n",
    "    sum = 0\n",
    "    for i in range(1, number+1):\n",
    "        steps += 1\n",
    "        sum += i\n",
    "    \n",
    "    return steps, sum\n",
    "\n",
    "number = 100\n",
    "steps, sum = add_up(number)\n",
    "print(f\"Calculate the sum of numbers from 0 to {number} took {steps} steps and result is {sum}\")"
   ]
  },
  {
   "cell_type": "code",
   "execution_count": 7,
   "metadata": {},
   "outputs": [
    {
     "name": "stdout",
     "output_type": "stream",
     "text": [
      "Calculate the sum of numbers from 0 to 100 took 3 steps and result is 5050\n"
     ]
    }
   ],
   "source": [
    "# Time: O(3) or constant time basically O(1)\n",
    "def add_up(n):\n",
    "    sum = n * (n + 1) / 2\n",
    "    return sum\n",
    "    \n",
    "number = 100\n",
    "sum = add_up(number)\n",
    "print(f\"Calculate the sum of numbers from 0 to {number} took {3} steps and result is {int(sum)}\")"
   ]
  },
  {
   "cell_type": "code",
   "execution_count": null,
   "metadata": {},
   "outputs": [],
   "source": []
  }
 ],
 "metadata": {
  "kernelspec": {
   "display_name": "Python 3",
   "language": "python",
   "name": "python3"
  },
  "language_info": {
   "codemirror_mode": {
    "name": "ipython",
    "version": 3
   },
   "file_extension": ".py",
   "mimetype": "text/x-python",
   "name": "python",
   "nbconvert_exporter": "python",
   "pygments_lexer": "ipython3",
   "version": "3.12.9"
  }
 },
 "nbformat": 4,
 "nbformat_minor": 2
}
