{
 "cells": [
  {
   "cell_type": "markdown",
   "metadata": {},
   "source": [
    "# Big O Notation\n",
    "Lecture: https://www.youtube.com/watch?v=XMUe3zFhM5c&t=8s\n",
    "\n",
    "Why is it important: It tells how code slows as data grows.\n",
    "   1. Describes performance of an algorithm as the amount of data increases (n)\n",
    "   2. Machine independent (# of steps to completion)\n",
    "   3. Ignore smaller operations O(n+1) -> O(n)\n",
    "\n",
    "#Note on the note: Even though factorial is not good for large datasets, when working with small ones tend to be way faster than say O(logn) , O(n), O(nlogn)\n",
    "\n",
    "![title](BigONotation.png)\n",
    "\n"
   ]
  },
  {
   "cell_type": "markdown",
   "metadata": {},
   "source": [
    "## Example 1\n",
    "### https://www.youtube.com/watch?v=NcdsQaAAEAk"
   ]
  },
  {
   "cell_type": "code",
   "execution_count": null,
   "metadata": {},
   "outputs": [
    {
     "name": "stdout",
     "output_type": "stream",
     "text": [
      "Calculate the sum of numbers from 0 to 100 took 100 steps and result in 5050\n"
     ]
    }
   ],
   "source": [
    "# Time: O(n) or linear time\n",
    "def add_up(number):\n",
    "    steps = 0\n",
    "    sum = 0\n",
    "    for i in range(1, number+1):\n",
    "        steps += 1\n",
    "        sum += i\n",
    "    \n",
    "    return steps, sum\n",
    "\n",
    "number = 100\n",
    "steps, sum = add_up(number)\n",
    "print(f\"Calculate the sum of numbers from 0 to {number} took {steps} steps and result is {sum}\")"
   ]
  },
  {
   "cell_type": "code",
   "execution_count": null,
   "metadata": {},
   "outputs": [
    {
     "name": "stdout",
     "output_type": "stream",
     "text": [
      "Calculate the sum of numbers from 0 to 100 took 3 steps and result in 5050\n"
     ]
    }
   ],
   "source": [
    "# Time: O(3) or constant time basically O(1)\n",
    "def add_up(n):\n",
    "    # sum = n * (n + 1) / 2 # Geometric Progression 3 operations\n",
    "    steps = 0\n",
    "    op1 = (n+1)\n",
    "    steps += 1\n",
    "    op2 = n * op1\n",
    "    steps += 1\n",
    "    op3 = n / 2\n",
    "    steps += 1\n",
    "    \n",
    "    return steps, sum\n",
    "\n",
    "def add_up_sum(n):\n",
    "    sum = n * (n + 1) / 2\n",
    "    return sum\n",
    "    \n",
    "number = 100\n",
    "steps, sum = add_up(number)\n",
    "print(f\"Calculate the sum of numbers from 0 to {number} took {steps} steps and result is {sum}\")"
   ]
  }
 ],
 "metadata": {
  "kernelspec": {
   "display_name": "Python 3",
   "language": "python",
   "name": "python3"
  },
  "language_info": {
   "codemirror_mode": {
    "name": "ipython",
    "version": 3
   },
   "file_extension": ".py",
   "mimetype": "text/x-python",
   "name": "python",
   "nbconvert_exporter": "python",
   "pygments_lexer": "ipython3",
   "version": "3.12.9"
  }
 },
 "nbformat": 4,
 "nbformat_minor": 2
}
