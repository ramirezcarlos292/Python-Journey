{
 "cells": [
  {
   "cell_type": "markdown",
   "metadata": {},
   "source": [
    "# Two pointers\n",
    "* https://www.youtube.com/watch?v=syTs9_w-pwA&t=29s\n",
    "* https://leetcode.com/problems/two-sum-ii-input-array-is-sorted/"
   ]
  },
  {
   "cell_type": "code",
   "execution_count": 8,
   "metadata": {},
   "outputs": [
    {
     "name": "stdout",
     "output_type": "stream",
     "text": [
      "[1, 2]\n",
      "[1, 3]\n",
      "[1, 2]\n"
     ]
    }
   ],
   "source": [
    "from typing import List\n",
    "class Solution:\n",
    "    def two_sum2(self, numbers: List[int], target: int) -> List[int]:\n",
    "        n = len(numbers)\n",
    "        l = 0\n",
    "        r = n - 1\n",
    "        while l != r:\n",
    "            summ = numbers[l] + numbers[r]\n",
    "            if summ == target:\n",
    "                return [l+1, r+1]\n",
    "            elif summ < target:\n",
    "                l += 1\n",
    "            else:\n",
    "                r -= 1\n",
    "        \n",
    "\n",
    "solution = Solution()\n",
    "print(solution.two_sum2([2,7,11,15], 9))\n",
    "print(solution.two_sum2([2,3,4], 6))\n",
    "print(solution.two_sum2([-1, 0], -1))"
   ]
  },
  {
   "cell_type": "markdown",
   "metadata": {},
   "source": [
    "## Homework\n",
    "26. Remove duplicates from sorted array https://leetcode.com/problems/remove-duplicates-from-sorted-array/description/\n"
   ]
  },
  {
   "cell_type": "code",
   "execution_count": null,
   "metadata": {},
   "outputs": [],
   "source": []
  },
  {
   "cell_type": "markdown",
   "metadata": {},
   "source": [
    "283. Move Zeroes: https://leetcode.com/problems/move-zeroes/description/"
   ]
  },
  {
   "cell_type": "code",
   "execution_count": null,
   "metadata": {},
   "outputs": [],
   "source": []
  },
  {
   "cell_type": "markdown",
   "metadata": {},
   "source": [
    "977. Squares of sorted array https://leetcode.com/problems/squares-of-a-sorted-array/"
   ]
  },
  {
   "cell_type": "code",
   "execution_count": null,
   "metadata": {},
   "outputs": [],
   "source": []
  },
  {
   "cell_type": "markdown",
   "metadata": {},
   "source": [
    "344. Reverse String"
   ]
  },
  {
   "cell_type": "markdown",
   "metadata": {},
   "source": []
  }
 ],
 "metadata": {
  "kernelspec": {
   "display_name": "Python 3",
   "language": "python",
   "name": "python3"
  },
  "language_info": {
   "codemirror_mode": {
    "name": "ipython",
    "version": 3
   },
   "file_extension": ".py",
   "mimetype": "text/x-python",
   "name": "python",
   "nbconvert_exporter": "python",
   "pygments_lexer": "ipython3",
   "version": "3.12.9"
  }
 },
 "nbformat": 4,
 "nbformat_minor": 2
}
