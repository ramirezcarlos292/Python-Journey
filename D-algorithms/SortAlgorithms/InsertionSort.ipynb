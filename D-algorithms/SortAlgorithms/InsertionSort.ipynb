{
 "cells": [
  {
   "cell_type": "markdown",
   "metadata": {},
   "source": [
    "# Insertion Sort\n",
    "- Time: O(n^2)\n",
    "- Space: O(1) inplace\n",
    "- https://www.youtube.com/watch?v=gcRUIO-8r3U&t=617s"
   ]
  },
  {
   "cell_type": "code",
   "execution_count": 2,
   "metadata": {},
   "outputs": [
    {
     "data": {
      "text/plain": [
       "[-5, -3, -3, 1, 2, 2, 2, 3, 7]"
      ]
     },
     "execution_count": 2,
     "metadata": {},
     "output_type": "execute_result"
    }
   ],
   "source": [
    "B = [-5, 3, 2, 1, -3, -3, 7, 2, 2]\n",
    "\n",
    "def insertion_sort(arr):\n",
    "    n = len(arr)\n",
    "    for i in range(1, n):\n",
    "        for j in range(i, 0, -1): # prevents from getting out of bounds\n",
    "            if arr[j-1] > arr[j]:\n",
    "                arr[j-1], arr[j] = arr[j], arr[j-1]\n",
    "            else:\n",
    "                break\n",
    "            \n",
    "insertion_sort(B)\n",
    "B"
   ]
  },
  {
   "cell_type": "code",
   "execution_count": null,
   "metadata": {},
   "outputs": [],
   "source": []
  }
 ],
 "metadata": {
  "kernelspec": {
   "display_name": "Python 3",
   "language": "python",
   "name": "python3"
  },
  "language_info": {
   "codemirror_mode": {
    "name": "ipython",
    "version": 3
   },
   "file_extension": ".py",
   "mimetype": "text/x-python",
   "name": "python",
   "nbconvert_exporter": "python",
   "pygments_lexer": "ipython3",
   "version": "3.12.9"
  }
 },
 "nbformat": 4,
 "nbformat_minor": 2
}
