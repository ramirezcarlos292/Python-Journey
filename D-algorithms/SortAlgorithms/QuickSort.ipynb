{
 "cells": [
  {
   "cell_type": "markdown",
   "metadata": {},
   "source": [
    "# Quick Sort\n",
    "- ttps://www.youtube.com/watch?v=gcRUIO-8r3U&t=618s\n",
    "- Time: Avg Case: O(n log n), Worst Case O(n^2)\n",
    "- Space: O(n)"
   ]
  },
  {
   "cell_type": "code",
   "execution_count": 5,
   "metadata": {},
   "outputs": [
    {
     "data": {
      "text/plain": [
       "[-5, -3, -3, 1, 2, 2, 2, 3, 7]"
      ]
     },
     "execution_count": 5,
     "metadata": {},
     "output_type": "execute_result"
    }
   ],
   "source": [
    "# Recursive\n",
    "def quick_sort(arr):\n",
    "    # Base Case\n",
    "    if len(arr) <= 1:\n",
    "        return arr\n",
    "    \n",
    "    p = arr[-1]\n",
    "    \n",
    "    L = [x for x in arr[:-1] if x <= p]\n",
    "    R = [x for x in arr[:-1] if x > p]\n",
    "    \n",
    "    L = quick_sort(L)\n",
    "    R = quick_sort(R)\n",
    "    \n",
    "    return L + [p] + R\n",
    "\n",
    "E = [-5, 3, 2, 1, -3, -3, 7, 2, 2]\n",
    "quick_sort(E)"
   ]
  },
  {
   "cell_type": "code",
   "execution_count": null,
   "metadata": {},
   "outputs": [],
   "source": []
  }
 ],
 "metadata": {
  "kernelspec": {
   "display_name": "Python 3",
   "language": "python",
   "name": "python3"
  },
  "language_info": {
   "codemirror_mode": {
    "name": "ipython",
    "version": 3
   },
   "file_extension": ".py",
   "mimetype": "text/x-python",
   "name": "python",
   "nbconvert_exporter": "python",
   "pygments_lexer": "ipython3",
   "version": "3.12.9"
  }
 },
 "nbformat": 4,
 "nbformat_minor": 2
}
