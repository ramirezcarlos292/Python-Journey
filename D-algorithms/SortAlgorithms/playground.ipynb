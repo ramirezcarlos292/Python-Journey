{
 "cells": [
  {
   "cell_type": "code",
   "execution_count": 3,
   "metadata": {},
   "outputs": [],
   "source": [
    "import heapq\n",
    "import copy"
   ]
  },
  {
   "cell_type": "markdown",
   "metadata": {},
   "source": [
    "* Bubble and Insertion Sort\n",
    "    - TC: O(n^2), SC: O(1)\n",
    "* QuickSort\n",
    "    - TC: O(n^2), SC: "
   ]
  },
  {
   "cell_type": "code",
   "execution_count": 14,
   "metadata": {},
   "outputs": [],
   "source": [
    "def bubble(arr):\n",
    "    flag = True\n",
    "    n = len(arr)\n",
    "    while flag:\n",
    "        flag = False\n",
    "        for i in range(1, n):\n",
    "            if arr[i-1] > arr[i]:\n",
    "                arr[i-1], arr[i] = arr[i], arr[i-1]\n",
    "                flag = True\n",
    "    return arr\n",
    "\n",
    "def insertion(arr):\n",
    "    n = len(arr)\n",
    "    for i in range(1, n):\n",
    "        for j in range(i, 0, -1):\n",
    "            if arr[j-1] >  arr[j]:\n",
    "                arr[j-1], arr[j] = arr[j], arr[j-1]\n",
    "            else:\n",
    "                break\n",
    "    return arr\n",
    "\n",
    "def quicksort(arr):\n",
    "    if len(arr) <= 1:\n",
    "        return arr\n",
    "    \n",
    "    p = arr[-1]\n",
    "    \n",
    "    L = [x for x in arr[:-1] if x <= p]\n",
    "    R = [x for x in arr[:-1] if x > p]\n",
    "    \n",
    "    L = quicksort(L)\n",
    "    R = quicksort(R)\n",
    "    \n",
    "    return L + [p] + R\n",
    "\n",
    "def heapsort(arr):\n",
    "    heapq.heapify(arr)\n",
    "    new_arr = [0] * len(arr)\n",
    "    for i in range(len(arr)):\n",
    "        new_arr[i] = heapq.heappop(arr)\n",
    "    return new_arr"
   ]
  },
  {
   "cell_type": "code",
   "execution_count": 15,
   "metadata": {},
   "outputs": [],
   "source": [
    "A = [-5, 3, 2, 1, -3, -3, 7, 2, 2]\n",
    "B = copy.deepcopy(A)\n",
    "C = copy.deepcopy(A)\n",
    "E = copy.deepcopy(A)"
   ]
  },
  {
   "cell_type": "code",
   "execution_count": 16,
   "metadata": {},
   "outputs": [
    {
     "name": "stdout",
     "output_type": "stream",
     "text": [
      "[-5, -3, -3, 1, 2, 2, 2, 3, 7]\n",
      "[-5, -3, -3, 1, 2, 2, 2, 3, 7]\n",
      "[-5, -3, -3, 1, 2, 2, 2, 3, 7]\n",
      "[-5, -3, -3, 1, 2, 2, 2, 3, 7]\n"
     ]
    }
   ],
   "source": [
    "print(bubble(A))\n",
    "print(insertion(B))\n",
    "print(quicksort(C))\n",
    "print(heapsort(E))"
   ]
  },
  {
   "cell_type": "code",
   "execution_count": null,
   "metadata": {},
   "outputs": [],
   "source": []
  },
  {
   "cell_type": "code",
   "execution_count": null,
   "metadata": {},
   "outputs": [],
   "source": []
  }
 ],
 "metadata": {
  "kernelspec": {
   "display_name": "Python 3",
   "language": "python",
   "name": "python3"
  },
  "language_info": {
   "codemirror_mode": {
    "name": "ipython",
    "version": 3
   },
   "file_extension": ".py",
   "mimetype": "text/x-python",
   "name": "python",
   "nbconvert_exporter": "python",
   "pygments_lexer": "ipython3",
   "version": "3.12.9"
  }
 },
 "nbformat": 4,
 "nbformat_minor": 2
}
