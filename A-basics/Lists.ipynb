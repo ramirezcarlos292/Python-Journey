{
 "cells": [
  {
   "cell_type": "markdown",
   "id": "a6e69a87",
   "metadata": {},
   "source": [
    "# Lists Common Operations"
   ]
  },
  {
   "cell_type": "markdown",
   "id": "de218b5f",
   "metadata": {},
   "source": [
    "## Create list"
   ]
  },
  {
   "cell_type": "code",
   "execution_count": 2,
   "id": "000602ab-9c3c-4b5c-b2ee-38aabeece9b4",
   "metadata": {},
   "outputs": [
    {
     "data": {
      "text/plain": [
       "['apple', 'orange', 'banana', 'coconut']"
      ]
     },
     "execution_count": 2,
     "metadata": {},
     "output_type": "execute_result"
    }
   ],
   "source": [
    "fruits = [\"apple\", \"orange\", \"banana\", \"coconut\"]\n",
    "fruits"
   ]
  },
  {
   "cell_type": "markdown",
   "id": "0b35b542",
   "metadata": {},
   "source": [
    "### Access an element by index"
   ]
  },
  {
   "cell_type": "code",
   "execution_count": 3,
   "id": "8ebfe94a-53aa-4fc3-b25e-04f39b4d8930",
   "metadata": {},
   "outputs": [
    {
     "name": "stdout",
     "output_type": "stream",
     "text": [
      "coconut\n"
     ]
    }
   ],
   "source": [
    "# Time: O(1)\n",
    "print(fruits[3])"
   ]
  },
  {
   "cell_type": "markdown",
   "id": "61a882b1",
   "metadata": {},
   "source": [
    "### Print length of list"
   ]
  },
  {
   "cell_type": "code",
   "execution_count": 4,
   "id": "7e7fe77a-39ba-4973-aead-9f4dacb450f8",
   "metadata": {},
   "outputs": [
    {
     "name": "stdout",
     "output_type": "stream",
     "text": [
      "4\n"
     ]
    }
   ],
   "source": [
    "print(len(fruits))"
   ]
  },
  {
   "cell_type": "code",
   "execution_count": 5,
   "id": "7b187266-83b8-48bb-85ed-b6197bdcf72d",
   "metadata": {},
   "outputs": [
    {
     "name": "stdout",
     "output_type": "stream",
     "text": [
      "False\n"
     ]
    }
   ],
   "source": [
    "# check if an element exists in list\n",
    "print(\"pinneapple\" in fruits)"
   ]
  },
  {
   "cell_type": "code",
   "execution_count": 6,
   "id": "ac8e12b2-a733-4355-bf4b-9574f34a6884",
   "metadata": {},
   "outputs": [],
   "source": [
    "# Append value at end of list. TC O(1), SC O(1)\n",
    "fruits.append(\"pinneapple\")"
   ]
  },
  {
   "cell_type": "code",
   "execution_count": 7,
   "id": "1f5e3050-b93f-4391-baa5-b8e24530ee7b",
   "metadata": {},
   "outputs": [],
   "source": [
    "# insert in a position O(n)\n",
    "fruits.insert(0, \"apple\")"
   ]
  },
  {
   "cell_type": "code",
   "execution_count": 8,
   "id": "cebadef0-4817-43d8-8660-f7a9f04cb80b",
   "metadata": {},
   "outputs": [
    {
     "data": {
      "text/plain": [
       "['apple', 'apple', 'orange', 'banana', 'coconut', 'pinneapple']"
      ]
     },
     "execution_count": 8,
     "metadata": {},
     "output_type": "execute_result"
    }
   ],
   "source": [
    "fruits"
   ]
  },
  {
   "cell_type": "code",
   "execution_count": 9,
   "id": "42645457-6ce5-4bbd-9648-e5e84857d5db",
   "metadata": {},
   "outputs": [
    {
     "name": "stdout",
     "output_type": "stream",
     "text": [
      "0\n"
     ]
    }
   ],
   "source": [
    "# first appearance of element\n",
    "print(fruits.index(\"apple\"))"
   ]
  },
  {
   "cell_type": "code",
   "execution_count": 10,
   "id": "b7e2df38-bdaf-4dc8-bd26-61c91c41cb8b",
   "metadata": {},
   "outputs": [],
   "source": [
    "fruits.remove(\"apple\")"
   ]
  },
  {
   "cell_type": "code",
   "execution_count": 11,
   "id": "23171d65-e4db-4170-8d2b-c4b0fe62d657",
   "metadata": {},
   "outputs": [
    {
     "name": "stdout",
     "output_type": "stream",
     "text": [
      "apple\n",
      "orange\n",
      "banana\n",
      "coconut\n",
      "pinneapple\n"
     ]
    }
   ],
   "source": [
    "for fruit in fruits:\n",
    "    print(fruit)"
   ]
  },
  {
   "cell_type": "code",
   "execution_count": 12,
   "id": "577ceb30-8692-45cb-afa0-278bff6ae371",
   "metadata": {},
   "outputs": [],
   "source": [
    "fruits.reverse()"
   ]
  },
  {
   "cell_type": "code",
   "execution_count": 13,
   "id": "e63c041f-ce17-4001-8c76-02054ea7adf7",
   "metadata": {},
   "outputs": [
    {
     "data": {
      "text/plain": [
       "['pinneapple', 'coconut', 'banana', 'orange', 'apple']"
      ]
     },
     "execution_count": 13,
     "metadata": {},
     "output_type": "execute_result"
    }
   ],
   "source": [
    "fruits"
   ]
  },
  {
   "cell_type": "code",
   "execution_count": 14,
   "id": "ac5a2ed1-a65e-4a82-b2b6-efdd415a2f9a",
   "metadata": {},
   "outputs": [],
   "source": [
    "fruits.sort(reverse=True)"
   ]
  },
  {
   "cell_type": "code",
   "execution_count": 15,
   "id": "6d30d242-65e6-4de3-899a-2a8bcdc0239e",
   "metadata": {},
   "outputs": [
    {
     "data": {
      "text/plain": [
       "['pinneapple', 'orange', 'coconut', 'banana', 'apple']"
      ]
     },
     "execution_count": 15,
     "metadata": {},
     "output_type": "execute_result"
    }
   ],
   "source": [
    "fruits"
   ]
  },
  {
   "cell_type": "markdown",
   "id": "6fded8ca",
   "metadata": {},
   "source": [
    "## Accessing methods and short documentation"
   ]
  },
  {
   "cell_type": "code",
   "execution_count": 16,
   "id": "bf3f000f-3d45-4772-b5b1-4697480ddbdf",
   "metadata": {},
   "outputs": [
    {
     "name": "stdout",
     "output_type": "stream",
     "text": [
      "['__add__', '__class__', '__class_getitem__', '__contains__', '__delattr__', '__delitem__', '__dir__', '__doc__', '__eq__', '__format__', '__ge__', '__getattribute__', '__getitem__', '__getstate__', '__gt__', '__hash__', '__iadd__', '__imul__', '__init__', '__init_subclass__', '__iter__', '__le__', '__len__', '__lt__', '__mul__', '__ne__', '__new__', '__reduce__', '__reduce_ex__', '__repr__', '__reversed__', '__rmul__', '__setattr__', '__setitem__', '__sizeof__', '__str__', '__subclasshook__', 'append', 'clear', 'copy', 'count', 'extend', 'index', 'insert', 'pop', 'remove', 'reverse', 'sort']\n"
     ]
    }
   ],
   "source": [
    "print(dir(fruits))"
   ]
  },
  {
   "cell_type": "code",
   "execution_count": 17,
   "id": "7f65a402-b5f1-4382-b72a-649fc8cf42d2",
   "metadata": {},
   "outputs": [
    {
     "name": "stdout",
     "output_type": "stream",
     "text": [
      "Help on list object:\n",
      "\n",
      "class list(object)\n",
      " |  list(iterable=(), /)\n",
      " |\n",
      " |  Built-in mutable sequence.\n",
      " |\n",
      " |  If no argument is given, the constructor creates a new empty list.\n",
      " |  The argument must be an iterable if specified.\n",
      " |\n",
      " |  Methods defined here:\n",
      " |\n",
      " |  __add__(self, value, /)\n",
      " |      Return self+value.\n",
      " |\n",
      " |  __contains__(self, key, /)\n",
      " |      Return bool(key in self).\n",
      " |\n",
      " |  __delitem__(self, key, /)\n",
      " |      Delete self[key].\n",
      " |\n",
      " |  __eq__(self, value, /)\n",
      " |      Return self==value.\n",
      " |\n",
      " |  __ge__(self, value, /)\n",
      " |      Return self>=value.\n",
      " |\n",
      " |  __getattribute__(self, name, /)\n",
      " |      Return getattr(self, name).\n",
      " |\n",
      " |  __getitem__(self, index, /)\n",
      " |      Return self[index].\n",
      " |\n",
      " |  __gt__(self, value, /)\n",
      " |      Return self>value.\n",
      " |\n",
      " |  __iadd__(self, value, /)\n",
      " |      Implement self+=value.\n",
      " |\n",
      " |  __imul__(self, value, /)\n",
      " |      Implement self*=value.\n",
      " |\n",
      " |  __init__(self, /, *args, **kwargs)\n",
      " |      Initialize self.  See help(type(self)) for accurate signature.\n",
      " |\n",
      " |  __iter__(self, /)\n",
      " |      Implement iter(self).\n",
      " |\n",
      " |  __le__(self, value, /)\n",
      " |      Return self<=value.\n",
      " |\n",
      " |  __len__(self, /)\n",
      " |      Return len(self).\n",
      " |\n",
      " |  __lt__(self, value, /)\n",
      " |      Return self<value.\n",
      " |\n",
      " |  __mul__(self, value, /)\n",
      " |      Return self*value.\n",
      " |\n",
      " |  __ne__(self, value, /)\n",
      " |      Return self!=value.\n",
      " |\n",
      " |  __repr__(self, /)\n",
      " |      Return repr(self).\n",
      " |\n",
      " |  __reversed__(self, /)\n",
      " |      Return a reverse iterator over the list.\n",
      " |\n",
      " |  __rmul__(self, value, /)\n",
      " |      Return value*self.\n",
      " |\n",
      " |  __setitem__(self, key, value, /)\n",
      " |      Set self[key] to value.\n",
      " |\n",
      " |  __sizeof__(self, /)\n",
      " |      Return the size of the list in memory, in bytes.\n",
      " |\n",
      " |  append(self, object, /)\n",
      " |      Append object to the end of the list.\n",
      " |\n",
      " |  clear(self, /)\n",
      " |      Remove all items from list.\n",
      " |\n",
      " |  copy(self, /)\n",
      " |      Return a shallow copy of the list.\n",
      " |\n",
      " |  count(self, value, /)\n",
      " |      Return number of occurrences of value.\n",
      " |\n",
      " |  extend(self, iterable, /)\n",
      " |      Extend list by appending elements from the iterable.\n",
      " |\n",
      " |  index(self, value, start=0, stop=9223372036854775807, /)\n",
      " |      Return first index of value.\n",
      " |\n",
      " |      Raises ValueError if the value is not present.\n",
      " |\n",
      " |  insert(self, index, object, /)\n",
      " |      Insert object before index.\n",
      " |\n",
      " |  pop(self, index=-1, /)\n",
      " |      Remove and return item at index (default last).\n",
      " |\n",
      " |      Raises IndexError if list is empty or index is out of range.\n",
      " |\n",
      " |  remove(self, value, /)\n",
      " |      Remove first occurrence of value.\n",
      " |\n",
      " |      Raises ValueError if the value is not present.\n",
      " |\n",
      " |  reverse(self, /)\n",
      " |      Reverse *IN PLACE*.\n",
      " |\n",
      " |  sort(self, /, *, key=None, reverse=False)\n",
      " |      Sort the list in ascending order and return None.\n",
      " |\n",
      " |      The sort is in-place (i.e. the list itself is modified) and stable (i.e. the\n",
      " |      order of two equal elements is maintained).\n",
      " |\n",
      " |      If a key function is given, apply it once to each list item and sort them,\n",
      " |      ascending or descending, according to their function values.\n",
      " |\n",
      " |      The reverse flag can be set to sort in descending order.\n",
      " |\n",
      " |  ----------------------------------------------------------------------\n",
      " |  Class methods defined here:\n",
      " |\n",
      " |  __class_getitem__(...)\n",
      " |      See PEP 585\n",
      " |\n",
      " |  ----------------------------------------------------------------------\n",
      " |  Static methods defined here:\n",
      " |\n",
      " |  __new__(*args, **kwargs)\n",
      " |      Create and return a new object.  See help(type) for accurate signature.\n",
      " |\n",
      " |  ----------------------------------------------------------------------\n",
      " |  Data and other attributes defined here:\n",
      " |\n",
      " |  __hash__ = None\n",
      "\n",
      "None\n"
     ]
    }
   ],
   "source": [
    "print(help(fruits))"
   ]
  },
  {
   "cell_type": "markdown",
   "id": "2dbd6c0c-c199-4eac-8d7b-e1870c0b046d",
   "metadata": {},
   "source": [
    "# Lists Intermediate Operations"
   ]
  },
  {
   "cell_type": "markdown",
   "id": "eca75e7d",
   "metadata": {},
   "source": [
    "### Iterate a list in reverse"
   ]
  },
  {
   "cell_type": "code",
   "execution_count": 18,
   "id": "39526e93",
   "metadata": {},
   "outputs": [
    {
     "name": "stdout",
     "output_type": "stream",
     "text": [
      "4\n",
      "3\n",
      "2\n",
      "1\n"
     ]
    }
   ],
   "source": [
    "mylist = [1,2,3,4]\n",
    "\n",
    "for i in range(len(mylist)-1, -1, -1):\n",
    "\tprint(mylist[i]) # prints 4,3,2,1"
   ]
  },
  {
   "cell_type": "markdown",
   "id": "2e38152c",
   "metadata": {},
   "source": [
    "### reverse a list, slice method"
   ]
  },
  {
   "cell_type": "code",
   "execution_count": 19,
   "id": "6292533d",
   "metadata": {},
   "outputs": [
    {
     "name": "stdout",
     "output_type": "stream",
     "text": [
      "[4, 3, 2, 1]\n"
     ]
    }
   ],
   "source": [
    "mylist_reverse = mylist[::-1]\n",
    "print(mylist_reverse)"
   ]
  },
  {
   "cell_type": "markdown",
   "id": "27d5192e",
   "metadata": {},
   "source": [
    "### Reverse with reversed method"
   ]
  },
  {
   "cell_type": "code",
   "execution_count": 20,
   "id": "0f9d8d19",
   "metadata": {},
   "outputs": [
    {
     "name": "stdout",
     "output_type": "stream",
     "text": [
      "[4, 3, 2, 1]\n"
     ]
    }
   ],
   "source": [
    "mylist = [1,2,3,4]\n",
    "mylist_reverse = list(reversed(mylist))\n",
    "print(mylist_reverse)"
   ]
  },
  {
   "cell_type": "code",
   "execution_count": null,
   "id": "4198b4f0",
   "metadata": {},
   "outputs": [],
   "source": []
  },
  {
   "cell_type": "code",
   "execution_count": null,
   "id": "21c5e4b6",
   "metadata": {},
   "outputs": [],
   "source": []
  },
  {
   "cell_type": "code",
   "execution_count": null,
   "id": "a4e621e2",
   "metadata": {},
   "outputs": [],
   "source": []
  }
 ],
 "metadata": {
  "kernelspec": {
   "display_name": "Python 3",
   "language": "python",
   "name": "python3"
  },
  "language_info": {
   "codemirror_mode": {
    "name": "ipython",
    "version": 3
   },
   "file_extension": ".py",
   "mimetype": "text/x-python",
   "name": "python",
   "nbconvert_exporter": "python",
   "pygments_lexer": "ipython3",
   "version": "3.12.9"
  }
 },
 "nbformat": 4,
 "nbformat_minor": 5
}
