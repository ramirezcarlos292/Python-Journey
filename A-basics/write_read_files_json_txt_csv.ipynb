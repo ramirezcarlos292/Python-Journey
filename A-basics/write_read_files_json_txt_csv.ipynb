{
 "cells": [
  {
   "cell_type": "markdown",
   "metadata": {},
   "source": [
    "# Writing .txt, .json, .csv"
   ]
  },
  {
   "cell_type": "code",
   "execution_count": 27,
   "metadata": {},
   "outputs": [],
   "source": [
    "import os\n",
    "import json\n",
    "import csv"
   ]
  },
  {
   "cell_type": "markdown",
   "metadata": {},
   "source": [
    "## .txt"
   ]
  },
  {
   "cell_type": "code",
   "execution_count": null,
   "metadata": {},
   "outputs": [
    {
     "name": "stdout",
     "output_type": "stream",
     "text": [
      "txt file './files/output.txt' was created\n"
     ]
    }
   ],
   "source": [
    "txt_data = \"I like pizza!\"\n",
    "file_path = \"./files/output.txt\"\n",
    "abs_path = \"C:\\\\Users\\\\sample\\\\folder\" # or\n",
    "abs_path = \"C:/Users/sample/folder\"\n",
    "\n",
    "# takes care of opening and closing the file\n",
    "mode = \"a\" # append\n",
    "# mode = \"w\" # write and overwrites\n",
    " \n",
    "try:\n",
    "    with open(file=file_path, mode=mode) as file:\n",
    "        file.write(\"\\n\" + txt_data)\n",
    "        print(f\"txt file '{file_path}' was created\")\n",
    "except FileExistsError:\n",
    "    print(\"That file already exists!\")\n"
   ]
  },
  {
   "cell_type": "code",
   "execution_count": null,
   "metadata": {},
   "outputs": [
    {
     "name": "stdout",
     "output_type": "stream",
     "text": [
      "txt file './files/output.txt' was created\n"
     ]
    }
   ],
   "source": [
    "employees = [\"Eugene\", \"Squidward\", \"SpongeBob\", \"Patrick\"]\n",
    "\n",
    "file_path = \"./files/output.txt\"\n",
    "\n",
    "\n",
    "# takes care of opening and closing the file\n",
    " \n",
    "try:\n",
    "    with open(file=file_path, mode=\"w\") as file:\n",
    "        for employee in employees:\n",
    "            file.write(\"\\n\" + employee)\n",
    "        print(f\"txt file '{file_path}' was created\")\n",
    "except FileExistsError:\n",
    "    print(\"That file already exists!\")\n"
   ]
  },
  {
   "cell_type": "markdown",
   "metadata": {},
   "source": [
    "## .json"
   ]
  },
  {
   "cell_type": "code",
   "execution_count": 26,
   "metadata": {},
   "outputs": [
    {
     "name": "stdout",
     "output_type": "stream",
     "text": [
      "json file './files/output.json' was created\n"
     ]
    }
   ],
   "source": [
    "employee = {\n",
    "    \"name\": \"SpongeBob\",\n",
    "    \"age\": 30,\n",
    "    \"job\": \"cook\"\n",
    "}\n",
    "\n",
    "file_path = \"./files/output.json\"\n",
    "\n",
    "# takes care of opening and closing the file\n",
    "try:\n",
    "    with open(file=file_path, mode=\"w\") as file:\n",
    "        json.dump(employee, file, indent=4)\n",
    "        print(f\"json file '{file_path}' was created\")\n",
    "except FileExistsError:\n",
    "    print(\"That file already exists!\")\n"
   ]
  },
  {
   "cell_type": "markdown",
   "metadata": {},
   "source": [
    "## .csv"
   ]
  },
  {
   "cell_type": "code",
   "execution_count": 32,
   "metadata": {},
   "outputs": [
    {
     "name": "stdout",
     "output_type": "stream",
     "text": [
      "csv file './files/output.csv' was created\n"
     ]
    }
   ],
   "source": [
    "employees = [[\"Name\", \"Age\",\"Job\"],\n",
    "             [\"Spongebob\", 30, \"Cook\"],\n",
    "             [\"Squidward\", 37, \"Cashier\"],\n",
    "             [\"Sandy\", 27, \"Scientist\"]]\n",
    "\n",
    "file_path = \"./files/output.csv\"\n",
    "\n",
    "# takes care of opening and closing the file\n",
    "try:\n",
    "    with open(file=file_path, mode=\"w\", newline=\"\") as file:\n",
    "        writer = csv.writer(file)\n",
    "        for row in employees:\n",
    "            writer.writerow(row)\n",
    "        print(f\"csv file '{file_path}' was created\")\n",
    "except FileExistsError:\n",
    "    print(\"That file already exists!\")\n"
   ]
  },
  {
   "cell_type": "markdown",
   "metadata": {},
   "source": []
  },
  {
   "cell_type": "markdown",
   "metadata": {},
   "source": [
    "# Reading .txt, .json, .csv"
   ]
  },
  {
   "cell_type": "markdown",
   "metadata": {},
   "source": [
    "## .txt"
   ]
  },
  {
   "cell_type": "code",
   "execution_count": null,
   "metadata": {},
   "outputs": [
    {
     "name": "stdout",
     "output_type": "stream",
     "text": [
      "\n",
      "I like pizza!\n",
      "I like pizza!\n",
      "I like pizza!\n",
      "I like pizza!\n",
      "I like pizza!\n",
      "Eugene\n",
      "Squidward\n",
      "SpongeBob\n",
      "Patrick\n"
     ]
    }
   ],
   "source": [
    "file_path = \"./files/output.txt\"\n",
    "\n",
    "try:\n",
    "    with open(file=file_path, mode=\"r\") as file:\n",
    "        content = file.read()\n",
    "        print(content)\n",
    "except FileNotFoundError:\n",
    "    print(\"Requested file was not found\")\n",
    "except PermissionError:\n",
    "    print(\"You do not have permission to read that file\")"
   ]
  },
  {
   "cell_type": "markdown",
   "metadata": {},
   "source": [
    "## .json"
   ]
  },
  {
   "cell_type": "code",
   "execution_count": 37,
   "metadata": {},
   "outputs": [
    {
     "name": "stdout",
     "output_type": "stream",
     "text": [
      "{'name': 'SpongeBob', 'age': 30, 'job': 'cook'}\n",
      "SpongeBob\n",
      "30\n",
      "cook\n"
     ]
    }
   ],
   "source": [
    "file_path = \"./files/output.json\"\n",
    "\n",
    "try:\n",
    "    with open(file=file_path, mode=\"r\") as file:\n",
    "        content = json.load(file)\n",
    "        print(content)\n",
    "        print(content['name'])\n",
    "        print(content['age'])\n",
    "        print(content['job'])\n",
    "except FileNotFoundError:\n",
    "    print(\"Requested file was not found\")\n",
    "except PermissionError:\n",
    "    print(\"You do not have permission to read that file\")"
   ]
  },
  {
   "cell_type": "markdown",
   "metadata": {},
   "source": [
    "## .csv"
   ]
  },
  {
   "cell_type": "code",
   "execution_count": 42,
   "metadata": {},
   "outputs": [
    {
     "name": "stdout",
     "output_type": "stream",
     "text": [
      "<_csv.reader object at 0x000002500E4B6560>\n",
      "Name\n",
      "Age\n",
      "Spongebob\n",
      "30\n",
      "Squidward\n",
      "37\n",
      "Sandy\n",
      "27\n"
     ]
    }
   ],
   "source": [
    "file_path = \"./files/output.csv\"\n",
    "\n",
    "try:\n",
    "    with open(file=file_path, mode=\"r\") as file:\n",
    "        content = csv.reader(file)\n",
    "        print(content)\n",
    "        for line in content:\n",
    "            # print(line)\n",
    "            print(line[0])\n",
    "            print(line[1])\n",
    "except FileNotFoundError:\n",
    "    print(\"Requested file was not found\")\n",
    "except PermissionError:\n",
    "    print(\"You do not have permission to read that file\")"
   ]
  },
  {
   "cell_type": "code",
   "execution_count": null,
   "metadata": {},
   "outputs": [],
   "source": []
  }
 ],
 "metadata": {
  "kernelspec": {
   "display_name": "Python 3",
   "language": "python",
   "name": "python3"
  },
  "language_info": {
   "codemirror_mode": {
    "name": "ipython",
    "version": 3
   },
   "file_extension": ".py",
   "mimetype": "text/x-python",
   "name": "python",
   "nbconvert_exporter": "python",
   "pygments_lexer": "ipython3",
   "version": "3.12.9"
  }
 },
 "nbformat": 4,
 "nbformat_minor": 2
}
