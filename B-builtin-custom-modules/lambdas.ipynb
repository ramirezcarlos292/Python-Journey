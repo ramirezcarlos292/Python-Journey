{
 "cells": [
  {
   "cell_type": "markdown",
   "metadata": {},
   "source": [
    "## Lambda Functions\n",
    "Anonymous functions\n",
    "\n",
    "Syntax:\n",
    "- lambda parameters: expression"
   ]
  },
  {
   "cell_type": "markdown",
   "metadata": {},
   "source": [
    "### Math"
   ]
  },
  {
   "cell_type": "code",
   "execution_count": 3,
   "metadata": {},
   "outputs": [
    {
     "name": "stdout",
     "output_type": "stream",
     "text": [
      "15\n",
      "30\n",
      "0.8333333333333334\n"
     ]
    }
   ],
   "source": [
    "x = lambda a: a + 10\n",
    "print(x(5))\n",
    "\n",
    "x = lambda a, b: a * b\n",
    "print(x(5, 6))\n",
    "\n",
    "x = lambda a, b: a / b\n",
    "print(x(5, 6))"
   ]
  },
  {
   "cell_type": "code",
   "execution_count": 2,
   "metadata": {},
   "outputs": [
    {
     "name": "stdout",
     "output_type": "stream",
     "text": [
      "30\n"
     ]
    }
   ],
   "source": [
    "x = lambda a, b: a * b\n",
    "print(x(5, 6))"
   ]
  },
  {
   "cell_type": "markdown",
   "metadata": {},
   "source": [
    "### Concatenate"
   ]
  },
  {
   "cell_type": "code",
   "execution_count": 1,
   "metadata": {},
   "outputs": [
    {
     "name": "stdout",
     "output_type": "stream",
     "text": [
      "Silvester Stallone\n"
     ]
    }
   ],
   "source": [
    "full_name = lambda first_name, last_name: first_name + ' ' + last_name\n",
    "print(full_name('Silvester', 'Stallone'))"
   ]
  },
  {
   "cell_type": "markdown",
   "metadata": {},
   "source": [
    "### If evaluation"
   ]
  },
  {
   "cell_type": "code",
   "execution_count": 4,
   "metadata": {},
   "outputs": [
    {
     "name": "stdout",
     "output_type": "stream",
     "text": [
      "True\n"
     ]
    }
   ],
   "source": [
    "age_check = lambda age: True if age >= 18 else False\n",
    "print(age_check(21))"
   ]
  },
  {
   "cell_type": "markdown",
   "metadata": {},
   "source": [
    "### Sort"
   ]
  },
  {
   "cell_type": "code",
   "execution_count": 3,
   "metadata": {},
   "outputs": [
    {
     "name": "stdout",
     "output_type": "stream",
     "text": [
      "[(1, 'apple'), (2, 'banana'), (2, 'cherry')]\n"
     ]
    }
   ],
   "source": [
    "data = [(1, 'apple'), (2, 'cherry'), (2, 'banana')]\n",
    "\n",
    "#            data to be sorted    order by item 1 of each element\n",
    "sorted_data = sorted(data, key=lambda x: x[1])\n",
    "print(sorted_data)"
   ]
  },
  {
   "cell_type": "markdown",
   "metadata": {},
   "source": [
    "### Filter"
   ]
  },
  {
   "cell_type": "code",
   "execution_count": 4,
   "metadata": {},
   "outputs": [
    {
     "name": "stdout",
     "output_type": "stream",
     "text": [
      "[2, 4, 6, 8, 10]\n"
     ]
    }
   ],
   "source": [
    "numbers = [1,2,3,4,5,6,7,8,9,10]\n",
    "\n",
    "filtered_numbers = list(filter(lambda x: x % 2 == 0, numbers))\n",
    "print(filtered_numbers)"
   ]
  },
  {
   "cell_type": "markdown",
   "metadata": {},
   "source": [
    "### Map: map(function, iterable)"
   ]
  },
  {
   "cell_type": "code",
   "execution_count": 1,
   "metadata": {},
   "outputs": [
    {
     "name": "stdout",
     "output_type": "stream",
     "text": [
      "[1, 4, 9, 16, 25, 36, 49, 64, 81, 100]\n"
     ]
    }
   ],
   "source": [
    "# Basic Example\n",
    "numbers = [1,2,3,4,5,6,7,8,9,10]\n",
    "\n",
    "squared_numbers = list(map(lambda x: x**2, numbers))\n",
    "print(squared_numbers)"
   ]
  },
  {
   "cell_type": "code",
   "execution_count": 2,
   "metadata": {},
   "outputs": [
    {
     "name": "stdout",
     "output_type": "stream",
     "text": [
      "[15, 25, 35]\n"
     ]
    }
   ],
   "source": [
    "# Custom Function\n",
    "def add_five(x):\n",
    "    return x + 5\n",
    "\n",
    "numbers = [10, 20, 30]\n",
    "result = list(map(add_five, numbers))\n",
    "print(result)"
   ]
  },
  {
   "cell_type": "code",
   "execution_count": 4,
   "metadata": {},
   "outputs": [
    {
     "name": "stdout",
     "output_type": "stream",
     "text": [
      "[5, 7, 9]\n"
     ]
    }
   ],
   "source": [
    "# mapping multiple iterables\n",
    "list1 = [1, 2, 3]\n",
    "list2 = [4, 5, 6]\n",
    "\n",
    "summed = list(map(lambda x, y: x + y, list1, list2))\n",
    "print(summed)"
   ]
  },
  {
   "cell_type": "markdown",
   "metadata": {},
   "source": [
    "#### Pandas use cases"
   ]
  },
  {
   "cell_type": "code",
   "execution_count": null,
   "metadata": {},
   "outputs": [
    {
     "name": "stdout",
     "output_type": "stream",
     "text": [
      "   Score Grade\n",
      "0     45  Fail\n",
      "1     67  Fail\n",
      "2     89  Pass\n",
      "3     34  Fail\n",
      "4     56  Fail\n"
     ]
    }
   ],
   "source": [
    "# Custom mapping with conditions\n",
    "import pandas as pd\n",
    "df = pd.DataFrame({'Score':[45, 67, 89, 34, 56]})\n",
    "df['Grade'] = df['Score'].map(lambda x: 'Pass' if x >= 70 else 'Fail')\n",
    "print(df)"
   ]
  },
  {
   "cell_type": "code",
   "execution_count": 7,
   "metadata": {},
   "outputs": [
    {
     "name": "stdout",
     "output_type": "stream",
     "text": [
      "  Grade   Feedback\n",
      "0     A  Excellent\n",
      "1     B       Good\n",
      "2     C    Average\n",
      "3     A  Excellent\n"
     ]
    }
   ],
   "source": [
    "# Mapping with dictionaries for quick lookups\n",
    "mapping = {'A':'Excellent', 'B': 'Good', 'C':'Average'}\n",
    "df = pd.DataFrame({'Grade': ['A', 'B' ,'C' ,'A']})\n",
    "df['Feedback'] = df['Grade'].map(mapping)\n",
    "print(df)"
   ]
  },
  {
   "cell_type": "code",
   "execution_count": 9,
   "metadata": {},
   "outputs": [
    {
     "name": "stdout",
     "output_type": "stream",
     "text": [
      "  Employee  Performance Score\n",
      "0     John                 75\n",
      "1     Sara                 10\n",
      "2     Mike                 24\n"
     ]
    }
   ],
   "source": [
    "# Mapping functions with external data\n",
    "import random\n",
    "df = pd.DataFrame({'Employee': ['John', 'Sara', 'Mike']})\n",
    "df['Performance Score'] = df['Employee'].map(lambda name: random.randint(1, 100))\n",
    "print(df)"
   ]
  },
  {
   "cell_type": "markdown",
   "metadata": {},
   "source": [
    "#### Numpy use cases"
   ]
  },
  {
   "cell_type": "code",
   "execution_count": 10,
   "metadata": {},
   "outputs": [
    {
     "name": "stdout",
     "output_type": "stream",
     "text": [
      "[2. 3. 4. 4.]\n"
     ]
    }
   ],
   "source": [
    "# Mathematical transformations with numpy arrays\n",
    "import numpy as np\n",
    "\n",
    "arr = np.array([1.5, 2.7, 3.9, 4.1])\n",
    "rounded_arr = np.array(list(map(np.round, arr)))\n",
    "print(rounded_arr)"
   ]
  },
  {
   "cell_type": "code",
   "execution_count": 11,
   "metadata": {},
   "outputs": [
    {
     "name": "stdout",
     "output_type": "stream",
     "text": [
      "[5 7 9]\n"
     ]
    }
   ],
   "source": [
    "# Multi array calculations\n",
    "arr1 = np.array([1, 2, 3])\n",
    "arr2 = np.array([4, 5, 6])\n",
    "\n",
    "summed = np.array(list(map(lambda x, y: x + y, arr1, arr2)))\n",
    "print(summed)"
   ]
  },
  {
   "cell_type": "code",
   "execution_count": null,
   "metadata": {},
   "outputs": [
    {
     "name": "stdout",
     "output_type": "stream",
     "text": [
      "[0.25 0.5  0.75 1.  ]\n"
     ]
    }
   ],
   "source": [
    "# Efficient filtering and transformation\n",
    "arr = np.array([10, 20, 30, 40])\n",
    "\n",
    "# Normalize to range [0, 1]\n",
    "normalized = np.array(list(map(lambda x: x / max(arr), arr)))\n",
    "print(normalized)\n"
   ]
  },
  {
   "cell_type": "markdown",
   "metadata": {},
   "source": [
    "#### Use case with pandas and numpy"
   ]
  },
  {
   "cell_type": "code",
   "execution_count": 16,
   "metadata": {},
   "outputs": [
    {
     "name": "stdout",
     "output_type": "stream",
     "text": [
      "   Value  Normalized\n",
      "0     10        0.25\n",
      "1     20        0.50\n",
      "2     30        0.75\n",
      "3     40        1.00\n"
     ]
    }
   ],
   "source": [
    "df = pd.DataFrame({'Value': [10, 20, 30, 40]})\n",
    "\n",
    "df['Normalized'] = df['Value'].map(lambda x: x / np.max(df['Value']))\n",
    "print(df)"
   ]
  },
  {
   "cell_type": "markdown",
   "metadata": {},
   "source": [
    "## Reduce\n",
    "\n",
    "In this example, the lambda function lambda x, y: x * y takes two arguments x and y, and returns their product. The reduce() function applies this lambda function to the first two elements of the list, then uses the result as one of the arguments for the next pair, continuing until all elements have been processed. The final result is the product of all the numbers in the list."
   ]
  },
  {
   "cell_type": "code",
   "execution_count": 5,
   "metadata": {},
   "outputs": [
    {
     "name": "stdout",
     "output_type": "stream",
     "text": [
      "120\n"
     ]
    }
   ],
   "source": [
    "from functools import reduce\n",
    "numbers = [1,2,3,4,5]\n",
    "\n",
    "product = reduce(lambda x, y: x * y, numbers)\n",
    "print(product)"
   ]
  }
 ],
 "metadata": {
  "kernelspec": {
   "display_name": "Python 3",
   "language": "python",
   "name": "python3"
  },
  "language_info": {
   "codemirror_mode": {
    "name": "ipython",
    "version": 3
   },
   "file_extension": ".py",
   "mimetype": "text/x-python",
   "name": "python",
   "nbconvert_exporter": "python",
   "pygments_lexer": "ipython3",
   "version": "3.12.9"
  }
 },
 "nbformat": 4,
 "nbformat_minor": 2
}
