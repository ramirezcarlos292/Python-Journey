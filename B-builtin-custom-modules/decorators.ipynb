{
 "cells": [
  {
   "cell_type": "markdown",
   "metadata": {},
   "source": [
    "# Decorators\n",
    "A function that extends the bahavior of another function without modifying the base function.\n",
    "\n",
    "https://www.youtube.com/watch?v=U-G-mSd4KAE&t=293s"
   ]
  },
  {
   "cell_type": "code",
   "execution_count": null,
   "metadata": {},
   "outputs": [],
   "source": [
    "def add_sprinkles(func):\n",
    "    def wrapper(*args, **kwargs):\n",
    "        print(\"You add sprinkles*\")\n",
    "        func(*args, **kwargs)\n",
    "    return wrapper\n",
    "\n",
    "def add_fudge(func):\n",
    "    def wrapper(*args, **kwargs):\n",
    "        print(\"You add fudge*\")\n",
    "        func(*args, **kwargs)\n",
    "    return wrapper\n",
    "\n",
    "@add_sprinkles\n",
    "@add_fudge\n",
    "def get_ice_cream(flavor):\n",
    "    print(f\"Here is your {flavor} ice cream\")\n",
    "    \n",
    "get_ice_cream(\"vanilla\")"
   ]
  },
  {
   "cell_type": "markdown",
   "metadata": {},
   "source": [
    "# A Beginner’s Guide to Python Decorators: Top 10 Use Cases\n",
    "https://python.plainenglish.io/a-beginners-guide-to-python-decorators-top-10-use-cases-ced20fa5352a"
   ]
  },
  {
   "cell_type": "markdown",
   "metadata": {},
   "source": [
    " ## 1. Logging\n",
    " Logging functions execution."
   ]
  },
  {
   "cell_type": "code",
   "execution_count": 9,
   "metadata": {},
   "outputs": [
    {
     "name": "stdout",
     "output_type": "stream",
     "text": [
      "Calling function add with args: (5, 2), kwargs: {}\n",
      "add return 7\n"
     ]
    },
    {
     "data": {
      "text/plain": [
       "7"
      ]
     },
     "execution_count": 9,
     "metadata": {},
     "output_type": "execute_result"
    }
   ],
   "source": [
    "def log_function_call(func):\n",
    "    def wrapper(*args, **kwargs):\n",
    "        print(f\"Calling function {func.__name__} with args: {args}, kwargs: {kwargs}\")\n",
    "        result = func(*args, **kwargs)\n",
    "        print(f\"{func.__name__} return {result}\")\n",
    "        return result\n",
    "    return wrapper\n",
    "\n",
    "@log_function_call\n",
    "def add(a, b):\n",
    "    return a + b\n",
    "\n",
    "add(5, 2)"
   ]
  },
  {
   "cell_type": "markdown",
   "metadata": {},
   "source": [
    "## 2. Authentication\n",
    "To enforce authentication before allowing access to specific functions or routes in web applications"
   ]
  },
  {
   "cell_type": "code",
   "execution_count": 10,
   "metadata": {},
   "outputs": [],
   "source": [
    "def authenticate(func):\n",
    "    def wrapper(*args, **kwargs):\n",
    "        if user_is_authenticated():\n",
    "            return func(*args, **kwargs)\n",
    "        else:\n",
    "            return \"Access Denied\"\n",
    "    return wrapper\n",
    "\n",
    "@authenticate\n",
    "def protected_resource():\n",
    "    return \"This is a protected resource\""
   ]
  },
  {
   "cell_type": "markdown",
   "metadata": {},
   "source": [
    "## 3. Timing Functions\n",
    "Measure execution time of functions, handy for profiling and optimizing your code"
   ]
  },
  {
   "cell_type": "code",
   "execution_count": 11,
   "metadata": {},
   "outputs": [
    {
     "name": "stdout",
     "output_type": "stream",
     "text": [
      "slow_function took 2.001009941101074 seconds to execute.\n"
     ]
    }
   ],
   "source": [
    "import time\n",
    "\n",
    "def time_it(func):\n",
    "    def wrapper(*args, **kwargs):\n",
    "        start_time = time.time()\n",
    "        result = func(*args, **kwargs) # decorating the input function\n",
    "        end_time = time.time()\n",
    "        print(f\"{func.__name__} took {end_time - start_time} seconds to execute.\")\n",
    "        return result\n",
    "    return wrapper\n",
    "\n",
    "@time_it\n",
    "def slow_function():\n",
    "    time.sleep(2)\n",
    "\n",
    "slow_function()        "
   ]
  },
  {
   "cell_type": "markdown",
   "metadata": {},
   "source": [
    "## 4. Caching\n",
    "As caching mechanism, store and reuse function results, improving performance when doing expensive calculations."
   ]
  },
  {
   "cell_type": "code",
   "execution_count": 18,
   "metadata": {},
   "outputs": [
    {
     "name": "stdout",
     "output_type": "stream",
     "text": [
      "wrapper took 0.0 seconds to execute.\n",
      "wrapper took 0.0 seconds to execute.\n",
      "wrapper took 0.0010094642639160156 seconds to execute.\n",
      "wrapper took 0.0 seconds to execute.\n",
      "wrapper took 0.0010094642639160156 seconds to execute.\n",
      "wrapper took 0.0 seconds to execute.\n",
      "wrapper took 0.0010094642639160156 seconds to execute.\n",
      "wrapper took 0.0 seconds to execute.\n",
      "wrapper took 0.0010094642639160156 seconds to execute.\n",
      "wrapper took 0.0 seconds to execute.\n",
      "wrapper took 0.0010094642639160156 seconds to execute.\n",
      "wrapper took 0.0 seconds to execute.\n",
      "wrapper took 0.0010094642639160156 seconds to execute.\n",
      "wrapper took 0.0 seconds to execute.\n",
      "wrapper took 0.0010094642639160156 seconds to execute.\n",
      "wrapper took 0.0 seconds to execute.\n",
      "wrapper took 0.0010094642639160156 seconds to execute.\n",
      "wrapper took 0.0 seconds to execute.\n",
      "wrapper took 0.0010094642639160156 seconds to execute.\n",
      "wrapper took 0.0 seconds to execute.\n",
      "wrapper took 0.0010094642639160156 seconds to execute.\n",
      "wrapper took 0.0 seconds to execute.\n",
      "wrapper took 0.0010094642639160156 seconds to execute.\n",
      "wrapper took 0.0 seconds to execute.\n",
      "wrapper took 0.0010094642639160156 seconds to execute.\n",
      "wrapper took 0.0 seconds to execute.\n",
      "wrapper took 0.0010094642639160156 seconds to execute.\n",
      "wrapper took 0.0 seconds to execute.\n",
      "wrapper took 0.0010094642639160156 seconds to execute.\n",
      "wrapper took 0.0 seconds to execute.\n",
      "wrapper took 0.0010094642639160156 seconds to execute.\n",
      "wrapper took 0.0 seconds to execute.\n",
      "wrapper took 0.0010094642639160156 seconds to execute.\n",
      "wrapper took 0.0 seconds to execute.\n",
      "wrapper took 0.0010094642639160156 seconds to execute.\n",
      "wrapper took 0.0 seconds to execute.\n",
      "wrapper took 0.0010094642639160156 seconds to execute.\n",
      "wrapper took 0.0 seconds to execute.\n",
      "wrapper took 0.0010094642639160156 seconds to execute.\n",
      "wrapper took 0.0 seconds to execute.\n",
      "wrapper took 0.0010094642639160156 seconds to execute.\n",
      "wrapper took 0.0 seconds to execute.\n",
      "wrapper took 0.0010094642639160156 seconds to execute.\n",
      "wrapper took 0.0 seconds to execute.\n",
      "wrapper took 0.0010094642639160156 seconds to execute.\n",
      "wrapper took 0.0 seconds to execute.\n",
      "wrapper took 0.0010094642639160156 seconds to execute.\n",
      "wrapper took 0.0 seconds to execute.\n",
      "wrapper took 0.0010094642639160156 seconds to execute.\n",
      "wrapper took 0.0 seconds to execute.\n",
      "wrapper took 0.0010094642639160156 seconds to execute.\n",
      "wrapper took 0.0 seconds to execute.\n",
      "wrapper took 0.0010094642639160156 seconds to execute.\n",
      "wrapper took 0.0 seconds to execute.\n",
      "wrapper took 0.0010094642639160156 seconds to execute.\n",
      "wrapper took 0.0 seconds to execute.\n",
      "wrapper took 0.0010094642639160156 seconds to execute.\n",
      "wrapper took 0.0 seconds to execute.\n",
      "wrapper took 0.0010094642639160156 seconds to execute.\n",
      "wrapper took 0.0 seconds to execute.\n",
      "wrapper took 0.0010094642639160156 seconds to execute.\n",
      "wrapper took 0.0 seconds to execute.\n",
      "wrapper took 0.0010094642639160156 seconds to execute.\n",
      "wrapper took 0.0 seconds to execute.\n",
      "wrapper took 0.0010094642639160156 seconds to execute.\n",
      "wrapper took 0.0 seconds to execute.\n",
      "wrapper took 0.0010094642639160156 seconds to execute.\n",
      "wrapper took 0.0 seconds to execute.\n",
      "wrapper took 0.0010094642639160156 seconds to execute.\n",
      "wrapper took 0.0 seconds to execute.\n",
      "wrapper took 0.0010094642639160156 seconds to execute.\n",
      "wrapper took 0.0 seconds to execute.\n",
      "wrapper took 0.0010094642639160156 seconds to execute.\n",
      "wrapper took 0.0 seconds to execute.\n",
      "wrapper took 0.0010094642639160156 seconds to execute.\n",
      "wrapper took 0.0 seconds to execute.\n",
      "wrapper took 0.0010094642639160156 seconds to execute.\n",
      "wrapper took 0.0 seconds to execute.\n",
      "wrapper took 0.0010094642639160156 seconds to execute.\n",
      "wrapper took 0.0 seconds to execute.\n",
      "wrapper took 0.0010094642639160156 seconds to execute.\n",
      "wrapper took 0.0 seconds to execute.\n",
      "wrapper took 0.0010094642639160156 seconds to execute.\n",
      "wrapper took 0.0 seconds to execute.\n",
      "wrapper took 0.0010094642639160156 seconds to execute.\n",
      "wrapper took 0.0 seconds to execute.\n",
      "wrapper took 0.0010094642639160156 seconds to execute.\n",
      "wrapper took 0.0 seconds to execute.\n",
      "wrapper took 0.0010094642639160156 seconds to execute.\n",
      "wrapper took 0.0 seconds to execute.\n",
      "wrapper took 0.0010094642639160156 seconds to execute.\n",
      "wrapper took 0.0 seconds to execute.\n",
      "wrapper took 0.0010094642639160156 seconds to execute.\n",
      "wrapper took 0.0 seconds to execute.\n",
      "wrapper took 0.0010094642639160156 seconds to execute.\n",
      "wrapper took 0.0 seconds to execute.\n",
      "wrapper took 0.0010094642639160156 seconds to execute.\n",
      "wrapper took 0.0 seconds to execute.\n",
      "wrapper took 0.0010094642639160156 seconds to execute.\n",
      "wrapper took 0.0 seconds to execute.\n",
      "wrapper took 0.0010094642639160156 seconds to execute.\n",
      "wrapper took 0.0 seconds to execute.\n",
      "wrapper took 0.0010094642639160156 seconds to execute.\n",
      "wrapper took 0.0 seconds to execute.\n",
      "wrapper took 0.0010094642639160156 seconds to execute.\n",
      "wrapper took 0.0 seconds to execute.\n",
      "wrapper took 0.0010094642639160156 seconds to execute.\n",
      "wrapper took 0.0 seconds to execute.\n",
      "wrapper took 0.0010094642639160156 seconds to execute.\n",
      "wrapper took 0.0 seconds to execute.\n",
      "wrapper took 0.0010094642639160156 seconds to execute.\n",
      "wrapper took 0.0 seconds to execute.\n",
      "wrapper took 0.0010094642639160156 seconds to execute.\n",
      "wrapper took 0.0 seconds to execute.\n",
      "wrapper took 0.0010094642639160156 seconds to execute.\n",
      "wrapper took 0.0 seconds to execute.\n",
      "wrapper took 0.0010094642639160156 seconds to execute.\n",
      "wrapper took 0.0 seconds to execute.\n",
      "wrapper took 0.0010094642639160156 seconds to execute.\n",
      "wrapper took 0.0 seconds to execute.\n",
      "wrapper took 0.0010094642639160156 seconds to execute.\n",
      "wrapper took 0.0 seconds to execute.\n",
      "wrapper took 0.0010094642639160156 seconds to execute.\n",
      "wrapper took 0.0 seconds to execute.\n",
      "wrapper took 0.0010094642639160156 seconds to execute.\n",
      "wrapper took 0.0 seconds to execute.\n",
      "wrapper took 0.0010094642639160156 seconds to execute.\n",
      "wrapper took 0.0 seconds to execute.\n",
      "wrapper took 0.0010094642639160156 seconds to execute.\n",
      "wrapper took 0.0 seconds to execute.\n",
      "wrapper took 0.0010094642639160156 seconds to execute.\n",
      "wrapper took 0.0 seconds to execute.\n",
      "wrapper took 0.0010094642639160156 seconds to execute.\n",
      "wrapper took 0.0 seconds to execute.\n",
      "wrapper took 0.0010094642639160156 seconds to execute.\n",
      "wrapper took 0.0 seconds to execute.\n",
      "wrapper took 0.0010094642639160156 seconds to execute.\n",
      "wrapper took 0.0 seconds to execute.\n",
      "wrapper took 0.0010094642639160156 seconds to execute.\n",
      "wrapper took 0.0 seconds to execute.\n",
      "wrapper took 0.0010094642639160156 seconds to execute.\n",
      "wrapper took 0.0 seconds to execute.\n",
      "wrapper took 0.0010094642639160156 seconds to execute.\n",
      "wrapper took 0.0 seconds to execute.\n",
      "wrapper took 0.0010094642639160156 seconds to execute.\n",
      "wrapper took 0.0 seconds to execute.\n",
      "wrapper took 0.0010094642639160156 seconds to execute.\n",
      "wrapper took 0.0 seconds to execute.\n",
      "wrapper took 0.0010094642639160156 seconds to execute.\n",
      "wrapper took 0.0 seconds to execute.\n",
      "wrapper took 0.0010094642639160156 seconds to execute.\n",
      "wrapper took 0.0 seconds to execute.\n",
      "wrapper took 0.0010094642639160156 seconds to execute.\n",
      "wrapper took 0.0 seconds to execute.\n",
      "wrapper took 0.0010094642639160156 seconds to execute.\n",
      "wrapper took 0.0 seconds to execute.\n",
      "wrapper took 0.0010094642639160156 seconds to execute.\n",
      "wrapper took 0.0 seconds to execute.\n",
      "wrapper took 0.0010094642639160156 seconds to execute.\n",
      "wrapper took 0.0 seconds to execute.\n",
      "wrapper took 0.0010094642639160156 seconds to execute.\n",
      "wrapper took 0.0 seconds to execute.\n",
      "wrapper took 0.0010094642639160156 seconds to execute.\n",
      "wrapper took 0.0 seconds to execute.\n",
      "wrapper took 0.0010094642639160156 seconds to execute.\n",
      "wrapper took 0.0 seconds to execute.\n",
      "wrapper took 0.0010094642639160156 seconds to execute.\n",
      "wrapper took 0.0 seconds to execute.\n",
      "wrapper took 0.0010094642639160156 seconds to execute.\n",
      "wrapper took 0.0 seconds to execute.\n",
      "wrapper took 0.0010094642639160156 seconds to execute.\n",
      "wrapper took 0.0 seconds to execute.\n",
      "wrapper took 0.0010094642639160156 seconds to execute.\n",
      "wrapper took 0.0 seconds to execute.\n",
      "wrapper took 0.0010094642639160156 seconds to execute.\n",
      "wrapper took 0.0 seconds to execute.\n",
      "wrapper took 0.0010094642639160156 seconds to execute.\n",
      "wrapper took 0.0 seconds to execute.\n",
      "wrapper took 0.0010094642639160156 seconds to execute.\n",
      "wrapper took 0.0 seconds to execute.\n",
      "wrapper took 0.0010094642639160156 seconds to execute.\n",
      "wrapper took 0.0 seconds to execute.\n",
      "wrapper took 0.0010094642639160156 seconds to execute.\n",
      "wrapper took 0.0 seconds to execute.\n",
      "wrapper took 0.0010094642639160156 seconds to execute.\n",
      "wrapper took 0.0 seconds to execute.\n",
      "wrapper took 0.0010094642639160156 seconds to execute.\n",
      "wrapper took 0.0 seconds to execute.\n",
      "wrapper took 0.0010094642639160156 seconds to execute.\n",
      "wrapper took 0.0 seconds to execute.\n",
      "wrapper took 0.0010094642639160156 seconds to execute.\n",
      "wrapper took 0.0 seconds to execute.\n",
      "wrapper took 0.0010094642639160156 seconds to execute.\n",
      "wrapper took 0.0 seconds to execute.\n",
      "wrapper took 0.002009868621826172 seconds to execute.\n",
      "wrapper took 0.0 seconds to execute.\n",
      "wrapper took 0.002009868621826172 seconds to execute.\n",
      "wrapper took 0.0 seconds to execute.\n",
      "wrapper took 0.002009868621826172 seconds to execute.\n"
     ]
    },
    {
     "data": {
      "text/plain": [
       "354224848179261915075"
      ]
     },
     "execution_count": 18,
     "metadata": {},
     "output_type": "execute_result"
    }
   ],
   "source": [
    "def cache(func):\n",
    "    cache_dict = {}\n",
    "    \n",
    "    def wrapper(*args):\n",
    "        if args in cache_dict:\n",
    "            return cache_dict[args]\n",
    "        result = func(*args)\n",
    "        cache_dict[args] = result\n",
    "        return result\n",
    "    return wrapper\n",
    "\n",
    "@time_it\n",
    "@cache # comment this line if you want try the fib without caching, takes more steps hereby longer to run\n",
    "def fibonacci(n):\n",
    "    if n <= 1:\n",
    "        return n\n",
    "    else:\n",
    "        return fibonacci(n-1) + fibonacci(n-2)\n",
    "\n",
    "fibonacci(100)\n"
   ]
  },
  {
   "cell_type": "markdown",
   "metadata": {},
   "source": []
  }
 ],
 "metadata": {
  "kernelspec": {
   "display_name": "Python 3",
   "language": "python",
   "name": "python3"
  },
  "language_info": {
   "codemirror_mode": {
    "name": "ipython",
    "version": 3
   },
   "file_extension": ".py",
   "mimetype": "text/x-python",
   "name": "python",
   "nbconvert_exporter": "python",
   "pygments_lexer": "ipython3",
   "version": "3.12.9"
  }
 },
 "nbformat": 4,
 "nbformat_minor": 2
}
